{
 "cells": [
  {
   "cell_type": "code",
   "execution_count": 2,
   "id": "75da6dc4",
   "metadata": {},
   "outputs": [],
   "source": [
    "import spacy\n",
    "nlp = spacy.load('en_core_web_sm')"
   ]
  },
  {
   "cell_type": "code",
   "execution_count": 3,
   "id": "6653dcac",
   "metadata": {},
   "outputs": [
    {
     "name": "stdout",
     "output_type": "stream",
     "text": [
      "John \t PROPN \t 11174346320140919546 \t John\n",
      "Adam \t PROPN \t 14264057329400597350 \t Adam\n",
      "is \t AUX \t 10382539506755952630 \t be\n",
      "one \t NUM \t 17454115351911680600 \t one\n",
      "the \t DET \t 7425985699627899538 \t the\n",
      "researcher \t NOUN \t 1317581537614213870 \t researcher\n",
      "who \t PRON \t 3876862883474502309 \t who\n",
      "invent \t VERB \t 5373681334090504585 \t invent\n",
      "the \t DET \t 7425985699627899538 \t the\n",
      "direction \t NOUN \t 895834437038626927 \t direction\n",
      "of \t ADP \t 886050111519832510 \t of\n",
      "way \t NOUN \t 6878210874361030284 \t way\n",
      "towards \t ADP \t 9315050841437086371 \t towards\n",
      "success \t NOUN \t 16089821935113899987 \t success\n",
      "! \t PUNCT \t 17494803046312582752 \t !\n"
     ]
    }
   ],
   "source": [
    "var1 = nlp(u\"John Adam is one the researcher who invent the direction of way towards success!\")\n",
    "\n",
    "for token in var1:\n",
    "    print(token.text, '\\t', token.pos_, '\\t', token.lemma, '\\t', token.lemma_)"
   ]
  },
  {
   "cell_type": "code",
   "execution_count": 10,
   "id": "45366ad9",
   "metadata": {},
   "outputs": [],
   "source": [
    "text = \"Hy Myself Hashmat Ali Shah...\"\n",
    "\n",
    "def showLemmas(text):\n",
    "    var = nlp(text)\n",
    "    for token in var:\n",
    "        print(f'{token.text:{12}} {token.pos_:{6}} {token.lemma:<{22}} {token.lemma_}')"
   ]
  },
  {
   "cell_type": "code",
   "execution_count": 11,
   "id": "7ef60e4a",
   "metadata": {},
   "outputs": [
    {
     "name": "stdout",
     "output_type": "stream",
     "text": [
      "Hy           PROPN  9884180262012568883    Hy\n",
      "Myself       PROPN  8324188862979398003    Myself\n",
      "Hashmat      PROPN  14984051391283040803   Hashmat\n",
      "Ali          PROPN  17723003667372429976   Ali\n",
      "Shah         PROPN  3091774358990895674    Shah\n",
      "...          PUNCT  10875615029400813363   ...\n"
     ]
    }
   ],
   "source": [
    "showLemmas(text)"
   ]
  },
  {
   "cell_type": "code",
   "execution_count": 12,
   "id": "d130fcf0",
   "metadata": {},
   "outputs": [
    {
     "name": "stdout",
     "output_type": "stream",
     "text": [
      "Try          VERB   4812066089261065646    try\n",
      "to           PART   3791531372978436496    to\n",
      "do           VERB   2158845516055552166    do\n",
      "Help         VERB   17461235395181654430   help\n",
      "Hashmat      PROPN  14984051391283040803   Hashmat\n",
      "he           PRON   1655312771067108281    he\n",
      "is           AUX    10382539506755952630   be\n",
      "in           ADP    3002984154512732771    in\n",
      "trouble      NOUN   9848679764093501677    trouble\n",
      "!            PUNCT  17494803046312582752   !\n"
     ]
    }
   ],
   "source": [
    "text = 'Try to do Help Hashmat he is in trouble!'\n",
    "showLemmas(text)"
   ]
  },
  {
   "cell_type": "code",
   "execution_count": null,
   "id": "2e5d231f",
   "metadata": {},
   "outputs": [],
   "source": [
    " "
   ]
  }
 ],
 "metadata": {
  "kernelspec": {
   "display_name": "Python 3 (ipykernel)",
   "language": "python",
   "name": "python3"
  },
  "language_info": {
   "codemirror_mode": {
    "name": "ipython",
    "version": 3
   },
   "file_extension": ".py",
   "mimetype": "text/x-python",
   "name": "python",
   "nbconvert_exporter": "python",
   "pygments_lexer": "ipython3",
   "version": "3.9.12"
  },
  "vscode": {
   "interpreter": {
    "hash": "6e282c8d1a72e8c8ee63ba2d040013488adabc893e66b0760e7ae27115a80636"
   }
  }
 },
 "nbformat": 4,
 "nbformat_minor": 5
}
