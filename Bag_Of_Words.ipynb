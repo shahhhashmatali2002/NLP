{
 "cells": [
  {
   "cell_type": "code",
   "execution_count": 56,
   "id": "d4d13697",
   "metadata": {},
   "outputs": [],
   "source": [
    "from sklearn.feature_extraction.text import CountVectorizer\n",
    "#list of text documents\n",
    "text = ['The quick brown for jumped over the lazy dog.']"
   ]
  },
  {
   "cell_type": "code",
   "execution_count": 57,
   "id": "5092b9bf",
   "metadata": {},
   "outputs": [
    {
     "name": "stdout",
     "output_type": "stream",
     "text": [
      "{'the': 7, 'quick': 6, 'brown': 0, 'for': 2, 'jumped': 3, 'over': 5, 'lazy': 4, 'dog': 1}\n"
     ]
    }
   ],
   "source": [
    "# create the transform\n",
    "vectorizer = CountVectorizer()\n",
    "# tokenize and build vocab\n",
    "vectorizer.fit(text)\n",
    "# summarize\n",
    "print(vectorizer.vocabulary_)"
   ]
  },
  {
   "cell_type": "code",
   "execution_count": 58,
   "id": "a316fcf3",
   "metadata": {},
   "outputs": [
    {
     "name": "stdout",
     "output_type": "stream",
     "text": [
      "(1, 8)\n",
      "<class 'scipy.sparse.csr.csr_matrix'>\n",
      "[[1 1 1 1 1 1 1 2]]\n"
     ]
    }
   ],
   "source": [
    "# unique id like the: 7 quick: 6\n",
    "\n",
    "# encode document\n",
    "vector = vectorizer.transform(text)\n",
    "#summarize encoded vector\n",
    "# here we are checking length of string if any string will be repeated this will be count just 1 in vector.shape\n",
    "print(vector.shape)\n",
    "\n",
    "print(type(vector))\n",
    "# here are we are how much time string repeating like The string is two times in text\n",
    "print(vector.toarray())"
   ]
  },
  {
   "cell_type": "code",
   "execution_count": 59,
   "id": "5e6ed5c2",
   "metadata": {},
   "outputs": [],
   "source": [
    "import numpy as np\n",
    "import re\n",
    "\n",
    "'''The first function we will implement is to extract teh wrods from a document using regulat expressions.\n",
    "As we do so, we will be converting all words to lower case and exclude our stops words.'''\n",
    "\n",
    "def tokenize_sentences(sentences):\n",
    "    words = []\n",
    "    for sentence in sentences:\n",
    "        w = extract_words(sentence)\n",
    "        words.extend(w)\n",
    "    words = sorted(list(set(words)))\n",
    "    return words"
   ]
  },
  {
   "cell_type": "code",
   "execution_count": 60,
   "id": "09981d78",
   "metadata": {},
   "outputs": [],
   "source": [
    "'''Next we implement our tokenize_sentences function. This function builds our vocublary by looping thorugh \n",
    "all our documents (sentences), extracting the words from each, remobing duplicates usig the set function and\n",
    "returning a sorted list of words.'''\n",
    "def extract_words(sentences):\n",
    "    ingnore_words = ['a']\n",
    "    words = re.sub(\"[^w]\", \" \", sentences).split() #nltk.word_tokenize(sentence)\n",
    "    words_cleaned = [w.lower() for w in words if w not in ingore_words]\n",
    "    return words_cleaned"
   ]
  },
  {
   "cell_type": "code",
   "execution_count": 61,
   "id": "692a900b",
   "metadata": {},
   "outputs": [],
   "source": [
    "def bagofwords(sentence, words):\n",
    "    sentence_words = extract_words(sentence)\n",
    "    #frequency word count\n",
    "    bag = np.zeros(len(words))\n",
    "    for sw in sentence_words:\n",
    "        for i in enumerate(words):\n",
    "            if word == sw:\n",
    "                bag[i] += 1\n",
    "    return np.array(bag)"
   ]
  },
  {
   "cell_type": "code",
   "execution_count": 62,
   "id": "e16541ab",
   "metadata": {},
   "outputs": [],
   "source": [
    "'''Our last function is the implement of the bag words model. This funciotn toakes as input of a sentence\n",
    "and words (our vocabulary). It then extracts the words from the input sentence using the previously defined funciton\n",
    "It creates a vector of zeros usgin numpy zeros function with a length of teh number of words in our vocabulary.'''\n",
    "\n",
    "sentences = [\"Machine learning is greate\",\"Natural Language Processing is a complex field\", \"Natural Language Processing is used in maching learning\"]"
   ]
  },
  {
   "cell_type": "code",
   "execution_count": 64,
   "id": "7e764360",
   "metadata": {},
   "outputs": [
    {
     "data": {
      "text/plain": [
       "array([[0, 0, 1, 0, 1, 0, 1, 1, 0, 0, 0, 0],\n",
       "       [1, 1, 0, 0, 1, 1, 0, 0, 0, 1, 1, 0],\n",
       "       [0, 0, 0, 1, 1, 1, 1, 0, 1, 1, 1, 1]], dtype=int64)"
      ]
     },
     "execution_count": 64,
     "metadata": {},
     "output_type": "execute_result"
    }
   ],
   "source": [
    "vocabulary = tokenize_sentences(sentences)\n",
    "bagofwords(\"Machine learning is great\", vocabulary)\n",
    "\n",
    "vectorizer = CountVectorizer(analyzer = \"word\", tokenizer = None, preprocessor = None, stop_words = None, max_features = 5000)\n",
    "train_data_features = vectorizer.fit_transform(sentences)\n",
    "vectorizer.transform([\"Machine learning is greate\",\"Natural Language Processing is a complex field\", \"Natural Language Processing is used in maching learning\"]).toarray()\n"
   ]
  },
  {
   "cell_type": "code",
   "execution_count": null,
   "id": "83a08dbb",
   "metadata": {},
   "outputs": [],
   "source": []
  }
 ],
 "metadata": {
  "kernelspec": {
   "display_name": "Python 3 (ipykernel)",
   "language": "python",
   "name": "python3"
  },
  "language_info": {
   "codemirror_mode": {
    "name": "ipython",
    "version": 3
   },
   "file_extension": ".py",
   "mimetype": "text/x-python",
   "name": "python",
   "nbconvert_exporter": "python",
   "pygments_lexer": "ipython3",
   "version": "3.9.12"
  }
 },
 "nbformat": 4,
 "nbformat_minor": 5
}
