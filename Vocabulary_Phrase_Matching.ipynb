{
 "cells": [
  {
   "cell_type": "code",
   "execution_count": 163,
   "id": "635e8f85",
   "metadata": {},
   "outputs": [
    {
     "name": "stderr",
     "output_type": "stream",
     "text": [
      "C:\\Users\\HashmatAli\\anaconda3\\lib\\site-packages\\spacy\\util.py:873: UserWarning: [W094] Model 'en_core_web_sm' (2.2.5) specifies an under-constrained spaCy version requirement: >=2.2.2. This can lead to compatibility problems with older versions, or as new spaCy versions are released, because the model may say it's compatible when it's not. Consider changing the \"spacy_version\" in your meta.json to a version range, with a lower and upper pin. For example: >=3.4.1,<3.5.0\n",
      "  model_version=meta[\"version\"],\n"
     ]
    },
    {
     "name": "stdout",
     "output_type": "stream",
     "text": [
      "Unexpected exception formatting exception. Falling back to standard exception\n"
     ]
    },
    {
     "name": "stderr",
     "output_type": "stream",
     "text": [
      "Traceback (most recent call last):\n",
      "  File \"C:\\Users\\HashmatAli\\anaconda3\\lib\\site-packages\\IPython\\core\\interactiveshell.py\", line 3369, in run_code\n",
      "    exec(code_obj, self.user_global_ns, self.user_ns)\n",
      "  File \"C:\\Users\\HashmatAli\\AppData\\Local\\Temp\\ipykernel_11024\\941844253.py\", line 3, in <cell line: 3>\n",
      "    nlp = spacy.load('en_core_web_sm')\n",
      "  File \"C:\\Users\\HashmatAli\\anaconda3\\lib\\site-packages\\spacy\\__init__.py\", line 54, in load\n",
      "    return util.load_model(\n",
      "  File \"C:\\Users\\HashmatAli\\anaconda3\\lib\\site-packages\\spacy\\util.py\", line 429, in load_model\n",
      "    if name.startswith(\"blank:\"):  # shortcut for blank model\n",
      "  File \"C:\\Users\\HashmatAli\\anaconda3\\lib\\site-packages\\spacy\\util.py\", line 465, in load_model_from_package\n",
      "    RETURNS (Language): The loaded nlp object.\n",
      "  File \"C:\\Users\\HashmatAli\\anaconda3\\lib\\site-packages\\en_core_web_sm\\__init__.py\", line 10, in load\n",
      "  File \"C:\\Users\\HashmatAli\\anaconda3\\lib\\site-packages\\spacy\\util.py\", line 646, in load_model_from_init_py\n",
      "    data_path = model_path / data_dir\n",
      "  File \"C:\\Users\\HashmatAli\\anaconda3\\lib\\site-packages\\spacy\\util.py\", line 502, in load_model_from_path\n",
      "    meta = get_model_meta(model_path)\n",
      "  File \"C:\\Users\\HashmatAli\\anaconda3\\lib\\site-packages\\spacy\\util.py\", line 678, in load_config\n",
      "    )\n",
      "OSError: [E053] Could not read config file from C:\\Users\\HashmatAli\\anaconda3\\lib\\site-packages\\en_core_web_sm\\en_core_web_sm-2.2.5\\config.cfg\n",
      "\n",
      "During handling of the above exception, another exception occurred:\n",
      "\n",
      "Traceback (most recent call last):\n",
      "  File \"C:\\Users\\HashmatAli\\anaconda3\\lib\\site-packages\\IPython\\core\\interactiveshell.py\", line 1982, in showtraceback\n",
      "    stb = self.InteractiveTB.structured_traceback(\n",
      "  File \"C:\\Users\\HashmatAli\\anaconda3\\lib\\site-packages\\IPython\\core\\ultratb.py\", line 1118, in structured_traceback\n",
      "    return FormattedTB.structured_traceback(\n",
      "  File \"C:\\Users\\HashmatAli\\anaconda3\\lib\\site-packages\\IPython\\core\\ultratb.py\", line 1012, in structured_traceback\n",
      "    return VerboseTB.structured_traceback(\n",
      "  File \"C:\\Users\\HashmatAli\\anaconda3\\lib\\site-packages\\IPython\\core\\ultratb.py\", line 865, in structured_traceback\n",
      "    formatted_exception = self.format_exception_as_a_whole(etype, evalue, etb, number_of_lines_of_context,\n",
      "  File \"C:\\Users\\HashmatAli\\anaconda3\\lib\\site-packages\\IPython\\core\\ultratb.py\", line 818, in format_exception_as_a_whole\n",
      "    frames.append(self.format_record(r))\n",
      "  File \"C:\\Users\\HashmatAli\\anaconda3\\lib\\site-packages\\IPython\\core\\ultratb.py\", line 736, in format_record\n",
      "    result += ''.join(_format_traceback_lines(frame_info.lines, Colors, self.has_colors, lvals))\n",
      "  File \"C:\\Users\\HashmatAli\\anaconda3\\lib\\site-packages\\stack_data\\utils.py\", line 145, in cached_property_wrapper\n",
      "    value = obj.__dict__[self.func.__name__] = self.func(obj)\n",
      "  File \"C:\\Users\\HashmatAli\\anaconda3\\lib\\site-packages\\stack_data\\core.py\", line 698, in lines\n",
      "    pieces = self.included_pieces\n",
      "  File \"C:\\Users\\HashmatAli\\anaconda3\\lib\\site-packages\\stack_data\\utils.py\", line 145, in cached_property_wrapper\n",
      "    value = obj.__dict__[self.func.__name__] = self.func(obj)\n",
      "  File \"C:\\Users\\HashmatAli\\anaconda3\\lib\\site-packages\\stack_data\\core.py\", line 649, in included_pieces\n",
      "    pos = scope_pieces.index(self.executing_piece)\n",
      "  File \"C:\\Users\\HashmatAli\\anaconda3\\lib\\site-packages\\stack_data\\utils.py\", line 145, in cached_property_wrapper\n",
      "    value = obj.__dict__[self.func.__name__] = self.func(obj)\n",
      "  File \"C:\\Users\\HashmatAli\\anaconda3\\lib\\site-packages\\stack_data\\core.py\", line 628, in executing_piece\n",
      "    return only(\n",
      "  File \"C:\\Users\\HashmatAli\\anaconda3\\lib\\site-packages\\executing\\executing.py\", line 164, in only\n",
      "    raise NotOneValueFound('Expected one value, found 0')\n",
      "executing.executing.NotOneValueFound: Expected one value, found 0\n"
     ]
    }
   ],
   "source": [
    "# perform standard imports\n",
    "import spacy\n",
    "nlp = spacy.load('en_core_web_sm')"
   ]
  },
  {
   "cell_type": "code",
   "execution_count": 164,
   "id": "21a4966e",
   "metadata": {},
   "outputs": [],
   "source": [
    "# import the match library\n",
    "from spacy.matcher import Matcher\n",
    "matcher = Matcher(nlp.vocab)"
   ]
  },
  {
   "cell_type": "code",
   "execution_count": 165,
   "id": "ee0a4854",
   "metadata": {},
   "outputs": [],
   "source": [
    "pattern1 = [{'LOWER': 'solarpower'}]\n",
    "pattern2 = [{'LOWER': 'solar'}, {'LOWER': 'power'}]\n",
    "pattern3 = [{'LOWER': 'solar'}, {'IS_PUNCT': True}, {'LOWER': 'power'}]\n",
    "\n",
    "matcher.add('SolarPower', [pattern1, pattern2, pattern3],on_match=None)"
   ]
  },
  {
   "cell_type": "code",
   "execution_count": 166,
   "id": "a2ce12a0",
   "metadata": {},
   "outputs": [],
   "source": [
    "doc = nlp(u\"The Solar Power industry continues to grow a solarpower increases. Solar-power is good\")"
   ]
  },
  {
   "cell_type": "code",
   "execution_count": 167,
   "id": "aa8fb303",
   "metadata": {},
   "outputs": [
    {
     "name": "stdout",
     "output_type": "stream",
     "text": [
      "[(8656102463236116519, 1, 3), (8656102463236116519, 8, 9), (8656102463236116519, 11, 14)]\n"
     ]
    }
   ],
   "source": [
    "found_matches = matcher(doc)\n",
    "print(found_matches)"
   ]
  },
  {
   "cell_type": "code",
   "execution_count": 168,
   "id": "d8bee6ba",
   "metadata": {},
   "outputs": [
    {
     "name": "stdout",
     "output_type": "stream",
     "text": [
      "8656102463236116519 SolarPower 1 3 Solar Power\n",
      "8656102463236116519 SolarPower 8 9 solarpower\n",
      "8656102463236116519 SolarPower 11 14 Solar-power\n"
     ]
    }
   ],
   "source": [
    "for match_id, start, end in found_matches:\n",
    "    string_id = nlp.vocab.strings[match_id]\n",
    "    span = doc[start:end]\n",
    "    print(match_id, string_id, start, end, span.text)"
   ]
  },
  {
   "cell_type": "code",
   "execution_count": 183,
   "id": "9b7bbb97",
   "metadata": {},
   "outputs": [],
   "source": [
    "pattern2 = [{'LOWER': 'solarpower'}]\n",
    "# OP if this all signs will be match in text 1 or more than 1 so will return it\n",
    "# \\!\n",
    "# ?\n",
    "# \\+\n",
    "# \\*\n",
    "# Lemma check the words pwoer or powered because in previous we have learned about the lemmatization\n",
    "pattern3 = [{'LOWER': 'solar'}, {'IS_PUNCT': True, 'OP': '*'}, {'LEMMA': 'power'}]\n",
    "\n",
    "matcher.add('SolarPower', [pattern2, pattern3],on_match=None)"
   ]
  },
  {
   "cell_type": "code",
   "execution_count": 184,
   "id": "9d18a245",
   "metadata": {},
   "outputs": [],
   "source": [
    "doc2 = nlp(u'Solar-powered energy runs solar-powered cars.')"
   ]
  },
  {
   "cell_type": "code",
   "execution_count": 185,
   "id": "ee2fd2c3",
   "metadata": {},
   "outputs": [
    {
     "name": "stdout",
     "output_type": "stream",
     "text": [
      "[(8656102463236116519, 0, 3), (8656102463236116519, 5, 8)]\n"
     ]
    }
   ],
   "source": [
    "found_matches = matcher(doc2)\n",
    "print(found_matches)"
   ]
  },
  {
   "cell_type": "code",
   "execution_count": 186,
   "id": "140dc2f1",
   "metadata": {},
   "outputs": [],
   "source": [
    "from spacy.matcher import PhraseMatcher\n",
    "mather = PhraseMatcher(nlp.vocab, attr='LOWER')"
   ]
  },
  {
   "cell_type": "code",
   "execution_count": 211,
   "id": "c380e606",
   "metadata": {},
   "outputs": [
    {
     "ename": "ValueError",
     "evalue": "[E178] Each pattern should be a list of dicts, but got: Galaxy Note. Maybe you accidentally passed a single pattern to Matcher.add instead of a list of patterns? If you only want to add one pattern, make sure to wrap it in a list. For example: `matcher.add('galaxynote', [pattern])`",
     "output_type": "error",
     "traceback": [
      "\u001b[1;31m---------------------------------------------------------------------------\u001b[0m",
      "\u001b[1;31mValueError\u001b[0m                                Traceback (most recent call last)",
      "Input \u001b[1;32mIn [211]\u001b[0m, in \u001b[0;36m<cell line: 3>\u001b[1;34m()\u001b[0m\n\u001b[0;32m      1\u001b[0m terms \u001b[38;5;241m=\u001b[39m [\u001b[38;5;124m'\u001b[39m\u001b[38;5;124mGalaxy Note\u001b[39m\u001b[38;5;124m'\u001b[39m, \u001b[38;5;124m'\u001b[39m\u001b[38;5;124miPhone 11\u001b[39m\u001b[38;5;124m'\u001b[39m, \u001b[38;5;124m'\u001b[39m\u001b[38;5;124miPhone XS\u001b[39m\u001b[38;5;124m'\u001b[39m, \u001b[38;5;124m'\u001b[39m\u001b[38;5;124mGoogle Pixel\u001b[39m\u001b[38;5;124m'\u001b[39m]\n\u001b[0;32m      2\u001b[0m patterns \u001b[38;5;241m=\u001b[39m [nlp(text) \u001b[38;5;28;01mfor\u001b[39;00m text \u001b[38;5;129;01min\u001b[39;00m terms]\n\u001b[1;32m----> 3\u001b[0m \u001b[43mmatcher\u001b[49m\u001b[38;5;241;43m.\u001b[39;49m\u001b[43madd\u001b[49m\u001b[43m(\u001b[49m\u001b[38;5;124;43m'\u001b[39;49m\u001b[38;5;124;43mgalaxynote\u001b[39;49m\u001b[38;5;124;43m'\u001b[39;49m\u001b[43m,\u001b[49m\u001b[43m \u001b[49m\u001b[43mpatterns\u001b[49m\u001b[43m,\u001b[49m\u001b[43mon_match\u001b[49m\u001b[38;5;241;43m=\u001b[39;49m\u001b[43mon_match\u001b[49m\u001b[43m)\u001b[49m\n",
      "File \u001b[1;32m~\\anaconda3\\lib\\site-packages\\spacy\\matcher\\matcher.pyx:122\u001b[0m, in \u001b[0;36mspacy.matcher.matcher.Matcher.add\u001b[1;34m()\u001b[0m\n",
      "\u001b[1;31mValueError\u001b[0m: [E178] Each pattern should be a list of dicts, but got: Galaxy Note. Maybe you accidentally passed a single pattern to Matcher.add instead of a list of patterns? If you only want to add one pattern, make sure to wrap it in a list. For example: `matcher.add('galaxynote', [pattern])`"
     ]
    }
   ],
   "source": [
    "terms = ['Galaxy Note', 'iPhone 11', 'iPhone XS', 'Google Pixel']\n",
    "patterns = [nlp(text) for text in terms]\n",
    "matcher.add('galaxynote', patterns,on_match=on_match)"
   ]
  },
  {
   "cell_type": "code",
   "execution_count": 210,
   "id": "7d4f2a1b",
   "metadata": {},
   "outputs": [
    {
     "data": {
      "text/plain": [
       "[]"
      ]
     },
     "execution_count": 210,
     "metadata": {},
     "output_type": "execute_result"
    }
   ],
   "source": [
    "text_doc = nlp(\"Glowing review overall, and some really interesting side-by-side photography tests pittig the iphone 11 Pro agains the Galaxy Note 10 plus and last year's iphone xs and Goolge Pixel 3\")\n",
    "found_matches = matcher(text_doc)\n",
    "found_matches"
   ]
  },
  {
   "cell_type": "code",
   "execution_count": 162,
   "id": "823c88cc",
   "metadata": {},
   "outputs": [
    {
     "name": "stdout",
     "output_type": "stream",
     "text": [
      "Matched! [(3004906285683798724, 22, 24)]\n"
     ]
    }
   ],
   "source": [
    "def on_match(matcher, doc, id, matches):\n",
    "    print('Matched!', matches)\n",
    "\n",
    "matcher = Matcher(nlp.vocab)\n",
    "patterns = [\n",
    "   [{\"LOWER\": \"hello\"}, {\"LOWER\": \"world\"}],\n",
    "   [{\"ORTH\": \"Google\"}, {\"ORTH\": \"Maps\"}]\n",
    "]\n",
    "\n",
    "patterns = [\n",
    "    [{'ORTH': 'Galaxy'}, {'ORTH': 'Note'}],\n",
    "    [{'ORTH': 'iPhone'}, {'ORTH': 'XS'},{'ORTH': 'iphone 11'}],\n",
    "    [{'ORTH': 'Google'},{'ORTH': 'Pixel'}, {'ORTH': 'Google Pixel'}]\n",
    "]\n",
    "matcher.add(\"TEST_PATTERNS\", patterns, on_match=on_match)\n",
    "doc = nlp(\"Glowing review overall, and some really interesting side-by-side photography tests pittig the iphone 11 Pro agains the Galaxy Note 10 plus and last year's iphone xs and Goolge Pixel 3\")\n",
    "matches = matcher(doc)\n",
    "print()"
   ]
  },
  {
   "cell_type": "code",
   "execution_count": null,
   "id": "455d3f3f",
   "metadata": {},
   "outputs": [],
   "source": []
  }
 ],
 "metadata": {
  "kernelspec": {
   "display_name": "Python 3 (ipykernel)",
   "language": "python",
   "name": "python3"
  },
  "language_info": {
   "codemirror_mode": {
    "name": "ipython",
    "version": 3
   },
   "file_extension": ".py",
   "mimetype": "text/x-python",
   "name": "python",
   "nbconvert_exporter": "python",
   "pygments_lexer": "ipython3",
   "version": "3.9.12"
  }
 },
 "nbformat": 4,
 "nbformat_minor": 5
}
