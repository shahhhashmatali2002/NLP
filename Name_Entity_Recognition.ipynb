{
 "cells": [
  {
   "cell_type": "code",
   "execution_count": 4,
   "id": "a10004c6",
   "metadata": {},
   "outputs": [],
   "source": [
    "import spacy\n",
    "nlp = spacy.load('en_core_web_sm')"
   ]
  },
  {
   "cell_type": "code",
   "execution_count": 5,
   "id": "e72b5ae5",
   "metadata": {},
   "outputs": [],
   "source": [
    "def entityRecognition(doc):\n",
    "   if doc.ents:\n",
    "     for ent in doc.ents:\n",
    "        print(f\"{ent.text} - {ent.label_} - {spacy.explain(ent.label_)}\")\n",
    "     else:\n",
    "        print('No Entity')"
   ]
  },
  {
   "cell_type": "code",
   "execution_count": 6,
   "id": "8a7052c7",
   "metadata": {},
   "outputs": [
    {
     "name": "stdout",
     "output_type": "stream",
     "text": [
      "Hashmat Ali Shah - PERSON - People, including fictional\n",
      "No Entity\n"
     ]
    }
   ],
   "source": [
    "doc = nlp(u'My Name is Hashmat Ali Shah')\n",
    "entityRecognition(doc)"
   ]
  },
  {
   "cell_type": "code",
   "execution_count": 7,
   "id": "bb413083",
   "metadata": {},
   "outputs": [
    {
     "name": "stdout",
     "output_type": "stream",
     "text": [
      "Hashmat Ali Shah - PERSON - People, including fictional\n",
      "Sind Madresatul Islam University - ORG - Companies, agencies, institutions, etc.\n",
      "Macrosoft - ORG - Companies, agencies, institutions, etc.\n",
      "No Entity\n"
     ]
    }
   ],
   "source": [
    "doc = nlp(u'My Name is Hashmat Ali Shah, I am undergraduate in Sind Madresatul Islam University. I do job in Macrosoft as a junior python developer')\n",
    "entityRecognition(doc)"
   ]
  },
  {
   "cell_type": "code",
   "execution_count": 8,
   "id": "dc854b34",
   "metadata": {},
   "outputs": [
    {
     "name": "stdout",
     "output_type": "stream",
     "text": [
      "Pakistan - GPE - Countries, cities, states\n",
      "No Entity\n"
     ]
    }
   ],
   "source": [
    "doc = nlp(u'I live in Pakistan i want to do world tour.')\n",
    "entityRecognition(doc)"
   ]
  },
  {
   "cell_type": "code",
   "execution_count": 9,
   "id": "0d6ab7eb",
   "metadata": {},
   "outputs": [],
   "source": [
    "doc = nlp(u'I like to play cricket i go to gym daily at night and i go to park to walk')\n",
    "entityRecognition(doc)"
   ]
  },
  {
   "cell_type": "code",
   "execution_count": 10,
   "id": "b02fc8f0",
   "metadata": {},
   "outputs": [
    {
     "name": "stdout",
     "output_type": "stream",
     "text": [
      "5 - MONEY - Monetary values, including unit\n",
      "five dollar - MONEY - Monetary values, including unit\n",
      "No Entity\n"
     ]
    }
   ],
   "source": [
    "doc = nlp(u'I have $5 i have spent five dollar.')\n",
    "entityRecognition(doc)"
   ]
  },
  {
   "cell_type": "code",
   "execution_count": 11,
   "id": "67c1670a",
   "metadata": {},
   "outputs": [
    {
     "name": "stdout",
     "output_type": "stream",
     "text": [
      "5 - MONEY - Monetary values, including unit\n",
      "five-dollar - MONEY - Monetary values, including unit\n",
      "No Entity\n"
     ]
    }
   ],
   "source": [
    "doc = nlp(u'I have $5 i have spent five-dollar.')\n",
    "entityRecognition(doc)"
   ]
  },
  {
   "cell_type": "code",
   "execution_count": 12,
   "id": "6a9be1a8",
   "metadata": {},
   "outputs": [
    {
     "name": "stdout",
     "output_type": "stream",
     "text": [
      "five - CARDINAL - Numerals that do not fall under another type\n",
      "Rupees - ORG - Companies, agencies, institutions, etc.\n",
      "No Entity\n"
     ]
    }
   ],
   "source": [
    "doc = nlp(u'I have RS:5 i have spent five Rupees.')\n",
    "entityRecognition(doc)"
   ]
  },
  {
   "cell_type": "code",
   "execution_count": 13,
   "id": "5c4e3a9e",
   "metadata": {},
   "outputs": [],
   "source": [
    "# Quick funciton to remove whitespace\n",
    "def remove_whitespace_entities(doc):\n",
    "    doc.ents = [e for e in doc.ents if not e.text.isspace()]\n",
    "    return doc\n",
    "\n",
    "#Insert this into the pipeline after the ner componentns\n",
    "# nlp.add_pipe(remove_whitespace_entities, after='ner')"
   ]
  },
  {
   "cell_type": "code",
   "execution_count": 14,
   "id": "59173b9e",
   "metadata": {},
   "outputs": [
    {
     "name": "stdout",
     "output_type": "stream",
     "text": [
      "Autonomous cars - nsubj - shift\n",
      "insurance liability - dobj - shift\n",
      "manufacturer - pobj - toward\n"
     ]
    }
   ],
   "source": [
    "doc = nlp(u'Autonomous cars shift insurance liability toward manufacturer')\n",
    "for chunk in doc.noun_chunks:\n",
    "    print(chunk.text+' - '+chunk.root.dep_+' - '+chunk.root.head.text)"
   ]
  },
  {
   "cell_type": "code",
   "execution_count": 15,
   "id": "17c88dae",
   "metadata": {},
   "outputs": [
    {
     "data": {
      "text/plain": [
       "3"
      ]
     },
     "execution_count": 15,
     "metadata": {},
     "output_type": "execute_result"
    }
   ],
   "source": [
    "len(list(doc.noun_chunks))"
   ]
  },
  {
   "cell_type": "code",
   "execution_count": 21,
   "id": "43af691a",
   "metadata": {},
   "outputs": [
    {
     "data": {
      "text/html": [
       "<span class=\"tex2jax_ignore\"><div class=\"entities\" style=\"line-height: 2.5; direction: ltr\">Over \n",
       "<mark class=\"entity\" style=\"background: #bfe1d9; padding: 0.45em 0.6em; margin: 0 0.25em; line-height: 1; border-radius: 0.35em;\">\n",
       "    the last quarter\n",
       "    <span style=\"font-size: 0.8em; font-weight: bold; line-height: 1; border-radius: 0.35em; vertical-align: middle; margin-left: 0.5rem\">DATE</span>\n",
       "</mark>\n",
       " \n",
       "<mark class=\"entity\" style=\"background: #7aecec; padding: 0.45em 0.6em; margin: 0 0.25em; line-height: 1; border-radius: 0.35em;\">\n",
       "    Apple\n",
       "    <span style=\"font-size: 0.8em; font-weight: bold; line-height: 1; border-radius: 0.35em; vertical-align: middle; margin-left: 0.5rem\">ORG</span>\n",
       "</mark>\n",
       " sold \n",
       "<mark class=\"entity\" style=\"background: #e4e7d2; padding: 0.45em 0.6em; margin: 0 0.25em; line-height: 1; border-radius: 0.35em;\">\n",
       "    nearly 20\n",
       "    <span style=\"font-size: 0.8em; font-weight: bold; line-height: 1; border-radius: 0.35em; vertical-align: middle; margin-left: 0.5rem\">CARDINAL</span>\n",
       "</mark>\n",
       " thousan ipods for a profilt of \n",
       "<mark class=\"entity\" style=\"background: #e4e7d2; padding: 0.45em 0.6em; margin: 0 0.25em; line-height: 1; border-radius: 0.35em;\">\n",
       "    $6 million\n",
       "    <span style=\"font-size: 0.8em; font-weight: bold; line-height: 1; border-radius: 0.35em; vertical-align: middle; margin-left: 0.5rem\">MONEY</span>\n",
       "</mark>\n",
       ". By \n",
       "<mark class=\"entity\" style=\"background: #7aecec; padding: 0.45em 0.6em; margin: 0 0.25em; line-height: 1; border-radius: 0.35em;\">\n",
       "    Constrant\n",
       "    <span style=\"font-size: 0.8em; font-weight: bold; line-height: 1; border-radius: 0.35em; vertical-align: middle; margin-left: 0.5rem\">ORG</span>\n",
       "</mark>\n",
       ", \n",
       "<mark class=\"entity\" style=\"background: #7aecec; padding: 0.45em 0.6em; margin: 0 0.25em; line-height: 1; border-radius: 0.35em;\">\n",
       "    Sony\n",
       "    <span style=\"font-size: 0.8em; font-weight: bold; line-height: 1; border-radius: 0.35em; vertical-align: middle; margin-left: 0.5rem\">ORG</span>\n",
       "</mark>\n",
       " sold \n",
       "<mark class=\"entity\" style=\"background: #e4e7d2; padding: 0.45em 0.6em; margin: 0 0.25em; line-height: 1; border-radius: 0.35em;\">\n",
       "    only 7 thousand\n",
       "    <span style=\"font-size: 0.8em; font-weight: bold; line-height: 1; border-radius: 0.35em; vertical-align: middle; margin-left: 0.5rem\">CARDINAL</span>\n",
       "</mark>\n",
       " Walkman music player</div></span>"
      ],
      "text/plain": [
       "<IPython.core.display.HTML object>"
      ]
     },
     "metadata": {},
     "output_type": "display_data"
    }
   ],
   "source": [
    "from spacy import displacy\n",
    "doc = nlp(u'Over the last quarter Apple sold nearly 20 thousan ipods for a profilt of $6 million. By Constrant, Sony sold only 7 thousand Walkman music player')\n",
    "displacy.render(doc, style='ent', jupyter=True)"
   ]
  },
  {
   "cell_type": "code",
   "execution_count": 23,
   "id": "d1f34f91",
   "metadata": {},
   "outputs": [
    {
     "data": {
      "text/html": [
       "<span class=\"tex2jax_ignore\"><div class=\"entities\" style=\"line-height: 2.5; direction: ltr\">Over the last quarter \n",
       "<mark class=\"entity\" style=\"background: #7aecec; padding: 0.45em 0.6em; margin: 0 0.25em; line-height: 1; border-radius: 0.35em;\">\n",
       "    Apple\n",
       "    <span style=\"font-size: 0.8em; font-weight: bold; line-height: 1; border-radius: 0.35em; vertical-align: middle; margin-left: 0.5rem\">ORG</span>\n",
       "</mark>\n",
       " sold nearly 20 thousan ipods for a profilt of $6 million. By \n",
       "<mark class=\"entity\" style=\"background: #7aecec; padding: 0.45em 0.6em; margin: 0 0.25em; line-height: 1; border-radius: 0.35em;\">\n",
       "    Constrant\n",
       "    <span style=\"font-size: 0.8em; font-weight: bold; line-height: 1; border-radius: 0.35em; vertical-align: middle; margin-left: 0.5rem\">ORG</span>\n",
       "</mark>\n",
       ", \n",
       "<mark class=\"entity\" style=\"background: #7aecec; padding: 0.45em 0.6em; margin: 0 0.25em; line-height: 1; border-radius: 0.35em;\">\n",
       "    Sony\n",
       "    <span style=\"font-size: 0.8em; font-weight: bold; line-height: 1; border-radius: 0.35em; vertical-align: middle; margin-left: 0.5rem\">ORG</span>\n",
       "</mark>\n",
       " sold only 7 thousand Walkman music player</div></span>"
      ],
      "text/plain": [
       "<IPython.core.display.HTML object>"
      ]
     },
     "metadata": {},
     "output_type": "display_data"
    }
   ],
   "source": [
    "options = {'ents': ['ORG', 'PRODUCT']}\n",
    "\n",
    "displacy.render(doc, style='ent', jupyter=True, options=options)"
   ]
  },
  {
   "cell_type": "code",
   "execution_count": null,
   "id": "a04f638e",
   "metadata": {},
   "outputs": [],
   "source": []
  }
 ],
 "metadata": {
  "kernelspec": {
   "display_name": "Python 3 (ipykernel)",
   "language": "python",
   "name": "python3"
  },
  "language_info": {
   "codemirror_mode": {
    "name": "ipython",
    "version": 3
   },
   "file_extension": ".py",
   "mimetype": "text/x-python",
   "name": "python",
   "nbconvert_exporter": "python",
   "pygments_lexer": "ipython3",
   "version": "3.9.12"
  }
 },
 "nbformat": 4,
 "nbformat_minor": 5
}
