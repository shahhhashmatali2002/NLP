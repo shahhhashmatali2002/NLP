{
 "cells": [
  {
   "cell_type": "markdown",
   "metadata": {
    "papermill": {
     "duration": 0.031508,
     "end_time": "2021-01-23T04:07:29.624291",
     "exception": false,
     "start_time": "2021-01-23T04:07:29.592783",
     "status": "completed"
    },
    "tags": []
   },
   "source": [
    "            "
   ]
  },
  {
   "cell_type": "markdown",
   "metadata": {
    "papermill": {
     "duration": 0.031553,
     "end_time": "2021-01-23T04:07:29.687579",
     "exception": false,
     "start_time": "2021-01-23T04:07:29.656026",
     "status": "completed"
    },
    "tags": []
   },
   "source": [
    "## Let's start"
   ]
  },
  {
   "cell_type": "code",
   "execution_count": 1,
   "metadata": {
    "_cell_guid": "b1076dfc-b9ad-4769-8c92-a6c4dae69d19",
    "_uuid": "8f2839f25d086af736a60e9eeb907d3b93b6e0e5",
    "execution": {
     "iopub.execute_input": "2021-01-23T04:07:29.756565Z",
     "iopub.status.busy": "2021-01-23T04:07:29.755731Z",
     "iopub.status.idle": "2021-01-23T04:07:30.705564Z",
     "shell.execute_reply": "2021-01-23T04:07:30.704425Z"
    },
    "papermill": {
     "duration": 0.985542,
     "end_time": "2021-01-23T04:07:30.705736",
     "exception": false,
     "start_time": "2021-01-23T04:07:29.720194",
     "status": "completed"
    },
    "tags": []
   },
   "outputs": [],
   "source": [
    "# Import important libraries\n",
    "import pandas as pd\n",
    "import numpy as np\n",
    "import matplotlib.pyplot as plt\n",
    "import seaborn as sns"
   ]
  },
  {
   "cell_type": "code",
   "execution_count": 3,
   "metadata": {
    "execution": {
     "iopub.execute_input": "2021-01-23T04:07:30.780794Z",
     "iopub.status.busy": "2021-01-23T04:07:30.780155Z",
     "iopub.status.idle": "2021-01-23T04:07:32.050343Z",
     "shell.execute_reply": "2021-01-23T04:07:32.049252Z"
    },
    "papermill": {
     "duration": 1.311884,
     "end_time": "2021-01-23T04:07:32.050484",
     "exception": false,
     "start_time": "2021-01-23T04:07:30.738600",
     "status": "completed"
    },
    "tags": []
   },
   "outputs": [],
   "source": [
    "# Load our data\n",
    "trending= pd.read_csv('./USvideos_modified.csv')"
   ]
  },
  {
   "cell_type": "code",
   "execution_count": 4,
   "metadata": {
    "execution": {
     "iopub.execute_input": "2021-01-23T04:07:32.158528Z",
     "iopub.status.busy": "2021-01-23T04:07:32.157882Z",
     "iopub.status.idle": "2021-01-23T04:07:32.161309Z",
     "shell.execute_reply": "2021-01-23T04:07:32.161795Z"
    },
    "papermill": {
     "duration": 0.061058,
     "end_time": "2021-01-23T04:07:32.161932",
     "exception": false,
     "start_time": "2021-01-23T04:07:32.100874",
     "status": "completed"
    },
    "tags": []
   },
   "outputs": [
    {
     "data": {
      "text/plain": [
       "(4547, 23)"
      ]
     },
     "execution_count": 4,
     "metadata": {},
     "output_type": "execute_result"
    }
   ],
   "source": [
    "# Number of columns and rows\n",
    "trending.shape"
   ]
  },
  {
   "cell_type": "code",
   "execution_count": 5,
   "metadata": {
    "execution": {
     "iopub.execute_input": "2021-01-23T04:07:32.238008Z",
     "iopub.status.busy": "2021-01-23T04:07:32.237374Z",
     "iopub.status.idle": "2021-01-23T04:07:32.261501Z",
     "shell.execute_reply": "2021-01-23T04:07:32.262015Z"
    },
    "papermill": {
     "duration": 0.066592,
     "end_time": "2021-01-23T04:07:32.262141",
     "exception": false,
     "start_time": "2021-01-23T04:07:32.195549",
     "status": "completed"
    },
    "tags": []
   },
   "outputs": [
    {
     "data": {
      "text/html": [
       "<div>\n",
       "<style scoped>\n",
       "    .dataframe tbody tr th:only-of-type {\n",
       "        vertical-align: middle;\n",
       "    }\n",
       "\n",
       "    .dataframe tbody tr th {\n",
       "        vertical-align: top;\n",
       "    }\n",
       "\n",
       "    .dataframe thead th {\n",
       "        text-align: right;\n",
       "    }\n",
       "</style>\n",
       "<table border=\"1\" class=\"dataframe\">\n",
       "  <thead>\n",
       "    <tr style=\"text-align: right;\">\n",
       "      <th></th>\n",
       "      <th>video_id</th>\n",
       "      <th>last_trending_date</th>\n",
       "      <th>publish_date</th>\n",
       "      <th>publish_hour</th>\n",
       "      <th>category_id</th>\n",
       "      <th>channel_title</th>\n",
       "      <th>views</th>\n",
       "      <th>likes</th>\n",
       "      <th>dislikes</th>\n",
       "      <th>comment_count</th>\n",
       "      <th>...</th>\n",
       "      <th>tag_appeared_in_title</th>\n",
       "      <th>title</th>\n",
       "      <th>tags</th>\n",
       "      <th>description</th>\n",
       "      <th>trend_day_count</th>\n",
       "      <th>trend.publish.diff</th>\n",
       "      <th>trend_tag_highest</th>\n",
       "      <th>trend_tag_total</th>\n",
       "      <th>tags_count</th>\n",
       "      <th>subscriber</th>\n",
       "    </tr>\n",
       "  </thead>\n",
       "  <tbody>\n",
       "    <tr>\n",
       "      <th>0</th>\n",
       "      <td>2kyS6SvSYSE</td>\n",
       "      <td>2017-11-20</td>\n",
       "      <td>2017-11-13</td>\n",
       "      <td>17</td>\n",
       "      <td>22</td>\n",
       "      <td>CaseyNeistat</td>\n",
       "      <td>2564903</td>\n",
       "      <td>96321</td>\n",
       "      <td>7972</td>\n",
       "      <td>22149</td>\n",
       "      <td>...</td>\n",
       "      <td>False</td>\n",
       "      <td>WE WANT TO TALK ABOUT OUR MARRIAGE</td>\n",
       "      <td>SHANtell martin</td>\n",
       "      <td>SHANTELL'S CHANNEL - https://www.youtube.com/s...</td>\n",
       "      <td>7</td>\n",
       "      <td>7</td>\n",
       "      <td>2</td>\n",
       "      <td>2</td>\n",
       "      <td>1</td>\n",
       "      <td>9086142.0</td>\n",
       "    </tr>\n",
       "    <tr>\n",
       "      <th>1</th>\n",
       "      <td>1ZAPwfrtAFY</td>\n",
       "      <td>2017-11-20</td>\n",
       "      <td>2017-11-13</td>\n",
       "      <td>7</td>\n",
       "      <td>24</td>\n",
       "      <td>LastWeekTonight</td>\n",
       "      <td>6109402</td>\n",
       "      <td>151250</td>\n",
       "      <td>11508</td>\n",
       "      <td>19820</td>\n",
       "      <td>...</td>\n",
       "      <td>False</td>\n",
       "      <td>The Trump Presidency: Last Week Tonight with J...</td>\n",
       "      <td>last week tonight trump presidency|last week t...</td>\n",
       "      <td>One year after the presidential election, John...</td>\n",
       "      <td>7</td>\n",
       "      <td>7</td>\n",
       "      <td>65</td>\n",
       "      <td>69</td>\n",
       "      <td>4</td>\n",
       "      <td>5937292.0</td>\n",
       "    </tr>\n",
       "    <tr>\n",
       "      <th>2</th>\n",
       "      <td>5qpjK5DgCt4</td>\n",
       "      <td>2017-11-20</td>\n",
       "      <td>2017-11-12</td>\n",
       "      <td>19</td>\n",
       "      <td>23</td>\n",
       "      <td>Rudy Mancuso</td>\n",
       "      <td>5315471</td>\n",
       "      <td>187303</td>\n",
       "      <td>7278</td>\n",
       "      <td>9990</td>\n",
       "      <td>...</td>\n",
       "      <td>True</td>\n",
       "      <td>Racist Superman | Rudy Mancuso, King Bach &amp; Le...</td>\n",
       "      <td>racist superman|rudy|mancuso|king|bach|racist|...</td>\n",
       "      <td>WATCH MY PREVIOUS VIDEO ▶ \\n\\nSUBSCRIBE ► http...</td>\n",
       "      <td>7</td>\n",
       "      <td>8</td>\n",
       "      <td>68</td>\n",
       "      <td>426</td>\n",
       "      <td>23</td>\n",
       "      <td>4191209.0</td>\n",
       "    </tr>\n",
       "    <tr>\n",
       "      <th>3</th>\n",
       "      <td>puqaWrEC7tY</td>\n",
       "      <td>2017-11-20</td>\n",
       "      <td>2017-11-13</td>\n",
       "      <td>11</td>\n",
       "      <td>24</td>\n",
       "      <td>Good Mythical Morning</td>\n",
       "      <td>913268</td>\n",
       "      <td>16729</td>\n",
       "      <td>1386</td>\n",
       "      <td>2988</td>\n",
       "      <td>...</td>\n",
       "      <td>True</td>\n",
       "      <td>Nickelback Lyrics: Real or Fake?</td>\n",
       "      <td>rhett and link|gmm|good mythical morning|rhett...</td>\n",
       "      <td>Today we find out if Link is a Nickelback amat...</td>\n",
       "      <td>7</td>\n",
       "      <td>7</td>\n",
       "      <td>488</td>\n",
       "      <td>1246</td>\n",
       "      <td>28</td>\n",
       "      <td>13186408.0</td>\n",
       "    </tr>\n",
       "    <tr>\n",
       "      <th>4</th>\n",
       "      <td>d380meD0W0M</td>\n",
       "      <td>2017-11-19</td>\n",
       "      <td>2017-11-12</td>\n",
       "      <td>18</td>\n",
       "      <td>24</td>\n",
       "      <td>nigahiga</td>\n",
       "      <td>2819118</td>\n",
       "      <td>153395</td>\n",
       "      <td>2416</td>\n",
       "      <td>20573</td>\n",
       "      <td>...</td>\n",
       "      <td>True</td>\n",
       "      <td>I Dare You: GOING BALD!?</td>\n",
       "      <td>ryan|higa|higatv|nigahiga|i dare you|idy|rhpc|...</td>\n",
       "      <td>I know it's been a while since we did this sho...</td>\n",
       "      <td>6</td>\n",
       "      <td>7</td>\n",
       "      <td>488</td>\n",
       "      <td>1007</td>\n",
       "      <td>14</td>\n",
       "      <td>20563106.0</td>\n",
       "    </tr>\n",
       "  </tbody>\n",
       "</table>\n",
       "<p>5 rows × 23 columns</p>\n",
       "</div>"
      ],
      "text/plain": [
       "      video_id last_trending_date publish_date  publish_hour  category_id  \\\n",
       "0  2kyS6SvSYSE         2017-11-20   2017-11-13            17           22   \n",
       "1  1ZAPwfrtAFY         2017-11-20   2017-11-13             7           24   \n",
       "2  5qpjK5DgCt4         2017-11-20   2017-11-12            19           23   \n",
       "3  puqaWrEC7tY         2017-11-20   2017-11-13            11           24   \n",
       "4  d380meD0W0M         2017-11-19   2017-11-12            18           24   \n",
       "\n",
       "           channel_title    views   likes  dislikes  comment_count  ...  \\\n",
       "0           CaseyNeistat  2564903   96321      7972          22149  ...   \n",
       "1        LastWeekTonight  6109402  151250     11508          19820  ...   \n",
       "2           Rudy Mancuso  5315471  187303      7278           9990  ...   \n",
       "3  Good Mythical Morning   913268   16729      1386           2988  ...   \n",
       "4               nigahiga  2819118  153395      2416          20573  ...   \n",
       "\n",
       "   tag_appeared_in_title                                              title  \\\n",
       "0                  False                 WE WANT TO TALK ABOUT OUR MARRIAGE   \n",
       "1                  False  The Trump Presidency: Last Week Tonight with J...   \n",
       "2                   True  Racist Superman | Rudy Mancuso, King Bach & Le...   \n",
       "3                   True                   Nickelback Lyrics: Real or Fake?   \n",
       "4                   True                           I Dare You: GOING BALD!?   \n",
       "\n",
       "                                                tags  \\\n",
       "0                                    SHANtell martin   \n",
       "1  last week tonight trump presidency|last week t...   \n",
       "2  racist superman|rudy|mancuso|king|bach|racist|...   \n",
       "3  rhett and link|gmm|good mythical morning|rhett...   \n",
       "4  ryan|higa|higatv|nigahiga|i dare you|idy|rhpc|...   \n",
       "\n",
       "                                         description trend_day_count  \\\n",
       "0  SHANTELL'S CHANNEL - https://www.youtube.com/s...               7   \n",
       "1  One year after the presidential election, John...               7   \n",
       "2  WATCH MY PREVIOUS VIDEO ▶ \\n\\nSUBSCRIBE ► http...               7   \n",
       "3  Today we find out if Link is a Nickelback amat...               7   \n",
       "4  I know it's been a while since we did this sho...               6   \n",
       "\n",
       "  trend.publish.diff trend_tag_highest  trend_tag_total  tags_count  \\\n",
       "0                  7                 2                2           1   \n",
       "1                  7                65               69           4   \n",
       "2                  8                68              426          23   \n",
       "3                  7               488             1246          28   \n",
       "4                  7               488             1007          14   \n",
       "\n",
       "   subscriber  \n",
       "0   9086142.0  \n",
       "1   5937292.0  \n",
       "2   4191209.0  \n",
       "3  13186408.0  \n",
       "4  20563106.0  \n",
       "\n",
       "[5 rows x 23 columns]"
      ]
     },
     "execution_count": 5,
     "metadata": {},
     "output_type": "execute_result"
    }
   ],
   "source": [
    "# Let's view the first 5 rows\n",
    "trending.head(5)"
   ]
  },
  {
   "cell_type": "code",
   "execution_count": 7,
   "metadata": {
    "execution": {
     "iopub.execute_input": "2021-01-23T04:07:32.336694Z",
     "iopub.status.busy": "2021-01-23T04:07:32.336064Z",
     "iopub.status.idle": "2021-01-23T04:07:32.342505Z",
     "shell.execute_reply": "2021-01-23T04:07:32.341817Z"
    },
    "papermill": {
     "duration": 0.046357,
     "end_time": "2021-01-23T04:07:32.342613",
     "exception": false,
     "start_time": "2021-01-23T04:07:32.296256",
     "status": "completed"
    },
    "tags": []
   },
   "outputs": [
    {
     "data": {
      "text/plain": [
       "1905"
      ]
     },
     "execution_count": 7,
     "metadata": {},
     "output_type": "execute_result"
    }
   ],
   "source": [
    "# How many unique channels do we have in this dataset?\n",
    "trending['channel_title'].nunique()"
   ]
  },
  {
   "cell_type": "markdown",
   "metadata": {
    "papermill": {
     "duration": 0.03454,
     "end_time": "2021-01-23T04:07:32.412062",
     "exception": false,
     "start_time": "2021-01-23T04:07:32.377522",
     "status": "completed"
    },
    "tags": []
   },
   "source": [
    "In this dataset, there are 2264 channels."
   ]
  },
  {
   "cell_type": "code",
   "execution_count": 8,
   "metadata": {
    "execution": {
     "iopub.execute_input": "2021-01-23T04:07:32.484973Z",
     "iopub.status.busy": "2021-01-23T04:07:32.484374Z",
     "iopub.status.idle": "2021-01-23T04:07:32.507571Z",
     "shell.execute_reply": "2021-01-23T04:07:32.508158Z"
    },
    "papermill": {
     "duration": 0.06119,
     "end_time": "2021-01-23T04:07:32.508310",
     "exception": false,
     "start_time": "2021-01-23T04:07:32.447120",
     "status": "completed"
    },
    "tags": []
   },
   "outputs": [
    {
     "data": {
      "text/plain": [
       "video_id                         0\n",
       "last_trending_date               0\n",
       "publish_date                     0\n",
       "publish_hour                     0\n",
       "category_id                      0\n",
       "channel_title                    0\n",
       "views                            0\n",
       "likes                            0\n",
       "dislikes                         0\n",
       "comment_count                    0\n",
       "comments_disabled                0\n",
       "ratings_disabled                 0\n",
       "tag_appeared_in_title_count      0\n",
       "tag_appeared_in_title            0\n",
       "title                            0\n",
       "tags                           208\n",
       "description                     89\n",
       "trend_day_count                  0\n",
       "trend.publish.diff               0\n",
       "trend_tag_highest                0\n",
       "trend_tag_total                  0\n",
       "tags_count                       0\n",
       "subscriber                      22\n",
       "dtype: int64"
      ]
     },
     "execution_count": 8,
     "metadata": {},
     "output_type": "execute_result"
    }
   ],
   "source": [
    "# Check for Null values\n",
    "trending.isna().sum()"
   ]
  },
  {
   "cell_type": "markdown",
   "metadata": {
    "papermill": {
     "duration": 0.03534,
     "end_time": "2021-01-23T04:07:32.583115",
     "exception": false,
     "start_time": "2021-01-23T04:07:32.547775",
     "status": "completed"
    },
    "tags": []
   },
   "source": [
    "There 245 missing description values"
   ]
  },
  {
   "cell_type": "code",
   "execution_count": 9,
   "metadata": {
    "execution": {
     "iopub.execute_input": "2021-01-23T04:07:32.655815Z",
     "iopub.status.busy": "2021-01-23T04:07:32.655215Z",
     "iopub.status.idle": "2021-01-23T04:07:32.662337Z",
     "shell.execute_reply": "2021-01-23T04:07:32.662927Z"
    },
    "papermill": {
     "duration": 0.045029,
     "end_time": "2021-01-23T04:07:32.663048",
     "exception": false,
     "start_time": "2021-01-23T04:07:32.618019",
     "status": "completed"
    },
    "tags": []
   },
   "outputs": [],
   "source": [
    "# Imputing data. There are many ways to fill the missing data. For example filling the NAs with the most frequent value, \n",
    "# random values, etc.\n",
    "trending.description= trending.description.fillna('No description provided')           "
   ]
  },
  {
   "cell_type": "code",
   "execution_count": 10,
   "metadata": {
    "execution": {
     "iopub.execute_input": "2021-01-23T04:07:32.738686Z",
     "iopub.status.busy": "2021-01-23T04:07:32.738066Z",
     "iopub.status.idle": "2021-01-23T04:07:32.760327Z",
     "shell.execute_reply": "2021-01-23T04:07:32.759787Z"
    },
    "papermill": {
     "duration": 0.062156,
     "end_time": "2021-01-23T04:07:32.760442",
     "exception": false,
     "start_time": "2021-01-23T04:07:32.698286",
     "status": "completed"
    },
    "tags": []
   },
   "outputs": [
    {
     "data": {
      "text/plain": [
       "230"
      ]
     },
     "execution_count": 10,
     "metadata": {},
     "output_type": "execute_result"
    }
   ],
   "source": [
    "# Make sure thre is no null data(We're good to go)\n",
    "trending.isna().sum().sum()"
   ]
  },
  {
   "cell_type": "markdown",
   "metadata": {
    "papermill": {
     "duration": 0.035576,
     "end_time": "2021-01-23T04:07:32.832713",
     "exception": false,
     "start_time": "2021-01-23T04:07:32.797137",
     "status": "completed"
    },
    "tags": []
   },
   "source": [
    "## Analyze views, likes, dislikes"
   ]
  },
  {
   "cell_type": "code",
   "execution_count": 12,
   "metadata": {
    "execution": {
     "iopub.execute_input": "2021-01-23T04:07:32.909039Z",
     "iopub.status.busy": "2021-01-23T04:07:32.908416Z",
     "iopub.status.idle": "2021-01-23T04:07:34.485958Z",
     "shell.execute_reply": "2021-01-23T04:07:34.484298Z"
    },
    "papermill": {
     "duration": 1.616627,
     "end_time": "2021-01-23T04:07:34.486068",
     "exception": false,
     "start_time": "2021-01-23T04:07:32.869441",
     "status": "completed"
    },
    "tags": []
   },
   "outputs": [
    {
     "data": {
      "text/plain": [
       "Text(0.5, 1.0, 'Regression plot for views and likes')"
      ]
     },
     "execution_count": 12,
     "metadata": {},
     "output_type": "execute_result"
    },
    {
     "data": {
      "image/png": "[encoded data removed]",
      "text/plain": [
       "<Figure size 432x288 with 1 Axes>"
      ]
     },
     "metadata": {
      "needs_background": "light"
     },
     "output_type": "display_data"
    }
   ],
   "source": [
    "# Let's do a regression plot to see the relarionship between views and likes\n",
    "sns.regplot(data=trending, x='views', y='likes', color='Red')\n",
    "plt.title('Regression plot for views and likes')"
   ]
  },
  {
   "cell_type": "markdown",
   "metadata": {
    "papermill": {
     "duration": 0.045815,
     "end_time": "2021-01-23T04:07:34.571611",
     "exception": false,
     "start_time": "2021-01-23T04:07:34.525796",
     "status": "completed"
    },
    "tags": []
   },
   "source": [
    "This plot is showing a linear relationship between views and likes."
   ]
  },
  {
   "cell_type": "code",
   "execution_count": 14,
   "metadata": {
    "execution": {
     "iopub.execute_input": "2021-01-23T04:07:34.669023Z",
     "iopub.status.busy": "2021-01-23T04:07:34.668334Z",
     "iopub.status.idle": "2021-01-23T04:07:36.316203Z",
     "shell.execute_reply": "2021-01-23T04:07:36.315743Z"
    },
    "papermill": {
     "duration": 1.698055,
     "end_time": "2021-01-23T04:07:36.316281",
     "exception": false,
     "start_time": "2021-01-23T04:07:34.618226",
     "status": "completed"
    },
    "tags": []
   },
   "outputs": [
    {
     "data": {
      "text/plain": [
       "Text(0.5, 1.0, 'Regression plot for views and dislikes')"
      ]
     },
     "execution_count": 14,
     "metadata": {},
     "output_type": "execute_result"
    },
    {
     "data": {
      "image/png": "[encoded data removed]",
      "text/plain": [
       "<Figure size 432x288 with 1 Axes>"
      ]
     },
     "metadata": {
      "needs_background": "light"
     },
     "output_type": "display_data"
    }
   ],
   "source": [
    "# Let's perform a regression plot to see the relarionship between views and dislikes\n",
    "sns.regplot(data=trending, x='views', y='dislikes', color= 'blue')\n",
    "plt.title('Regression plot for views and dislikes')"
   ]
  },
  {
   "cell_type": "markdown",
   "metadata": {
    "papermill": {
     "duration": 0.037266,
     "end_time": "2021-01-23T04:07:36.382149",
     "exception": false,
     "start_time": "2021-01-23T04:07:36.344883",
     "status": "completed"
    },
    "tags": []
   },
   "source": [
    "Compared to the first plot, the dislikes increase as the views increase, but not as much as the first plot. Notice the steeper line in the first graph."
   ]
  },
  {
   "cell_type": "code",
   "execution_count": 16,
   "metadata": {
    "execution": {
     "iopub.execute_input": "2021-01-23T04:07:36.467845Z",
     "iopub.status.busy": "2021-01-23T04:07:36.467184Z",
     "iopub.status.idle": "2021-01-23T04:07:36.484426Z",
     "shell.execute_reply": "2021-01-23T04:07:36.483906Z"
    },
    "papermill": {
     "duration": 0.062696,
     "end_time": "2021-01-23T04:07:36.484530",
     "exception": false,
     "start_time": "2021-01-23T04:07:36.421834",
     "status": "completed"
    },
    "tags": []
   },
   "outputs": [
    {
     "data": {
      "text/html": [
       "<div>\n",
       "<style scoped>\n",
       "    .dataframe tbody tr th:only-of-type {\n",
       "        vertical-align: middle;\n",
       "    }\n",
       "\n",
       "    .dataframe tbody tr th {\n",
       "        vertical-align: top;\n",
       "    }\n",
       "\n",
       "    .dataframe thead th {\n",
       "        text-align: right;\n",
       "    }\n",
       "</style>\n",
       "<table border=\"1\" class=\"dataframe\">\n",
       "  <thead>\n",
       "    <tr style=\"text-align: right;\">\n",
       "      <th></th>\n",
       "      <th>likes</th>\n",
       "      <th>dislikes</th>\n",
       "      <th>comment_count</th>\n",
       "      <th>views</th>\n",
       "    </tr>\n",
       "  </thead>\n",
       "  <tbody>\n",
       "    <tr>\n",
       "      <th>likes</th>\n",
       "      <td>1.000000</td>\n",
       "      <td>0.460294</td>\n",
       "      <td>0.712927</td>\n",
       "      <td>0.820951</td>\n",
       "    </tr>\n",
       "    <tr>\n",
       "      <th>dislikes</th>\n",
       "      <td>0.460294</td>\n",
       "      <td>1.000000</td>\n",
       "      <td>0.833591</td>\n",
       "      <td>0.528939</td>\n",
       "    </tr>\n",
       "    <tr>\n",
       "      <th>comment_count</th>\n",
       "      <td>0.712927</td>\n",
       "      <td>0.833591</td>\n",
       "      <td>1.000000</td>\n",
       "      <td>0.573385</td>\n",
       "    </tr>\n",
       "    <tr>\n",
       "      <th>views</th>\n",
       "      <td>0.820951</td>\n",
       "      <td>0.528939</td>\n",
       "      <td>0.573385</td>\n",
       "      <td>1.000000</td>\n",
       "    </tr>\n",
       "  </tbody>\n",
       "</table>\n",
       "</div>"
      ],
      "text/plain": [
       "                  likes  dislikes  comment_count     views\n",
       "likes          1.000000  0.460294       0.712927  0.820951\n",
       "dislikes       0.460294  1.000000       0.833591  0.528939\n",
       "comment_count  0.712927  0.833591       1.000000  0.573385\n",
       "views          0.820951  0.528939       0.573385  1.000000"
      ]
     },
     "execution_count": 16,
     "metadata": {},
     "output_type": "execute_result"
    }
   ],
   "source": [
    "# Let's view our correlation table:likes, dislikes, views, and comments\n",
    "df_corr= trending[['likes', 'dislikes', 'comment_count', 'views']]\n",
    "df_corr.corr()"
   ]
  },
  {
   "cell_type": "code",
   "execution_count": 17,
   "metadata": {
    "execution": {
     "iopub.execute_input": "2021-01-23T04:07:36.568528Z",
     "iopub.status.busy": "2021-01-23T04:07:36.567791Z",
     "iopub.status.idle": "2021-01-23T04:07:36.784893Z",
     "shell.execute_reply": "2021-01-23T04:07:36.785376Z"
    },
    "papermill": {
     "duration": 0.261637,
     "end_time": "2021-01-23T04:07:36.785518",
     "exception": false,
     "start_time": "2021-01-23T04:07:36.523881",
     "status": "completed"
    },
    "tags": []
   },
   "outputs": [
    {
     "data": {
      "text/plain": [
       "<AxesSubplot:>"
      ]
     },
     "execution_count": 17,
     "metadata": {},
     "output_type": "execute_result"
    },
    {
     "data": {
      "image/png": "[encoded data removed]",
      "text/plain": [
       "<Figure size 432x288 with 2 Axes>"
      ]
     },
     "metadata": {
      "needs_background": "light"
     },
     "output_type": "display_data"
    }
   ],
   "source": [
    "sns.heatmap(df_corr.corr(), annot= True)"
   ]
  },
  {
   "cell_type": "markdown",
   "metadata": {
    "papermill": {
     "duration": 0.04033,
     "end_time": "2021-01-23T04:07:36.866620",
     "exception": false,
     "start_time": "2021-01-23T04:07:36.826290",
     "status": "completed"
    },
    "tags": []
   },
   "source": [
    "Notice a high correlation between views and likes. That makes sense!\n",
    "people who like a video tend to leave a comment and vice versa. Howver people who dislike tend not to leave a comment or vice versa."
   ]
  },
  {
   "cell_type": "code",
   "execution_count": 18,
   "metadata": {
    "execution": {
     "iopub.execute_input": "2021-01-23T04:07:36.954947Z",
     "iopub.status.busy": "2021-01-23T04:07:36.954229Z",
     "iopub.status.idle": "2021-01-23T04:07:36.986452Z",
     "shell.execute_reply": "2021-01-23T04:07:36.985794Z"
    },
    "papermill": {
     "duration": 0.07962,
     "end_time": "2021-01-23T04:07:36.986571",
     "exception": false,
     "start_time": "2021-01-23T04:07:36.906951",
     "status": "completed"
    },
    "tags": []
   },
   "outputs": [
    {
     "data": {
      "text/html": [
       "<div>\n",
       "<style scoped>\n",
       "    .dataframe tbody tr th:only-of-type {\n",
       "        vertical-align: middle;\n",
       "    }\n",
       "\n",
       "    .dataframe tbody tr th {\n",
       "        vertical-align: top;\n",
       "    }\n",
       "\n",
       "    .dataframe thead th {\n",
       "        text-align: right;\n",
       "    }\n",
       "</style>\n",
       "<table border=\"1\" class=\"dataframe\">\n",
       "  <thead>\n",
       "    <tr style=\"text-align: right;\">\n",
       "      <th></th>\n",
       "      <th>likes</th>\n",
       "    </tr>\n",
       "    <tr>\n",
       "      <th>title</th>\n",
       "      <th></th>\n",
       "    </tr>\n",
       "  </thead>\n",
       "  <tbody>\n",
       "    <tr>\n",
       "      <th>YouTube Rewind: The Shape of 2017 | #YouTubeRewind</th>\n",
       "      <td>3093544</td>\n",
       "    </tr>\n",
       "    <tr>\n",
       "      <th>BTS (방탄소년단) 'MIC Drop (Steve Aoki Remix)' Official MV</th>\n",
       "      <td>2729292</td>\n",
       "    </tr>\n",
       "    <tr>\n",
       "      <th>j-hope 'Daydream (백일몽)' MV</th>\n",
       "      <td>2626585</td>\n",
       "    </tr>\n",
       "    <tr>\n",
       "      <th>Marvel Studios' Avengers: Infinity War Official Trailer</th>\n",
       "      <td>2625661</td>\n",
       "    </tr>\n",
       "    <tr>\n",
       "      <th>Luis Fonsi, Demi Lovato - Échame La Culpa</th>\n",
       "      <td>2376636</td>\n",
       "    </tr>\n",
       "  </tbody>\n",
       "</table>\n",
       "</div>"
      ],
      "text/plain": [
       "                                                      likes\n",
       "title                                                      \n",
       "YouTube Rewind: The Shape of 2017 | #YouTubeRewind  3093544\n",
       "BTS (방탄소년단) 'MIC Drop (Steve Aoki Remix)' Offic...  2729292\n",
       "j-hope 'Daydream (백일몽)' MV                          2626585\n",
       "Marvel Studios' Avengers: Infinity War Official...  2625661\n",
       "Luis Fonsi, Demi Lovato - Échame La Culpa           2376636"
      ]
     },
     "execution_count": 18,
     "metadata": {},
     "output_type": "execute_result"
    }
   ],
   "source": [
    "# What are the video titles with most likes count\n",
    "trending[['title', 'likes']].groupby('title').sum().sort_values(by= 'likes', ascending= False).head(5)"
   ]
  },
  {
   "cell_type": "code",
   "execution_count": 19,
   "metadata": {
    "execution": {
     "iopub.execute_input": "2021-01-23T04:07:37.080306Z",
     "iopub.status.busy": "2021-01-23T04:07:37.079619Z",
     "iopub.status.idle": "2021-01-23T04:07:37.112986Z",
     "shell.execute_reply": "2021-01-23T04:07:37.112364Z"
    },
    "papermill": {
     "duration": 0.084855,
     "end_time": "2021-01-23T04:07:37.113085",
     "exception": false,
     "start_time": "2021-01-23T04:07:37.028230",
     "status": "completed"
    },
    "tags": []
   },
   "outputs": [
    {
     "data": {
      "text/html": [
       "<div>\n",
       "<style scoped>\n",
       "    .dataframe tbody tr th:only-of-type {\n",
       "        vertical-align: middle;\n",
       "    }\n",
       "\n",
       "    .dataframe tbody tr th {\n",
       "        vertical-align: top;\n",
       "    }\n",
       "\n",
       "    .dataframe thead th {\n",
       "        text-align: right;\n",
       "    }\n",
       "</style>\n",
       "<table border=\"1\" class=\"dataframe\">\n",
       "  <thead>\n",
       "    <tr style=\"text-align: right;\">\n",
       "      <th></th>\n",
       "      <th>dislikes</th>\n",
       "    </tr>\n",
       "    <tr>\n",
       "      <th>title</th>\n",
       "      <th></th>\n",
       "    </tr>\n",
       "  </thead>\n",
       "  <tbody>\n",
       "    <tr>\n",
       "      <th>So Sorry.</th>\n",
       "      <td>1674420</td>\n",
       "    </tr>\n",
       "    <tr>\n",
       "      <th>YouTube Rewind: The Shape of 2017 | #YouTubeRewind</th>\n",
       "      <td>1643059</td>\n",
       "    </tr>\n",
       "    <tr>\n",
       "      <th>Suicide: Be Here Tomorrow.</th>\n",
       "      <td>497847</td>\n",
       "    </tr>\n",
       "    <tr>\n",
       "      <th>LOGAN PAUL IS BACK!</th>\n",
       "      <td>291900</td>\n",
       "    </tr>\n",
       "    <tr>\n",
       "      <th>PSA from Chairman of the FCC Ajit Pai</th>\n",
       "      <td>228426</td>\n",
       "    </tr>\n",
       "  </tbody>\n",
       "</table>\n",
       "</div>"
      ],
      "text/plain": [
       "                                                    dislikes\n",
       "title                                                       \n",
       "So Sorry.                                            1674420\n",
       "YouTube Rewind: The Shape of 2017 | #YouTubeRewind   1643059\n",
       "Suicide: Be Here Tomorrow.                            497847\n",
       "LOGAN PAUL IS BACK!                                   291900\n",
       "PSA from Chairman of the FCC Ajit Pai                 228426"
      ]
     },
     "execution_count": 19,
     "metadata": {},
     "output_type": "execute_result"
    }
   ],
   "source": [
    "# What are the video titles with most dislikes count\n",
    "trending[['title', 'dislikes']].groupby('title').sum().sort_values(by= 'dislikes', ascending= False).head(5)"
   ]
  },
  {
   "cell_type": "code",
   "execution_count": 20,
   "metadata": {
    "execution": {
     "iopub.execute_input": "2021-01-23T04:07:37.205453Z",
     "iopub.status.busy": "2021-01-23T04:07:37.203740Z",
     "iopub.status.idle": "2021-01-23T04:07:37.230855Z",
     "shell.execute_reply": "2021-01-23T04:07:37.231329Z"
    },
    "papermill": {
     "duration": 0.076322,
     "end_time": "2021-01-23T04:07:37.231468",
     "exception": false,
     "start_time": "2021-01-23T04:07:37.155146",
     "status": "completed"
    },
    "tags": []
   },
   "outputs": [
    {
     "data": {
      "text/html": [
       "<div>\n",
       "<style scoped>\n",
       "    .dataframe tbody tr th:only-of-type {\n",
       "        vertical-align: middle;\n",
       "    }\n",
       "\n",
       "    .dataframe tbody tr th {\n",
       "        vertical-align: top;\n",
       "    }\n",
       "\n",
       "    .dataframe thead th {\n",
       "        text-align: right;\n",
       "    }\n",
       "</style>\n",
       "<table border=\"1\" class=\"dataframe\">\n",
       "  <thead>\n",
       "    <tr style=\"text-align: right;\">\n",
       "      <th></th>\n",
       "      <th>comment_count</th>\n",
       "    </tr>\n",
       "    <tr>\n",
       "      <th>title</th>\n",
       "      <th></th>\n",
       "    </tr>\n",
       "  </thead>\n",
       "  <tbody>\n",
       "    <tr>\n",
       "      <th>So Sorry.</th>\n",
       "      <td>1361580</td>\n",
       "    </tr>\n",
       "    <tr>\n",
       "      <th>YouTube Rewind: The Shape of 2017 | #YouTubeRewind</th>\n",
       "      <td>810698</td>\n",
       "    </tr>\n",
       "    <tr>\n",
       "      <th>Suicide: Be Here Tomorrow.</th>\n",
       "      <td>658130</td>\n",
       "    </tr>\n",
       "    <tr>\n",
       "      <th>BTS (방탄소년단) 'MIC Drop (Steve Aoki Remix)' Official MV</th>\n",
       "      <td>546100</td>\n",
       "    </tr>\n",
       "    <tr>\n",
       "      <th>j-hope 'Daydream (백일몽)' MV</th>\n",
       "      <td>471584</td>\n",
       "    </tr>\n",
       "  </tbody>\n",
       "</table>\n",
       "</div>"
      ],
      "text/plain": [
       "                                                    comment_count\n",
       "title                                                            \n",
       "So Sorry.                                                 1361580\n",
       "YouTube Rewind: The Shape of 2017 | #YouTubeRewind         810698\n",
       "Suicide: Be Here Tomorrow.                                 658130\n",
       "BTS (방탄소년단) 'MIC Drop (Steve Aoki Remix)' Offic...         546100\n",
       "j-hope 'Daydream (백일몽)' MV                                 471584"
      ]
     },
     "execution_count": 20,
     "metadata": {},
     "output_type": "execute_result"
    }
   ],
   "source": [
    "# What are the video titles with most comments count\n",
    "trending[['title', 'comment_count']].groupby('title').sum().sort_values(by= 'comment_count',ascending= False ).head(5)"
   ]
  },
  {
   "cell_type": "markdown",
   "metadata": {
    "papermill": {
     "duration": 0.043515,
     "end_time": "2021-01-23T04:07:37.318215",
     "exception": false,
     "start_time": "2021-01-23T04:07:37.274700",
     "status": "completed"
    },
    "tags": []
   },
   "source": [
    "## Sentiment Analysis**"
   ]
  },
  {
   "cell_type": "markdown",
   "metadata": {
    "papermill": {
     "duration": 0.041992,
     "end_time": "2021-01-23T04:07:37.402888",
     "exception": false,
     "start_time": "2021-01-23T04:07:37.360896",
     "status": "completed"
    },
    "tags": []
   },
   "source": [
    "#### Analyze trending tags"
   ]
  },
  {
   "cell_type": "code",
   "execution_count": 21,
   "metadata": {
    "execution": {
     "iopub.execute_input": "2021-01-23T04:07:37.494619Z",
     "iopub.status.busy": "2021-01-23T04:07:37.493850Z",
     "iopub.status.idle": "2021-01-23T04:07:37.500602Z",
     "shell.execute_reply": "2021-01-23T04:07:37.500097Z"
    },
    "papermill": {
     "duration": 0.055425,
     "end_time": "2021-01-23T04:07:37.500724",
     "exception": false,
     "start_time": "2021-01-23T04:07:37.445299",
     "status": "completed"
    },
    "tags": []
   },
   "outputs": [
    {
     "data": {
      "text/plain": [
       "0                                      SHANtell martin\n",
       "1    last week tonight trump presidency|last week t...\n",
       "2    racist superman|rudy|mancuso|king|bach|racist|...\n",
       "3    rhett and link|gmm|good mythical morning|rhett...\n",
       "4    ryan|higa|higatv|nigahiga|i dare you|idy|rhpc|...\n",
       "5    ijustine|week with iPhone X|iphone x|apple|iph...\n",
       "6    SNL|Saturday Night Live|SNL Season 43|Episode ...\n",
       "7    5 Ice Cream Gadgets|Ice Cream|Cream Sandwich M...\n",
       "8    Trailer|Hugh Jackman|Michelle Williams|Zac Efr...\n",
       "9    vox.com|vox|explain|shift change|future of wor...\n",
       "Name: tags, dtype: object"
      ]
     },
     "execution_count": 21,
     "metadata": {},
     "output_type": "execute_result"
    }
   ],
   "source": [
    "# Display tags\n",
    "trending.tags.head(10)"
   ]
  },
  {
   "cell_type": "code",
   "execution_count": 24,
   "metadata": {
    "execution": {
     "iopub.execute_input": "2021-01-23T04:07:37.607023Z",
     "iopub.status.busy": "2021-01-23T04:07:37.606168Z",
     "iopub.status.idle": "2021-01-23T04:07:37.610831Z",
     "shell.execute_reply": "2021-01-23T04:07:37.610307Z"
    },
    "papermill": {
     "duration": 0.066863,
     "end_time": "2021-01-23T04:07:37.610928",
     "exception": false,
     "start_time": "2021-01-23T04:07:37.544065",
     "status": "completed"
    },
    "tags": []
   },
   "outputs": [],
   "source": [
    "# Let's join tags to get all lines in just one string.\n",
    "tags_complete=''.join(str(trending.tags))"
   ]
  },
  {
   "cell_type": "code",
   "execution_count": 25,
   "metadata": {
    "execution": {
     "iopub.execute_input": "2021-01-23T04:07:37.701289Z",
     "iopub.status.busy": "2021-01-23T04:07:37.700637Z",
     "iopub.status.idle": "2021-01-23T04:07:37.704720Z",
     "shell.execute_reply": "2021-01-23T04:07:37.704138Z"
    },
    "papermill": {
     "duration": 0.050623,
     "end_time": "2021-01-23T04:07:37.704827",
     "exception": false,
     "start_time": "2021-01-23T04:07:37.654204",
     "status": "completed"
    },
    "tags": []
   },
   "outputs": [],
   "source": [
    "# Display tags as one string\n",
    "# Rub this to see the result: tags_complete"
   ]
  },
  {
   "cell_type": "markdown",
   "metadata": {
    "papermill": {
     "duration": 0.043373,
     "end_time": "2021-01-23T04:07:37.792720",
     "exception": false,
     "start_time": "2021-01-23T04:07:37.749347",
     "status": "completed"
    },
    "tags": []
   },
   "source": [
    "### As you can see, we got some special charachters in our text. Ex: |, so the next step is to remove the special characters to end up with clean looking data"
   ]
  },
  {
   "cell_type": "code",
   "execution_count": 26,
   "metadata": {
    "execution": {
     "iopub.execute_input": "2021-01-23T04:07:37.884018Z",
     "iopub.status.busy": "2021-01-23T04:07:37.883303Z",
     "iopub.status.idle": "2021-01-23T04:07:37.886153Z",
     "shell.execute_reply": "2021-01-23T04:07:37.885631Z"
    },
    "papermill": {
     "duration": 0.049892,
     "end_time": "2021-01-23T04:07:37.886253",
     "exception": false,
     "start_time": "2021-01-23T04:07:37.836361",
     "status": "completed"
    },
    "tags": []
   },
   "outputs": [],
   "source": [
    "# Let's import regular expression module\n",
    "import re"
   ]
  },
  {
   "cell_type": "code",
   "execution_count": 27,
   "metadata": {
    "execution": {
     "iopub.execute_input": "2021-01-23T04:07:38.533778Z",
     "iopub.status.busy": "2021-01-23T04:07:38.533010Z",
     "iopub.status.idle": "2021-01-23T04:07:38.537235Z",
     "shell.execute_reply": "2021-01-23T04:07:38.536513Z"
    },
    "papermill": {
     "duration": 0.607899,
     "end_time": "2021-01-23T04:07:38.537344",
     "exception": false,
     "start_time": "2021-01-23T04:07:37.929445",
     "status": "completed"
    },
    "tags": []
   },
   "outputs": [],
   "source": [
    "# Now we have to substitue any special character by a space.\n",
    "tags= re.sub('[^a-zA-Z]', ' ', tags_complete)"
   ]
  },
  {
   "cell_type": "code",
   "execution_count": 28,
   "metadata": {
    "execution": {
     "iopub.execute_input": "2021-01-23T04:07:38.629770Z",
     "iopub.status.busy": "2021-01-23T04:07:38.629111Z",
     "iopub.status.idle": "2021-01-23T04:07:38.631740Z",
     "shell.execute_reply": "2021-01-23T04:07:38.632226Z"
    },
    "papermill": {
     "duration": 0.05082,
     "end_time": "2021-01-23T04:07:38.632361",
     "exception": false,
     "start_time": "2021-01-23T04:07:38.581541",
     "status": "completed"
    },
    "tags": []
   },
   "outputs": [],
   "source": [
    "# Display tags\n",
    "tags;"
   ]
  },
  {
   "cell_type": "markdown",
   "metadata": {
    "papermill": {
     "duration": 0.0492,
     "end_time": "2021-01-23T04:07:49.502341",
     "exception": false,
     "start_time": "2021-01-23T04:07:49.453141",
     "status": "completed"
    },
    "tags": []
   },
   "source": [
    "## Emoji Analysis"
   ]
  },
  {
   "cell_type": "code",
   "execution_count": 26,
   "metadata": {
    "execution": {
     "iopub.execute_input": "2021-01-23T04:07:49.606331Z",
     "iopub.status.busy": "2021-01-23T04:07:49.605635Z",
     "iopub.status.idle": "2021-01-23T04:07:49.609058Z",
     "shell.execute_reply": "2021-01-23T04:07:49.608417Z"
    },
    "papermill": {
     "duration": 0.056788,
     "end_time": "2021-01-23T04:07:49.609153",
     "exception": false,
     "start_time": "2021-01-23T04:07:49.552365",
     "status": "completed"
    },
    "tags": []
   },
   "outputs": [],
   "source": [
    "# Install Emoji library.\n",
    "#!pip install emoji"
   ]
  },
  {
   "cell_type": "code",
   "execution_count": 33,
   "metadata": {
    "execution": {
     "iopub.execute_input": "2021-01-23T04:07:49.713390Z",
     "iopub.status.busy": "2021-01-23T04:07:49.712742Z",
     "iopub.status.idle": "2021-01-23T04:07:49.725712Z",
     "shell.execute_reply": "2021-01-23T04:07:49.726182Z"
    },
    "papermill": {
     "duration": 0.067653,
     "end_time": "2021-01-23T04:07:49.726325",
     "exception": false,
     "start_time": "2021-01-23T04:07:49.658672",
     "status": "completed"
    },
    "tags": []
   },
   "outputs": [],
   "source": [
    "# Import module emoji\n",
    "import emoji"
   ]
  },
  {
   "cell_type": "markdown",
   "metadata": {
    "papermill": {
     "duration": 0.050373,
     "end_time": "2021-01-23T04:07:49.832464",
     "exception": false,
     "start_time": "2021-01-23T04:07:49.782091",
     "status": "completed"
    },
    "tags": []
   },
   "source": [
    "Keep in mind that each emoji has a unicode"
   ]
  },
  {
   "cell_type": "code",
   "execution_count": 55,
   "metadata": {
    "execution": {
     "iopub.execute_input": "2021-01-23T04:07:49.962290Z",
     "iopub.status.busy": "2021-01-23T04:07:49.956933Z",
     "iopub.status.idle": "2021-01-23T04:07:50.393421Z",
     "shell.execute_reply": "2021-01-23T04:07:50.392794Z"
    },
    "papermill": {
     "duration": 0.510563,
     "end_time": "2021-01-23T04:07:50.393525",
     "exception": false,
     "start_time": "2021-01-23T04:07:49.882962",
     "status": "completed"
    },
    "tags": []
   },
   "outputs": [
    {
     "ename": "AttributeError",
     "evalue": "module 'emoji' has no attribute 'UNICODE_EMOJI'",
     "output_type": "error",
     "traceback": [
      "\u001b[1;31m---------------------------------------------------------------------------\u001b[0m",
      "\u001b[1;31mAttributeError\u001b[0m                            Traceback (most recent call last)",
      "Input \u001b[1;32mIn [55]\u001b[0m, in \u001b[0;36m<cell line: 4>\u001b[1;34m()\u001b[0m\n\u001b[0;32m      3\u001b[0m \u001b[38;5;28mstr\u001b[39m\u001b[38;5;241m=\u001b[39m\u001b[38;5;124m'\u001b[39m\u001b[38;5;124m'\u001b[39m\n\u001b[0;32m      4\u001b[0m \u001b[38;5;28;01mfor\u001b[39;00m i \u001b[38;5;129;01min\u001b[39;00m trending\u001b[38;5;241m.\u001b[39mtitle:\n\u001b[0;32m      5\u001b[0m \u001b[38;5;66;03m#     list=[c for c in i if c in emoji.UNICODE_EMOJI()]\u001b[39;00m\n\u001b[1;32m----> 6\u001b[0m     \u001b[38;5;28mlist\u001b[39m\u001b[38;5;241m=\u001b[39m[c \u001b[38;5;28;01mfor\u001b[39;00m c \u001b[38;5;129;01min\u001b[39;00m i \u001b[38;5;28;01mif\u001b[39;00m c \u001b[38;5;129;01min\u001b[39;00m emoji\u001b[38;5;241m.\u001b[39mUNICODE_EMOJI[\u001b[38;5;124m'\u001b[39m\u001b[38;5;124men\u001b[39m\u001b[38;5;124m'\u001b[39m]]\n\u001b[0;32m      7\u001b[0m     \u001b[38;5;28;01mfor\u001b[39;00m ele \u001b[38;5;129;01min\u001b[39;00m \u001b[38;5;28mlist\u001b[39m:\n\u001b[0;32m      8\u001b[0m         \u001b[38;5;28mstr\u001b[39m\u001b[38;5;241m=\u001b[39m \u001b[38;5;28mstr\u001b[39m\u001b[38;5;241m+\u001b[39mele\n",
      "Input \u001b[1;32mIn [55]\u001b[0m, in \u001b[0;36m<listcomp>\u001b[1;34m(.0)\u001b[0m\n\u001b[0;32m      3\u001b[0m \u001b[38;5;28mstr\u001b[39m\u001b[38;5;241m=\u001b[39m\u001b[38;5;124m'\u001b[39m\u001b[38;5;124m'\u001b[39m\n\u001b[0;32m      4\u001b[0m \u001b[38;5;28;01mfor\u001b[39;00m i \u001b[38;5;129;01min\u001b[39;00m trending\u001b[38;5;241m.\u001b[39mtitle:\n\u001b[0;32m      5\u001b[0m \u001b[38;5;66;03m#     list=[c for c in i if c in emoji.UNICODE_EMOJI()]\u001b[39;00m\n\u001b[1;32m----> 6\u001b[0m     \u001b[38;5;28mlist\u001b[39m\u001b[38;5;241m=\u001b[39m[c \u001b[38;5;28;01mfor\u001b[39;00m c \u001b[38;5;129;01min\u001b[39;00m i \u001b[38;5;28;01mif\u001b[39;00m c \u001b[38;5;129;01min\u001b[39;00m \u001b[43memoji\u001b[49m\u001b[38;5;241;43m.\u001b[39;49m\u001b[43mUNICODE_EMOJI\u001b[49m[\u001b[38;5;124m'\u001b[39m\u001b[38;5;124men\u001b[39m\u001b[38;5;124m'\u001b[39m]]\n\u001b[0;32m      7\u001b[0m     \u001b[38;5;28;01mfor\u001b[39;00m ele \u001b[38;5;129;01min\u001b[39;00m \u001b[38;5;28mlist\u001b[39m:\n\u001b[0;32m      8\u001b[0m         \u001b[38;5;28mstr\u001b[39m\u001b[38;5;241m=\u001b[39m \u001b[38;5;28mstr\u001b[39m\u001b[38;5;241m+\u001b[39mele\n",
      "\u001b[1;31mAttributeError\u001b[0m: module 'emoji' has no attribute 'UNICODE_EMOJI'"
     ]
    }
   ],
   "source": [
    "# Let's define a string \"str.\" We are creating a list for the emojis (if a character has a unicode then it will\n",
    "# be considered an emoji)\n",
    "str=''\n",
    "for i in trending.title:\n",
    "#     list=[c for c in i if c in emoji.UNICODE_EMOJI()]\n",
    "    list=[c for c in i if c in emoji.UNICODE_EMOJI['en']]\n",
    "    for ele in list:\n",
    "        str= str+ele\n"
   ]
  },
  {
   "cell_type": "code",
   "execution_count": 53,
   "metadata": {},
   "outputs": [
    {
     "data": {
      "text/plain": [
       "[':grinning_face_with_smiling_eyes:', ':grinning_face_with_sweat:']"
      ]
     },
     "execution_count": 53,
     "metadata": {},
     "output_type": "execute_result"
    }
   ],
   "source": [
    "new_line_list"
   ]
  },
  {
   "cell_type": "code",
   "execution_count": 39,
   "metadata": {
    "execution": {
     "iopub.execute_input": "2021-01-23T04:07:50.513745Z",
     "iopub.status.busy": "2021-01-23T04:07:50.512712Z",
     "iopub.status.idle": "2021-01-23T04:07:50.516578Z",
     "shell.execute_reply": "2021-01-23T04:07:50.517293Z"
    },
    "papermill": {
     "duration": 0.072375,
     "end_time": "2021-01-23T04:07:50.517448",
     "exception": false,
     "start_time": "2021-01-23T04:07:50.445073",
     "status": "completed"
    },
    "tags": []
   },
   "outputs": [
    {
     "data": {
      "text/plain": [
       "0"
      ]
     },
     "execution_count": 39,
     "metadata": {},
     "output_type": "execute_result"
    }
   ],
   "source": [
    "# How many emojis do we have in our dataset?\n",
    "len(str)"
   ]
  },
  {
   "cell_type": "code",
   "execution_count": 30,
   "metadata": {
    "execution": {
     "iopub.execute_input": "2021-01-23T04:07:50.668862Z",
     "iopub.status.busy": "2021-01-23T04:07:50.667816Z",
     "iopub.status.idle": "2021-01-23T04:07:50.671812Z",
     "shell.execute_reply": "2021-01-23T04:07:50.672476Z"
    },
    "papermill": {
     "duration": 0.08193,
     "end_time": "2021-01-23T04:07:50.672629",
     "exception": false,
     "start_time": "2021-01-23T04:07:50.590699",
     "status": "completed"
    },
    "tags": []
   },
   "outputs": [
    {
     "data": {
      "text/plain": [
       "'🌭❤😭☁🍞⚔🌭❤😭☁🍞⚔🌭❤😭☁🍞⚔🌭❤😭👅🥊❌👅™🥊❌👶👅™🥊❌👶💕👅™🥊❌💕👶👅™🥊❌💕👶👅™🥊®💕👅👶™®💕🏆🏆®🏡🏆®®🏡🏆®®®™🏡®🏡😱®®™🏡😱®®™⚔⚔😱😱®®™⚔⚔😱🇧🇷😱®®™🌿⚔⚔😱😱🇧🇷®🌿⚔⚔😱😱🇧🇷🌿⚔⚔😱😱🇧🇷😱🐶👋🏋🤯®🌿⚔⚔👶😱🐶👋🏋🤯®🌿👶🤔💔⚽😱🐶👋🏋®🤔💔👶⚽😱🐶👋🏋®®🤔💔👶⚽😱🐶®🤔💔👶😱⚽®🤔💔👶😱🤔💔👶®🤔💔👶®😮😮😮✏✏✏😮✏✏✏✨😮✏✏✏🤣🇲🇽✨🎥🤣🇲🇽✨🎥🤣🇲🇽✨😈🎥🤣🇲🇽😈🤣🇲🇽®®™😈🎥🤣🇲🇽👀🍿®®™🎥😈👀🍿®®™🎥😈🔴🔴🍂🙄👀🍿®®™🎥😈🔴🔴🍂🙄👀🍿®®™🎥😈⚡🍂🙄👀🍿✖⚡🍂🏠✖⚡🍂🏠✖⚡🍂🏠🍰✖⚡™🙏🏾🍰✖⚡🙏🏾🍰✖™🙏🏾🍰™🙏🏾™🎀🤑™🎀💔🔥❌🥀🤑🚨💔🎀🔥❌🥀🤑🚨💔🎀🔥❌🥀🤑🚨👀💋❌❌❌❌❌✖✖✖💔🎀🔥❌🥀👀💋❌\\U0001f9ca💎💵❌❌❌❌❌✖✖✖💔🎀👻🎶👀💋❤☕❌\\U0001f9ca💎💵❌❌❌❌❌✖✖✖💔🌧🌧👻🎶👀💋❤☕❌\\U0001f9ca💎💵🌧🌧👨🚀👻👻🎶💋👀❤☕👨🚀👻👻🎶💋👀❤☕🌧🌧👨🚀👻👻🎶💋❤☕👀🔥🔥🌧🌧👨🚀👻👻🎶🔥🔥🌧🌧👨🚀👻®🔥🔥🌧🌧👨🚀👻™🎃👻🐰®®™🎃👻🐰®🔴🎁👑🎁🎃👻🐰™🔴🎁👑🎁🎃👻🐰™👑👻🎅🔴🎁👑🎁🎃👻🐰™👑👻🎅🔴🎁👑🎁👑👻🎅🔴😭💍👑👻🎅🔴💍😭👑👻🎅🔴🔴👉🇺🇸❄😱😭👑👻🎅🔴💚❄😱📱📞💍😭👑👻🎅💚❄😱📱📞🔴👉🇺🇸😭💍👑👻💚❄😱📱📞🔴👉🇺🇸😭💍👑👻💚❄😱📱📞🔴👉🇺🇸😭💍💙💚❄😱📱📞😭💍🔴👉🇺🇸💙💚❄😱📱📞😭💍🔴👉🇺🇸🛠🇩🇴💚❄😱📱📞😭💍🛠🇩🇴💙💚🛠🇩🇴💙🕒®🛠🇩🇴💙®🕒®🛠🇩🇴💙®🕒®🛠®®🕒🥳®🏆🎮🥳🥳🥳🥳🎄🎄👊🎄🎄🎄🎄🎄🎄😮😮🤯®™😮🤯🎁®™‼💕❤🎄😮🤯🎁❤‼💕❤🎄🤯😮®™🎧❤🎁😳😊®™‼💕❤🎄👑💄🤯®™🎧❤🎁😳😊®™👑💄‼💕❤🎄®™🎧❤🎁😳😊®™👑💄‼💕❤🎄®™⛄🧑💻🎧❤🎁☃❄😱👑®™®™🎧❤⛄🧑💻🎁☃❄😱👑®™®™🎧☃❄😱👑®™®™🥺🚐🚘☃❄😱👑®™®™™🥺☃❄😱👑®™🥺™☃❄😱👑™🥺☃❄™🥺💍🍔☕™🥺💍🍔💍🍔👑🎄📺🍔👑🎄📺🎄💍🍔👑🎄📺🎄💍🍔👑👑🎄📺🎄🎄💍😰👑🎄📺🎄🎄💍😰👑🎄📺🎄🎄💍🎆🔴😰👑👑🎄📺🎄🎄💍🎆🔴😰👑👑🎄📺🎄🎄💔🎆🔴😰👑👑🎄📺🎄🎄🎆🔴😰👑‼💔🎆🔴😰👑🔴💔‼🎆🔴😰👑®🔴💔‼🎆🔴😰👑‼🎆🔴😰👑‼🎆🔴®🔴‼🎂🥳❤®🔴👑👑🎂🥳❤®🔴👑👑🎂🥳❤®🔴💕👑👑🎂🥳❤®💚💕👑👑🎂🥳❤🥶💚💕👑👑🎂🥳❤😅💸🥶💚💕👑👑🎂🥳❤💝😅💸🥶💚💕👑👑🎂🥳❤😅💸🥶💚💕👑👑💝😅💸🥶💚💕💝😅💸🥶💚💕'"
      ]
     },
     "execution_count": 30,
     "metadata": {},
     "output_type": "execute_result"
    }
   ],
   "source": [
    "# This is how our str looks like\n",
    "str"
   ]
  },
  {
   "cell_type": "code",
   "execution_count": 31,
   "metadata": {
    "execution": {
     "iopub.execute_input": "2021-01-23T04:07:50.825479Z",
     "iopub.status.busy": "2021-01-23T04:07:50.824376Z",
     "iopub.status.idle": "2021-01-23T04:07:50.829459Z",
     "shell.execute_reply": "2021-01-23T04:07:50.830208Z"
    },
    "papermill": {
     "duration": 0.083621,
     "end_time": "2021-01-23T04:07:50.830365",
     "exception": false,
     "start_time": "2021-01-23T04:07:50.746744",
     "status": "completed"
    },
    "tags": []
   },
   "outputs": [],
   "source": [
    "# Let's count the unique emojis\n",
    "result={}\n",
    "for i in set(str):\n",
    "    result[i]= str.count(i)"
   ]
  },
  {
   "cell_type": "code",
   "execution_count": 32,
   "metadata": {
    "execution": {
     "iopub.execute_input": "2021-01-23T04:07:50.990548Z",
     "iopub.status.busy": "2021-01-23T04:07:50.989826Z",
     "iopub.status.idle": "2021-01-23T04:07:50.995322Z",
     "shell.execute_reply": "2021-01-23T04:07:50.994774Z"
    },
    "papermill": {
     "duration": 0.090718,
     "end_time": "2021-01-23T04:07:50.995422",
     "exception": false,
     "start_time": "2021-01-23T04:07:50.904704",
     "status": "completed"
    },
    "tags": []
   },
   "outputs": [
    {
     "data": {
      "text/plain": [
       "dict_items([('🍞', 3), ('🚘', 1), ('💸', 5), ('🔥', 10), ('🥀', 4), ('💝', 3), ('🏋', 4), ('™', 49), ('🥊', 6), ('🥶', 6), ('😱', 33), ('🔴', 33), ('🇧', 4), ('🇴', 5), ('💎', 3), ('🌭', 4), ('🤯', 7), ('🛠', 6), ('☃', 7), ('✏', 9), ('💚', 15), ('🌧', 12), ('⚽', 4), ('🍿', 5), ('🎂', 8), ('🚐', 1), ('🎶', 6), ('💋', 7), ('❌', 27), ('⚡', 6), ('📞', 7), ('😊', 3), ('💙', 6), ('💄', 3), ('😰', 10), ('🥳', 13), ('🇩', 5), ('🇸', 6), ('👻', 26), ('👅', 7), ('😮', 10), ('🏠', 3), ('🏾', 4), ('🇲', 6), ('✖', 15), ('🇷', 4), ('👶', 13), ('🕒', 4), ('🙏', 4), ('🇺', 6), ('🎃', 5), ('🇽', 6), ('🧑', 2), ('💵', 3), ('😅', 5), ('🏡', 5), ('🐰', 5), ('👑', 56), ('🍔', 6), ('💕', 18), ('😭', 14), ('🍰', 4), ('‼', 11), ('🚨', 3), ('🤣', 6), ('👀', 12), ('👉', 6), ('💔', 17), ('🎮', 1), ('❤', 28), ('📺', 9), ('🏆', 5), ('❄', 15), ('⛄', 2), ('\\U0001f9ca', 3), ('🎥', 8), ('💻', 2), ('🎄', 36), ('☕', 6), ('📱', 7), ('🌿', 5), ('🎧', 6), ('👊', 1), ('🎆', 9), ('👋', 4), ('😈', 7), ('®', 73), ('😳', 3), ('🙄', 3), ('✨', 4), ('🎀', 6), ('⚔', 15), ('🚀', 6), ('🍂', 6), ('🥺', 6), ('🎁', 15), ('💍', 18), ('🤔', 7), ('🤑', 4), ('🐶', 5), ('☁', 3), ('👨', 6), ('🎅', 7)])"
      ]
     },
     "execution_count": 32,
     "metadata": {},
     "output_type": "execute_result"
    }
   ],
   "source": [
    "result.items()"
   ]
  },
  {
   "cell_type": "code",
   "execution_count": 33,
   "metadata": {
    "execution": {
     "iopub.execute_input": "2021-01-23T04:07:51.107703Z",
     "iopub.status.busy": "2021-01-23T04:07:51.107049Z",
     "iopub.status.idle": "2021-01-23T04:07:51.110387Z",
     "shell.execute_reply": "2021-01-23T04:07:51.109833Z"
    },
    "papermill": {
     "duration": 0.062176,
     "end_time": "2021-01-23T04:07:51.110492",
     "exception": false,
     "start_time": "2021-01-23T04:07:51.048316",
     "status": "completed"
    },
    "tags": []
   },
   "outputs": [],
   "source": [
    "# I will define a dictionary final that has each imoji(key) and its count(value)\n",
    "final={}\n",
    "for key, value in sorted(result.items(), key= lambda item:item[1]):\n",
    "    final[key]= value"
   ]
  },
  {
   "cell_type": "code",
   "execution_count": 34,
   "metadata": {
    "execution": {
     "iopub.execute_input": "2021-01-23T04:07:51.226098Z",
     "iopub.status.busy": "2021-01-23T04:07:51.225309Z",
     "iopub.status.idle": "2021-01-23T04:07:51.231324Z",
     "shell.execute_reply": "2021-01-23T04:07:51.230786Z"
    },
    "papermill": {
     "duration": 0.068081,
     "end_time": "2021-01-23T04:07:51.231426",
     "exception": false,
     "start_time": "2021-01-23T04:07:51.163345",
     "status": "completed"
    },
    "tags": []
   },
   "outputs": [
    {
     "data": {
      "text/plain": [
       "{'🚘': 1,\n",
       " '🚐': 1,\n",
       " '🎮': 1,\n",
       " '👊': 1,\n",
       " '🧑': 2,\n",
       " '⛄': 2,\n",
       " '💻': 2,\n",
       " '🍞': 3,\n",
       " '💝': 3,\n",
       " '💎': 3,\n",
       " '😊': 3,\n",
       " '💄': 3,\n",
       " '🏠': 3,\n",
       " '💵': 3,\n",
       " '🚨': 3,\n",
       " '\\U0001f9ca': 3,\n",
       " '😳': 3,\n",
       " '🙄': 3,\n",
       " '☁': 3,\n",
       " '🥀': 4,\n",
       " '🏋': 4,\n",
       " '🇧': 4,\n",
       " '🌭': 4,\n",
       " '⚽': 4,\n",
       " '🏾': 4,\n",
       " '🇷': 4,\n",
       " '🕒': 4,\n",
       " '🙏': 4,\n",
       " '🍰': 4,\n",
       " '👋': 4,\n",
       " '✨': 4,\n",
       " '🤑': 4,\n",
       " '💸': 5,\n",
       " '🇴': 5,\n",
       " '🍿': 5,\n",
       " '🇩': 5,\n",
       " '🎃': 5,\n",
       " '😅': 5,\n",
       " '🏡': 5,\n",
       " '🐰': 5,\n",
       " '🏆': 5,\n",
       " '🌿': 5,\n",
       " '🐶': 5,\n",
       " '🥊': 6,\n",
       " '🥶': 6,\n",
       " '🛠': 6,\n",
       " '🎶': 6,\n",
       " '⚡': 6,\n",
       " '💙': 6,\n",
       " '🇸': 6,\n",
       " '🇲': 6,\n",
       " '🇺': 6,\n",
       " '🇽': 6,\n",
       " '🍔': 6,\n",
       " '🤣': 6,\n",
       " '👉': 6,\n",
       " '☕': 6,\n",
       " '🎧': 6,\n",
       " '🎀': 6,\n",
       " '🚀': 6,\n",
       " '🍂': 6,\n",
       " '🥺': 6,\n",
       " '👨': 6,\n",
       " '🤯': 7,\n",
       " '☃': 7,\n",
       " '💋': 7,\n",
       " '📞': 7,\n",
       " '👅': 7,\n",
       " '📱': 7,\n",
       " '😈': 7,\n",
       " '🤔': 7,\n",
       " '🎅': 7,\n",
       " '🎂': 8,\n",
       " '🎥': 8,\n",
       " '✏': 9,\n",
       " '📺': 9,\n",
       " '🎆': 9,\n",
       " '🔥': 10,\n",
       " '😰': 10,\n",
       " '😮': 10,\n",
       " '‼': 11,\n",
       " '🌧': 12,\n",
       " '👀': 12,\n",
       " '🥳': 13,\n",
       " '👶': 13,\n",
       " '😭': 14,\n",
       " '💚': 15,\n",
       " '✖': 15,\n",
       " '❄': 15,\n",
       " '⚔': 15,\n",
       " '🎁': 15,\n",
       " '💔': 17,\n",
       " '💕': 18,\n",
       " '💍': 18,\n",
       " '👻': 26,\n",
       " '❌': 27,\n",
       " '❤': 28,\n",
       " '😱': 33,\n",
       " '🔴': 33,\n",
       " '🎄': 36,\n",
       " '™': 49,\n",
       " '👑': 56,\n",
       " '®': 73}"
      ]
     },
     "execution_count": 34,
     "metadata": {},
     "output_type": "execute_result"
    }
   ],
   "source": [
    "# Display our final result\n",
    "final"
   ]
  },
  {
   "cell_type": "code",
   "execution_count": 35,
   "metadata": {
    "execution": {
     "iopub.execute_input": "2021-01-23T04:07:51.344842Z",
     "iopub.status.busy": "2021-01-23T04:07:51.344207Z",
     "iopub.status.idle": "2021-01-23T04:07:51.352188Z",
     "shell.execute_reply": "2021-01-23T04:07:51.351688Z"
    },
    "papermill": {
     "duration": 0.066724,
     "end_time": "2021-01-23T04:07:51.352283",
     "exception": false,
     "start_time": "2021-01-23T04:07:51.285559",
     "status": "completed"
    },
    "tags": []
   },
   "outputs": [],
   "source": [
    "# Now, we create a data frame for the top used 10 emojis\n",
    "keys= [*final.keys()]\n",
    "values=[*final.values()]\n",
    "df= pd.DataFrame(keys[-10:], values[-10:])"
   ]
  },
  {
   "cell_type": "markdown",
   "metadata": {
    "papermill": {
     "duration": 0.053403,
     "end_time": "2021-01-23T04:07:51.458385",
     "exception": false,
     "start_time": "2021-01-23T04:07:51.404982",
     "status": "completed"
    },
    "tags": []
   },
   "source": [
    "# Visulize my emojis"
   ]
  },
  {
   "cell_type": "code",
   "execution_count": 36,
   "metadata": {
    "execution": {
     "iopub.execute_input": "2021-01-23T04:07:51.567166Z",
     "iopub.status.busy": "2021-01-23T04:07:51.566359Z",
     "iopub.status.idle": "2021-01-23T04:07:51.571009Z",
     "shell.execute_reply": "2021-01-23T04:07:51.571727Z"
    },
    "papermill": {
     "duration": 0.061137,
     "end_time": "2021-01-23T04:07:51.571871",
     "exception": false,
     "start_time": "2021-01-23T04:07:51.510734",
     "status": "completed"
    },
    "tags": []
   },
   "outputs": [],
   "source": [
    "df= pd.DataFrame({'chars': keys[-10:], 'num': values[-10]})"
   ]
  },
  {
   "cell_type": "code",
   "execution_count": 37,
   "metadata": {
    "execution": {
     "iopub.execute_input": "2021-01-23T04:07:51.733254Z",
     "iopub.status.busy": "2021-01-23T04:07:51.732368Z",
     "iopub.status.idle": "2021-01-23T04:07:51.759262Z",
     "shell.execute_reply": "2021-01-23T04:07:51.758526Z"
    },
    "papermill": {
     "duration": 0.110947,
     "end_time": "2021-01-23T04:07:51.759399",
     "exception": false,
     "start_time": "2021-01-23T04:07:51.648452",
     "status": "completed"
    },
    "tags": []
   },
   "outputs": [],
   "source": [
    "# Import libraries and modules\n",
    "import plotly.graph_objs as go\n",
    "from plotly.offline import iplot"
   ]
  },
  {
   "cell_type": "code",
   "execution_count": 38,
   "metadata": {
    "execution": {
     "iopub.execute_input": "2021-01-23T04:07:51.921410Z",
     "iopub.status.busy": "2021-01-23T04:07:51.920320Z",
     "iopub.status.idle": "2021-01-23T04:07:52.956518Z",
     "shell.execute_reply": "2021-01-23T04:07:52.955509Z"
    },
    "papermill": {
     "duration": 1.118283,
     "end_time": "2021-01-23T04:07:52.956683",
     "exception": false,
     "start_time": "2021-01-23T04:07:51.838400",
     "status": "completed"
    },
    "tags": []
   },
   "outputs": [
    {
     "data": {
      "text/html": [
       "        <script type=\"text/javascript\">\n",
       "        window.PlotlyConfig = {MathJaxConfig: 'local'};\n",
       "        if (window.MathJax) {MathJax.Hub.Config({SVG: {font: \"STIX-Web\"}});}\n",
       "        if (typeof require !== 'undefined') {\n",
       "        require.undef(\"plotly\");\n",
       "        requirejs.config({\n",
       "            paths: {\n",
       "                'plotly': ['https://cdn.plot.ly/plotly-latest.min']\n",
       "            }\n",
       "        });\n",
       "        require(['plotly'], function(Plotly) {\n",
       "            window._Plotly = Plotly;\n",
       "        });\n",
       "        }\n",
       "        </script>\n",
       "        "
      ]
     },
     "metadata": {},
     "output_type": "display_data"
    },
    {
     "data": {
      "text/html": [
       "<div>                            <div id=\"9a9c51a4-050f-47b7-bc5d-703937c728c6\" class=\"plotly-graph-div\" style=\"height:525px; width:100%;\"></div>            <script type=\"text/javascript\">                require([\"plotly\"], function(Plotly) {                    window.PLOTLYENV=window.PLOTLYENV || {};                                    if (document.getElementById(\"9a9c51a4-050f-47b7-bc5d-703937c728c6\")) {                    Plotly.newPlot(                        \"9a9c51a4-050f-47b7-bc5d-703937c728c6\",                        [{\"type\": \"bar\", \"x\": [\"\\ud83d\\udc8d\", \"\\ud83d\\udc7b\", \"\\u274c\", \"\\u2764\", \"\\ud83d\\ude31\", \"\\ud83d\\udd34\", \"\\ud83c\\udf84\", \"\\u2122\", \"\\ud83d\\udc51\", \"\\u00ae\"], \"y\": [18, 18, 18, 18, 18, 18, 18, 18, 18, 18]}],                        {\"template\": {\"data\": {\"bar\": [{\"error_x\": {\"color\": \"#2a3f5f\"}, \"error_y\": {\"color\": \"#2a3f5f\"}, \"marker\": {\"line\": {\"color\": \"#E5ECF6\", \"width\": 0.5}}, \"type\": \"bar\"}], \"barpolar\": [{\"marker\": {\"line\": {\"color\": \"#E5ECF6\", \"width\": 0.5}}, \"type\": \"barpolar\"}], \"carpet\": [{\"aaxis\": {\"endlinecolor\": \"#2a3f5f\", \"gridcolor\": \"white\", \"linecolor\": \"white\", \"minorgridcolor\": \"white\", \"startlinecolor\": \"#2a3f5f\"}, \"baxis\": {\"endlinecolor\": \"#2a3f5f\", \"gridcolor\": \"white\", \"linecolor\": \"white\", \"minorgridcolor\": \"white\", \"startlinecolor\": \"#2a3f5f\"}, \"type\": \"carpet\"}], \"choropleth\": [{\"colorbar\": {\"outlinewidth\": 0, \"ticks\": \"\"}, \"type\": \"choropleth\"}], \"contour\": [{\"colorbar\": {\"outlinewidth\": 0, \"ticks\": \"\"}, \"colorscale\": [[0.0, \"#0d0887\"], [0.1111111111111111, \"#46039f\"], [0.2222222222222222, \"#7201a8\"], [0.3333333333333333, \"#9c179e\"], [0.4444444444444444, \"#bd3786\"], [0.5555555555555556, \"#d8576b\"], [0.6666666666666666, \"#ed7953\"], [0.7777777777777778, \"#fb9f3a\"], [0.8888888888888888, \"#fdca26\"], [1.0, \"#f0f921\"]], \"type\": \"contour\"}], \"contourcarpet\": [{\"colorbar\": {\"outlinewidth\": 0, \"ticks\": \"\"}, \"type\": \"contourcarpet\"}], \"heatmap\": [{\"colorbar\": {\"outlinewidth\": 0, \"ticks\": \"\"}, \"colorscale\": [[0.0, \"#0d0887\"], [0.1111111111111111, \"#46039f\"], [0.2222222222222222, \"#7201a8\"], [0.3333333333333333, \"#9c179e\"], [0.4444444444444444, \"#bd3786\"], [0.5555555555555556, \"#d8576b\"], [0.6666666666666666, \"#ed7953\"], [0.7777777777777778, \"#fb9f3a\"], [0.8888888888888888, \"#fdca26\"], [1.0, \"#f0f921\"]], \"type\": \"heatmap\"}], \"heatmapgl\": [{\"colorbar\": {\"outlinewidth\": 0, \"ticks\": \"\"}, \"colorscale\": [[0.0, \"#0d0887\"], [0.1111111111111111, \"#46039f\"], [0.2222222222222222, \"#7201a8\"], [0.3333333333333333, \"#9c179e\"], [0.4444444444444444, \"#bd3786\"], [0.5555555555555556, \"#d8576b\"], [0.6666666666666666, \"#ed7953\"], [0.7777777777777778, \"#fb9f3a\"], [0.8888888888888888, \"#fdca26\"], [1.0, \"#f0f921\"]], \"type\": \"heatmapgl\"}], \"histogram\": [{\"marker\": {\"colorbar\": {\"outlinewidth\": 0, \"ticks\": \"\"}}, \"type\": \"histogram\"}], \"histogram2d\": [{\"colorbar\": {\"outlinewidth\": 0, \"ticks\": \"\"}, \"colorscale\": [[0.0, \"#0d0887\"], [0.1111111111111111, \"#46039f\"], [0.2222222222222222, \"#7201a8\"], [0.3333333333333333, \"#9c179e\"], [0.4444444444444444, \"#bd3786\"], [0.5555555555555556, \"#d8576b\"], [0.6666666666666666, \"#ed7953\"], [0.7777777777777778, \"#fb9f3a\"], [0.8888888888888888, \"#fdca26\"], [1.0, \"#f0f921\"]], \"type\": \"histogram2d\"}], \"histogram2dcontour\": [{\"colorbar\": {\"outlinewidth\": 0, \"ticks\": \"\"}, \"colorscale\": [[0.0, \"#0d0887\"], [0.1111111111111111, \"#46039f\"], [0.2222222222222222, \"#7201a8\"], [0.3333333333333333, \"#9c179e\"], [0.4444444444444444, \"#bd3786\"], [0.5555555555555556, \"#d8576b\"], [0.6666666666666666, \"#ed7953\"], [0.7777777777777778, \"#fb9f3a\"], [0.8888888888888888, \"#fdca26\"], [1.0, \"#f0f921\"]], \"type\": \"histogram2dcontour\"}], \"mesh3d\": [{\"colorbar\": {\"outlinewidth\": 0, \"ticks\": \"\"}, \"type\": \"mesh3d\"}], \"parcoords\": [{\"line\": {\"colorbar\": {\"outlinewidth\": 0, \"ticks\": \"\"}}, \"type\": \"parcoords\"}], \"pie\": [{\"automargin\": true, \"type\": \"pie\"}], \"scatter\": [{\"marker\": {\"colorbar\": {\"outlinewidth\": 0, \"ticks\": \"\"}}, \"type\": \"scatter\"}], \"scatter3d\": [{\"line\": {\"colorbar\": {\"outlinewidth\": 0, \"ticks\": \"\"}}, \"marker\": {\"colorbar\": {\"outlinewidth\": 0, \"ticks\": \"\"}}, \"type\": \"scatter3d\"}], \"scattercarpet\": [{\"marker\": {\"colorbar\": {\"outlinewidth\": 0, \"ticks\": \"\"}}, \"type\": \"scattercarpet\"}], \"scattergeo\": [{\"marker\": {\"colorbar\": {\"outlinewidth\": 0, \"ticks\": \"\"}}, \"type\": \"scattergeo\"}], \"scattergl\": [{\"marker\": {\"colorbar\": {\"outlinewidth\": 0, \"ticks\": \"\"}}, \"type\": \"scattergl\"}], \"scattermapbox\": [{\"marker\": {\"colorbar\": {\"outlinewidth\": 0, \"ticks\": \"\"}}, \"type\": \"scattermapbox\"}], \"scatterpolar\": [{\"marker\": {\"colorbar\": {\"outlinewidth\": 0, \"ticks\": \"\"}}, \"type\": \"scatterpolar\"}], \"scatterpolargl\": [{\"marker\": {\"colorbar\": {\"outlinewidth\": 0, \"ticks\": \"\"}}, \"type\": \"scatterpolargl\"}], \"scatterternary\": [{\"marker\": {\"colorbar\": {\"outlinewidth\": 0, \"ticks\": \"\"}}, \"type\": \"scatterternary\"}], \"surface\": [{\"colorbar\": {\"outlinewidth\": 0, \"ticks\": \"\"}, \"colorscale\": [[0.0, \"#0d0887\"], [0.1111111111111111, \"#46039f\"], [0.2222222222222222, \"#7201a8\"], [0.3333333333333333, \"#9c179e\"], [0.4444444444444444, \"#bd3786\"], [0.5555555555555556, \"#d8576b\"], [0.6666666666666666, \"#ed7953\"], [0.7777777777777778, \"#fb9f3a\"], [0.8888888888888888, \"#fdca26\"], [1.0, \"#f0f921\"]], \"type\": \"surface\"}], \"table\": [{\"cells\": {\"fill\": {\"color\": \"#EBF0F8\"}, \"line\": {\"color\": \"white\"}}, \"header\": {\"fill\": {\"color\": \"#C8D4E3\"}, \"line\": {\"color\": \"white\"}}, \"type\": \"table\"}]}, \"layout\": {\"annotationdefaults\": {\"arrowcolor\": \"#2a3f5f\", \"arrowhead\": 0, \"arrowwidth\": 1}, \"autotypenumbers\": \"strict\", \"coloraxis\": {\"colorbar\": {\"outlinewidth\": 0, \"ticks\": \"\"}}, \"colorscale\": {\"diverging\": [[0, \"#8e0152\"], [0.1, \"#c51b7d\"], [0.2, \"#de77ae\"], [0.3, \"#f1b6da\"], [0.4, \"#fde0ef\"], [0.5, \"#f7f7f7\"], [0.6, \"#e6f5d0\"], [0.7, \"#b8e186\"], [0.8, \"#7fbc41\"], [0.9, \"#4d9221\"], [1, \"#276419\"]], \"sequential\": [[0.0, \"#0d0887\"], [0.1111111111111111, \"#46039f\"], [0.2222222222222222, \"#7201a8\"], [0.3333333333333333, \"#9c179e\"], [0.4444444444444444, \"#bd3786\"], [0.5555555555555556, \"#d8576b\"], [0.6666666666666666, \"#ed7953\"], [0.7777777777777778, \"#fb9f3a\"], [0.8888888888888888, \"#fdca26\"], [1.0, \"#f0f921\"]], \"sequentialminus\": [[0.0, \"#0d0887\"], [0.1111111111111111, \"#46039f\"], [0.2222222222222222, \"#7201a8\"], [0.3333333333333333, \"#9c179e\"], [0.4444444444444444, \"#bd3786\"], [0.5555555555555556, \"#d8576b\"], [0.6666666666666666, \"#ed7953\"], [0.7777777777777778, \"#fb9f3a\"], [0.8888888888888888, \"#fdca26\"], [1.0, \"#f0f921\"]]}, \"colorway\": [\"#636efa\", \"#EF553B\", \"#00cc96\", \"#ab63fa\", \"#FFA15A\", \"#19d3f3\", \"#FF6692\", \"#B6E880\", \"#FF97FF\", \"#FECB52\"], \"font\": {\"color\": \"#2a3f5f\"}, \"geo\": {\"bgcolor\": \"white\", \"lakecolor\": \"white\", \"landcolor\": \"#E5ECF6\", \"showlakes\": true, \"showland\": true, \"subunitcolor\": \"white\"}, \"hoverlabel\": {\"align\": \"left\"}, \"hovermode\": \"closest\", \"mapbox\": {\"style\": \"light\"}, \"paper_bgcolor\": \"white\", \"plot_bgcolor\": \"#E5ECF6\", \"polar\": {\"angularaxis\": {\"gridcolor\": \"white\", \"linecolor\": \"white\", \"ticks\": \"\"}, \"bgcolor\": \"#E5ECF6\", \"radialaxis\": {\"gridcolor\": \"white\", \"linecolor\": \"white\", \"ticks\": \"\"}}, \"scene\": {\"xaxis\": {\"backgroundcolor\": \"#E5ECF6\", \"gridcolor\": \"white\", \"gridwidth\": 2, \"linecolor\": \"white\", \"showbackground\": true, \"ticks\": \"\", \"zerolinecolor\": \"white\"}, \"yaxis\": {\"backgroundcolor\": \"#E5ECF6\", \"gridcolor\": \"white\", \"gridwidth\": 2, \"linecolor\": \"white\", \"showbackground\": true, \"ticks\": \"\", \"zerolinecolor\": \"white\"}, \"zaxis\": {\"backgroundcolor\": \"#E5ECF6\", \"gridcolor\": \"white\", \"gridwidth\": 2, \"linecolor\": \"white\", \"showbackground\": true, \"ticks\": \"\", \"zerolinecolor\": \"white\"}}, \"shapedefaults\": {\"line\": {\"color\": \"#2a3f5f\"}}, \"ternary\": {\"aaxis\": {\"gridcolor\": \"white\", \"linecolor\": \"white\", \"ticks\": \"\"}, \"baxis\": {\"gridcolor\": \"white\", \"linecolor\": \"white\", \"ticks\": \"\"}, \"bgcolor\": \"#E5ECF6\", \"caxis\": {\"gridcolor\": \"white\", \"linecolor\": \"white\", \"ticks\": \"\"}}, \"title\": {\"x\": 0.05}, \"xaxis\": {\"automargin\": true, \"gridcolor\": \"white\", \"linecolor\": \"white\", \"ticks\": \"\", \"title\": {\"standoff\": 15}, \"zerolinecolor\": \"white\", \"zerolinewidth\": 2}, \"yaxis\": {\"automargin\": true, \"gridcolor\": \"white\", \"linecolor\": \"white\", \"ticks\": \"\", \"title\": {\"standoff\": 15}, \"zerolinecolor\": \"white\", \"zerolinewidth\": 2}}}},                        {\"responsive\": true}                    ).then(function(){\n",
       "                            \n",
       "var gd = document.getElementById('9a9c51a4-050f-47b7-bc5d-703937c728c6');\n",
       "var x = new MutationObserver(function (mutations, observer) {{\n",
       "        var display = window.getComputedStyle(gd).display;\n",
       "        if (!display || display === 'none') {{\n",
       "            console.log([gd, 'removed!']);\n",
       "            Plotly.purge(gd);\n",
       "            observer.disconnect();\n",
       "        }}\n",
       "}});\n",
       "\n",
       "// Listen for the removal of the full notebook cells\n",
       "var notebookContainer = gd.closest('#notebook-container');\n",
       "if (notebookContainer) {{\n",
       "    x.observe(notebookContainer, {childList: true});\n",
       "}}\n",
       "\n",
       "// Listen for the clearing of the current output cell\n",
       "var outputEl = gd.closest('.output');\n",
       "if (outputEl) {{\n",
       "    x.observe(outputEl, {childList: true});\n",
       "}}\n",
       "\n",
       "                        })                };                });            </script>        </div>"
      ]
     },
     "metadata": {},
     "output_type": "display_data"
    }
   ],
   "source": [
    "graph = go.Bar(\n",
    "x= df['chars'],\n",
    "y= df['num'])\n",
    "iplot([graph] )\n",
    "# Hover over the bars to view the emojis along with the count"
   ]
  },
  {
   "cell_type": "markdown",
   "metadata": {
    "papermill": {
     "duration": 0.078835,
     "end_time": "2021-01-23T04:07:53.114763",
     "exception": false,
     "start_time": "2021-01-23T04:07:53.035928",
     "status": "completed"
    },
    "tags": []
   },
   "source": [
    "# The END"
   ]
  }
 ],
 "metadata": {
  "kernelspec": {
   "display_name": "Python 3 (ipykernel)",
   "language": "python",
   "name": "python3"
  },
  "language_info": {
   "codemirror_mode": {
    "name": "ipython",
    "version": 3
   },
   "file_extension": ".py",
   "mimetype": "text/x-python",
   "name": "python",
   "nbconvert_exporter": "python",
   "pygments_lexer": "ipython3",
   "version": "3.9.12"
  },
  "papermill": {
   "duration": 28.209671,
   "end_time": "2021-01-23T04:07:53.302821",
   "environment_variables": {},
   "exception": null,
   "input_path": "__notebook__.ipynb",
   "output_path": "__notebook__.ipynb",
   "parameters": {},
   "start_time": "2021-01-23T04:07:25.093150",
   "version": "2.1.0"
  }
 },
 "nbformat": 4,
 "nbformat_minor": 4
}
