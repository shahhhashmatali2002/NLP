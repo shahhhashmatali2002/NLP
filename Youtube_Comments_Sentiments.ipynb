{
 "cells": [
  {
   "cell_type": "code",
   "execution_count": 41,
   "id": "b216017a",
   "metadata": {},
   "outputs": [],
   "source": [
    "from youtube_comment_scraper_python import *\n",
    "import pandas as pd\n",
    "import time"
   ]
  },
  {
   "cell_type": "code",
   "execution_count": null,
   "id": "006f87ef",
   "metadata": {},
   "outputs": [],
   "source": [
    "youtube.open(\"https://youtu.be/2VpdPBxZoCQ\")\n",
    "fullcomments=[]\n",
    "for i in range(0,10):\n",
    "    response=youtube.video_comments()\n",
    "    data=response['body']\n",
    "    print(response)\n",
    "    fullcomments.extend(data)\n",
    "# dataframe = pd.Dataframe(fullcomments)\n",
    "# print(dataframe)\n",
    "# time.sleep(5)\n",
    "print(fullcomments)"
   ]
  },
  {
   "cell_type": "code",
   "execution_count": null,
   "id": "ce8fe224",
   "metadata": {},
   "outputs": [],
   "source": [
    "# Women: 580.94 calories\n",
    "# Men: 891.47 calories\n",
    "\n",
    "# Code\n",
    "\n",
    "''' Women: Calories = ((Age x 0.074) - (Weight x 0.05741) + (Heart Rate x 0.4472) - 20.4022) x Time / 4.184 '''\n",
    "''' Men: Calories = ((Age x 0.2017) + (Weight x 0.09036) + (Heart Rate x 0.6309) - 55.0969) x Time / 4.184 '''\n",
    "\n",
    "''' Type your code here. '''\n",
    "gender = input('Please Enter Your Gender M/F. ')\n",
    "if gender != 'M' Or gender != 'F':\n",
    "    \n",
    "age = int(input('Enter Your Age. '))\n",
    "weight = int(input('Enter Your Weight in Kg. '))\n",
    "hr = int(input('Enter Hours. '))\n",
    "time = int(input('Enter Time. '))\n",
    "\n",
    "if gender == 'M':\n",
    "    calories_women = (( age * 0.074) - (weight * 0.05741) + (hr * 0.4472)-20.4022)*time/4.184\n",
    "    print('Men: {:.2f} calories'.format(calories_man))\n",
    "elif gender == 'F':\n",
    "    calories_man = (( age * 0.2017)+ (weight*0.09036)+(hr*0.6309)-55.0969)*time/4.184\n",
    "    print('Women: {:.2f} calories'.format(calories_women))\n",
    "else:\n",
    "    print(\"You have entered wrong.\")\n",
    "    "
   ]
  },
  {
   "cell_type": "code",
   "execution_count": null,
   "id": "b5427980",
   "metadata": {},
   "outputs": [],
   "source": []
  }
 ],
 "metadata": {
  "kernelspec": {
   "display_name": "Python 3 (ipykernel)",
   "language": "python",
   "name": "python3"
  },
  "language_info": {
   "codemirror_mode": {
    "name": "ipython",
    "version": 3
   },
   "file_extension": ".py",
   "mimetype": "text/x-python",
   "name": "python",
   "nbconvert_exporter": "python",
   "pygments_lexer": "ipython3",
   "version": "3.9.12"
  }
 },
 "nbformat": 4,
 "nbformat_minor": 5
}
