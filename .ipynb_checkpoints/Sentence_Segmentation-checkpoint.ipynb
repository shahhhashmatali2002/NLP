{
 "cells": [
  {
   "cell_type": "code",
   "execution_count": 1,
   "id": "ebb8f7bd",
   "metadata": {},
   "outputs": [],
   "source": [
    "import spacy\n",
    "nlp = spacy.load('en_core_web_sm')"
   ]
  },
  {
   "cell_type": "code",
   "execution_count": 27,
   "id": "ed0b4fc0",
   "metadata": {},
   "outputs": [],
   "source": [
    "def entityRecognition(doc):\n",
    "   if doc.ents:\n",
    "     for ent in doc.ents:\n",
    "        print(f\"{ent.text} - {ent.label_} - {spacy.explain(ent.label_)}\")\n",
    "     else:\n",
    "        print('No Entity')"
   ]
  },
  {
   "cell_type": "code",
   "execution_count": 28,
   "id": "0e7efb05",
   "metadata": {},
   "outputs": [
    {
     "name": "stdout",
     "output_type": "stream",
     "text": [
      "Hashmat Ali Shah - PERSON - People, including fictional\n",
      "No Entity\n"
     ]
    }
   ],
   "source": [
    "doc = nlp(u'My Name is Hashmat Ali Shah')\n",
    "entityRecognition(doc)"
   ]
  },
  {
   "cell_type": "code",
   "execution_count": 29,
   "id": "f2d31d5c",
   "metadata": {},
   "outputs": [
    {
     "name": "stdout",
     "output_type": "stream",
     "text": [
      "Hashmat Ali Shah - PERSON - People, including fictional\n",
      "Sind Madresatul Islam University - ORG - Companies, agencies, institutions, etc.\n",
      "Macrosoft - ORG - Companies, agencies, institutions, etc.\n",
      "No Entity\n"
     ]
    }
   ],
   "source": [
    "doc = nlp(u'My Name is Hashmat Ali Shah, I am undergraduate in Sind Madresatul Islam University. I do job in Macrosoft as a junior python developer')\n",
    "entityRecognition(doc)"
   ]
  },
  {
   "cell_type": "code",
   "execution_count": 30,
   "id": "5265680a",
   "metadata": {},
   "outputs": [
    {
     "name": "stdout",
     "output_type": "stream",
     "text": [
      "Pakistan - GPE - Countries, cities, states\n",
      "No Entity\n"
     ]
    }
   ],
   "source": [
    "doc = nlp(u'I live in Pakistan i want to do world tour.')\n",
    "entityRecognition(doc)"
   ]
  },
  {
   "cell_type": "code",
   "execution_count": 33,
   "id": "26efd36c",
   "metadata": {},
   "outputs": [],
   "source": [
    "doc = nlp(u'I like to play cricket i go to gym daily at night and i go to park to walk')\n",
    "entityRecognition(doc)"
   ]
  },
  {
   "cell_type": "code",
   "execution_count": 34,
   "id": "a2fa8bfe",
   "metadata": {},
   "outputs": [
    {
     "name": "stdout",
     "output_type": "stream",
     "text": [
      "5 - MONEY - Monetary values, including unit\n",
      "five dollar - MONEY - Monetary values, including unit\n",
      "No Entity\n"
     ]
    }
   ],
   "source": [
    "doc = nlp(u'I have $5 i have spent five dollar.')\n",
    "entityRecognition(doc)"
   ]
  },
  {
   "cell_type": "code",
   "execution_count": 35,
   "id": "821a0143",
   "metadata": {},
   "outputs": [
    {
     "name": "stdout",
     "output_type": "stream",
     "text": [
      "5 - MONEY - Monetary values, including unit\n",
      "five-dollar - MONEY - Monetary values, including unit\n",
      "No Entity\n"
     ]
    }
   ],
   "source": [
    "doc = nlp(u'I have $5 i have spent five-dollar.')\n",
    "entityRecognition(doc)"
   ]
  },
  {
   "cell_type": "code",
   "execution_count": 39,
   "id": "2b170a62",
   "metadata": {},
   "outputs": [
    {
     "name": "stdout",
     "output_type": "stream",
     "text": [
      "five - CARDINAL - Numerals that do not fall under another type\n",
      "Rupees - ORG - Companies, agencies, institutions, etc.\n",
      "No Entity\n"
     ]
    }
   ],
   "source": [
    "doc = nlp(u'I have RS:5 i have spent five Rupees.')\n",
    "entityRecognition(doc)"
   ]
  },
  {
   "cell_type": "code",
   "execution_count": 55,
   "id": "f4ba2792",
   "metadata": {},
   "outputs": [],
   "source": [
    "# Quick funciton to remove whitespace\n",
    "def remove_whitespace_entities(doc):\n",
    "    doc.ents = [e for e in doc.ents if not e.text.isspace()]\n",
    "    return doc\n",
    "\n",
    "#Insert this into the pipeline after the ner componentns\n",
    "# nlp.add_pipe(remove_whitespace_entities, after='ner')"
   ]
  },
  {
   "cell_type": "code",
   "execution_count": null,
   "id": "a00a1904",
   "metadata": {},
   "outputs": [],
   "source": [
    "doc"
   ]
  }
 ],
 "metadata": {
  "kernelspec": {
   "display_name": "Python 3 (ipykernel)",
   "language": "python",
   "name": "python3"
  },
  "language_info": {
   "codemirror_mode": {
    "name": "ipython",
    "version": 3
   },
   "file_extension": ".py",
   "mimetype": "text/x-python",
   "name": "python",
   "nbconvert_exporter": "python",
   "pygments_lexer": "ipython3",
   "version": "3.9.12"
  }
 },
 "nbformat": 4,
 "nbformat_minor": 5
}
