{
 "cells": [
  {
   "cell_type": "markdown",
   "metadata": {
    "papermill": {
     "duration": 0.031508,
     "end_time": "2021-01-23T04:07:29.624291",
     "exception": false,
     "start_time": "2021-01-23T04:07:29.592783",
     "status": "completed"
    },
    "tags": []
   },
   "source": [
    "            "
   ]
  },
  {
   "cell_type": "markdown",
   "metadata": {
    "papermill": {
     "duration": 0.031553,
     "end_time": "2021-01-23T04:07:29.687579",
     "exception": false,
     "start_time": "2021-01-23T04:07:29.656026",
     "status": "completed"
    },
    "tags": []
   },
   "source": [
    "## Let's start"
   ]
  },
  {
   "cell_type": "code",
   "execution_count": 1,
   "metadata": {
    "_cell_guid": "b1076dfc-b9ad-4769-8c92-a6c4dae69d19",
    "_uuid": "8f2839f25d086af736a60e9eeb907d3b93b6e0e5",
    "execution": {
     "iopub.execute_input": "2021-01-23T04:07:29.756565Z",
     "iopub.status.busy": "2021-01-23T04:07:29.755731Z",
     "iopub.status.idle": "2021-01-23T04:07:30.705564Z",
     "shell.execute_reply": "2021-01-23T04:07:30.704425Z"
    },
    "papermill": {
     "duration": 0.985542,
     "end_time": "2021-01-23T04:07:30.705736",
     "exception": false,
     "start_time": "2021-01-23T04:07:29.720194",
     "status": "completed"
    },
    "tags": []
   },
   "outputs": [],
   "source": [
    "# Import important libraries\n",
    "import pandas as pd\n",
    "import numpy as np\n",
    "import matplotlib.pyplot as plt\n",
    "import seaborn as sns"
   ]
  },
  {
   "cell_type": "code",
   "execution_count": 2,
   "metadata": {
    "execution": {
     "iopub.execute_input": "2021-01-23T04:07:30.780794Z",
     "iopub.status.busy": "2021-01-23T04:07:30.780155Z",
     "iopub.status.idle": "2021-01-23T04:07:32.050343Z",
     "shell.execute_reply": "2021-01-23T04:07:32.049252Z"
    },
    "papermill": {
     "duration": 1.311884,
     "end_time": "2021-01-23T04:07:32.050484",
     "exception": false,
     "start_time": "2021-01-23T04:07:30.738600",
     "status": "completed"
    },
    "tags": []
   },
   "outputs": [
    {
     "ename": "FileNotFoundError",
     "evalue": "[Errno 2] No such file or directory: '../input/youtube-trending-video-dataset/US_youtube_trending_data.csv'",
     "output_type": "error",
     "traceback": [
      "\u001b[1;31m---------------------------------------------------------------------------\u001b[0m",
      "\u001b[1;31mFileNotFoundError\u001b[0m                         Traceback (most recent call last)",
      "Input \u001b[1;32mIn [2]\u001b[0m, in \u001b[0;36m<cell line: 2>\u001b[1;34m()\u001b[0m\n\u001b[0;32m      1\u001b[0m \u001b[38;5;66;03m# Load our data\u001b[39;00m\n\u001b[1;32m----> 2\u001b[0m trending\u001b[38;5;241m=\u001b[39m \u001b[43mpd\u001b[49m\u001b[38;5;241;43m.\u001b[39;49m\u001b[43mread_csv\u001b[49m\u001b[43m(\u001b[49m\u001b[38;5;124;43m'\u001b[39;49m\u001b[38;5;124;43m../input/youtube-trending-video-dataset/US_youtube_trending_data.csv\u001b[39;49m\u001b[38;5;124;43m'\u001b[39;49m\u001b[43m)\u001b[49m\n",
      "File \u001b[1;32m~\\anaconda3\\lib\\site-packages\\pandas\\util\\_decorators.py:311\u001b[0m, in \u001b[0;36mdeprecate_nonkeyword_arguments.<locals>.decorate.<locals>.wrapper\u001b[1;34m(*args, **kwargs)\u001b[0m\n\u001b[0;32m    305\u001b[0m \u001b[38;5;28;01mif\u001b[39;00m \u001b[38;5;28mlen\u001b[39m(args) \u001b[38;5;241m>\u001b[39m num_allow_args:\n\u001b[0;32m    306\u001b[0m     warnings\u001b[38;5;241m.\u001b[39mwarn(\n\u001b[0;32m    307\u001b[0m         msg\u001b[38;5;241m.\u001b[39mformat(arguments\u001b[38;5;241m=\u001b[39marguments),\n\u001b[0;32m    308\u001b[0m         \u001b[38;5;167;01mFutureWarning\u001b[39;00m,\n\u001b[0;32m    309\u001b[0m         stacklevel\u001b[38;5;241m=\u001b[39mstacklevel,\n\u001b[0;32m    310\u001b[0m     )\n\u001b[1;32m--> 311\u001b[0m \u001b[38;5;28;01mreturn\u001b[39;00m func(\u001b[38;5;241m*\u001b[39margs, \u001b[38;5;241m*\u001b[39m\u001b[38;5;241m*\u001b[39mkwargs)\n",
      "File \u001b[1;32m~\\anaconda3\\lib\\site-packages\\pandas\\io\\parsers\\readers.py:680\u001b[0m, in \u001b[0;36mread_csv\u001b[1;34m(filepath_or_buffer, sep, delimiter, header, names, index_col, usecols, squeeze, prefix, mangle_dupe_cols, dtype, engine, converters, true_values, false_values, skipinitialspace, skiprows, skipfooter, nrows, na_values, keep_default_na, na_filter, verbose, skip_blank_lines, parse_dates, infer_datetime_format, keep_date_col, date_parser, dayfirst, cache_dates, iterator, chunksize, compression, thousands, decimal, lineterminator, quotechar, quoting, doublequote, escapechar, comment, encoding, encoding_errors, dialect, error_bad_lines, warn_bad_lines, on_bad_lines, delim_whitespace, low_memory, memory_map, float_precision, storage_options)\u001b[0m\n\u001b[0;32m    665\u001b[0m kwds_defaults \u001b[38;5;241m=\u001b[39m _refine_defaults_read(\n\u001b[0;32m    666\u001b[0m     dialect,\n\u001b[0;32m    667\u001b[0m     delimiter,\n\u001b[1;32m   (...)\u001b[0m\n\u001b[0;32m    676\u001b[0m     defaults\u001b[38;5;241m=\u001b[39m{\u001b[38;5;124m\"\u001b[39m\u001b[38;5;124mdelimiter\u001b[39m\u001b[38;5;124m\"\u001b[39m: \u001b[38;5;124m\"\u001b[39m\u001b[38;5;124m,\u001b[39m\u001b[38;5;124m\"\u001b[39m},\n\u001b[0;32m    677\u001b[0m )\n\u001b[0;32m    678\u001b[0m kwds\u001b[38;5;241m.\u001b[39mupdate(kwds_defaults)\n\u001b[1;32m--> 680\u001b[0m \u001b[38;5;28;01mreturn\u001b[39;00m \u001b[43m_read\u001b[49m\u001b[43m(\u001b[49m\u001b[43mfilepath_or_buffer\u001b[49m\u001b[43m,\u001b[49m\u001b[43m \u001b[49m\u001b[43mkwds\u001b[49m\u001b[43m)\u001b[49m\n",
      "File \u001b[1;32m~\\anaconda3\\lib\\site-packages\\pandas\\io\\parsers\\readers.py:575\u001b[0m, in \u001b[0;36m_read\u001b[1;34m(filepath_or_buffer, kwds)\u001b[0m\n\u001b[0;32m    572\u001b[0m _validate_names(kwds\u001b[38;5;241m.\u001b[39mget(\u001b[38;5;124m\"\u001b[39m\u001b[38;5;124mnames\u001b[39m\u001b[38;5;124m\"\u001b[39m, \u001b[38;5;28;01mNone\u001b[39;00m))\n\u001b[0;32m    574\u001b[0m \u001b[38;5;66;03m# Create the parser.\u001b[39;00m\n\u001b[1;32m--> 575\u001b[0m parser \u001b[38;5;241m=\u001b[39m TextFileReader(filepath_or_buffer, \u001b[38;5;241m*\u001b[39m\u001b[38;5;241m*\u001b[39mkwds)\n\u001b[0;32m    577\u001b[0m \u001b[38;5;28;01mif\u001b[39;00m chunksize \u001b[38;5;129;01mor\u001b[39;00m iterator:\n\u001b[0;32m    578\u001b[0m     \u001b[38;5;28;01mreturn\u001b[39;00m parser\n",
      "File \u001b[1;32m~\\anaconda3\\lib\\site-packages\\pandas\\io\\parsers\\readers.py:933\u001b[0m, in \u001b[0;36mTextFileReader.__init__\u001b[1;34m(self, f, engine, **kwds)\u001b[0m\n\u001b[0;32m    930\u001b[0m     \u001b[38;5;28mself\u001b[39m\u001b[38;5;241m.\u001b[39moptions[\u001b[38;5;124m\"\u001b[39m\u001b[38;5;124mhas_index_names\u001b[39m\u001b[38;5;124m\"\u001b[39m] \u001b[38;5;241m=\u001b[39m kwds[\u001b[38;5;124m\"\u001b[39m\u001b[38;5;124mhas_index_names\u001b[39m\u001b[38;5;124m\"\u001b[39m]\n\u001b[0;32m    932\u001b[0m \u001b[38;5;28mself\u001b[39m\u001b[38;5;241m.\u001b[39mhandles: IOHandles \u001b[38;5;241m|\u001b[39m \u001b[38;5;28;01mNone\u001b[39;00m \u001b[38;5;241m=\u001b[39m \u001b[38;5;28;01mNone\u001b[39;00m\n\u001b[1;32m--> 933\u001b[0m \u001b[38;5;28mself\u001b[39m\u001b[38;5;241m.\u001b[39m_engine \u001b[38;5;241m=\u001b[39m \u001b[38;5;28;43mself\u001b[39;49m\u001b[38;5;241;43m.\u001b[39;49m\u001b[43m_make_engine\u001b[49m\u001b[43m(\u001b[49m\u001b[43mf\u001b[49m\u001b[43m,\u001b[49m\u001b[43m \u001b[49m\u001b[38;5;28;43mself\u001b[39;49m\u001b[38;5;241;43m.\u001b[39;49m\u001b[43mengine\u001b[49m\u001b[43m)\u001b[49m\n",
      "File \u001b[1;32m~\\anaconda3\\lib\\site-packages\\pandas\\io\\parsers\\readers.py:1217\u001b[0m, in \u001b[0;36mTextFileReader._make_engine\u001b[1;34m(self, f, engine)\u001b[0m\n\u001b[0;32m   1213\u001b[0m     mode \u001b[38;5;241m=\u001b[39m \u001b[38;5;124m\"\u001b[39m\u001b[38;5;124mrb\u001b[39m\u001b[38;5;124m\"\u001b[39m\n\u001b[0;32m   1214\u001b[0m \u001b[38;5;66;03m# error: No overload variant of \"get_handle\" matches argument types\u001b[39;00m\n\u001b[0;32m   1215\u001b[0m \u001b[38;5;66;03m# \"Union[str, PathLike[str], ReadCsvBuffer[bytes], ReadCsvBuffer[str]]\"\u001b[39;00m\n\u001b[0;32m   1216\u001b[0m \u001b[38;5;66;03m# , \"str\", \"bool\", \"Any\", \"Any\", \"Any\", \"Any\", \"Any\"\u001b[39;00m\n\u001b[1;32m-> 1217\u001b[0m \u001b[38;5;28mself\u001b[39m\u001b[38;5;241m.\u001b[39mhandles \u001b[38;5;241m=\u001b[39m \u001b[43mget_handle\u001b[49m\u001b[43m(\u001b[49m\u001b[43m  \u001b[49m\u001b[38;5;66;43;03m# type: ignore[call-overload]\u001b[39;49;00m\n\u001b[0;32m   1218\u001b[0m \u001b[43m    \u001b[49m\u001b[43mf\u001b[49m\u001b[43m,\u001b[49m\n\u001b[0;32m   1219\u001b[0m \u001b[43m    \u001b[49m\u001b[43mmode\u001b[49m\u001b[43m,\u001b[49m\n\u001b[0;32m   1220\u001b[0m \u001b[43m    \u001b[49m\u001b[43mencoding\u001b[49m\u001b[38;5;241;43m=\u001b[39;49m\u001b[38;5;28;43mself\u001b[39;49m\u001b[38;5;241;43m.\u001b[39;49m\u001b[43moptions\u001b[49m\u001b[38;5;241;43m.\u001b[39;49m\u001b[43mget\u001b[49m\u001b[43m(\u001b[49m\u001b[38;5;124;43m\"\u001b[39;49m\u001b[38;5;124;43mencoding\u001b[39;49m\u001b[38;5;124;43m\"\u001b[39;49m\u001b[43m,\u001b[49m\u001b[43m \u001b[49m\u001b[38;5;28;43;01mNone\u001b[39;49;00m\u001b[43m)\u001b[49m\u001b[43m,\u001b[49m\n\u001b[0;32m   1221\u001b[0m \u001b[43m    \u001b[49m\u001b[43mcompression\u001b[49m\u001b[38;5;241;43m=\u001b[39;49m\u001b[38;5;28;43mself\u001b[39;49m\u001b[38;5;241;43m.\u001b[39;49m\u001b[43moptions\u001b[49m\u001b[38;5;241;43m.\u001b[39;49m\u001b[43mget\u001b[49m\u001b[43m(\u001b[49m\u001b[38;5;124;43m\"\u001b[39;49m\u001b[38;5;124;43mcompression\u001b[39;49m\u001b[38;5;124;43m\"\u001b[39;49m\u001b[43m,\u001b[49m\u001b[43m \u001b[49m\u001b[38;5;28;43;01mNone\u001b[39;49;00m\u001b[43m)\u001b[49m\u001b[43m,\u001b[49m\n\u001b[0;32m   1222\u001b[0m \u001b[43m    \u001b[49m\u001b[43mmemory_map\u001b[49m\u001b[38;5;241;43m=\u001b[39;49m\u001b[38;5;28;43mself\u001b[39;49m\u001b[38;5;241;43m.\u001b[39;49m\u001b[43moptions\u001b[49m\u001b[38;5;241;43m.\u001b[39;49m\u001b[43mget\u001b[49m\u001b[43m(\u001b[49m\u001b[38;5;124;43m\"\u001b[39;49m\u001b[38;5;124;43mmemory_map\u001b[39;49m\u001b[38;5;124;43m\"\u001b[39;49m\u001b[43m,\u001b[49m\u001b[43m \u001b[49m\u001b[38;5;28;43;01mFalse\u001b[39;49;00m\u001b[43m)\u001b[49m\u001b[43m,\u001b[49m\n\u001b[0;32m   1223\u001b[0m \u001b[43m    \u001b[49m\u001b[43mis_text\u001b[49m\u001b[38;5;241;43m=\u001b[39;49m\u001b[43mis_text\u001b[49m\u001b[43m,\u001b[49m\n\u001b[0;32m   1224\u001b[0m \u001b[43m    \u001b[49m\u001b[43merrors\u001b[49m\u001b[38;5;241;43m=\u001b[39;49m\u001b[38;5;28;43mself\u001b[39;49m\u001b[38;5;241;43m.\u001b[39;49m\u001b[43moptions\u001b[49m\u001b[38;5;241;43m.\u001b[39;49m\u001b[43mget\u001b[49m\u001b[43m(\u001b[49m\u001b[38;5;124;43m\"\u001b[39;49m\u001b[38;5;124;43mencoding_errors\u001b[39;49m\u001b[38;5;124;43m\"\u001b[39;49m\u001b[43m,\u001b[49m\u001b[43m \u001b[49m\u001b[38;5;124;43m\"\u001b[39;49m\u001b[38;5;124;43mstrict\u001b[39;49m\u001b[38;5;124;43m\"\u001b[39;49m\u001b[43m)\u001b[49m\u001b[43m,\u001b[49m\n\u001b[0;32m   1225\u001b[0m \u001b[43m    \u001b[49m\u001b[43mstorage_options\u001b[49m\u001b[38;5;241;43m=\u001b[39;49m\u001b[38;5;28;43mself\u001b[39;49m\u001b[38;5;241;43m.\u001b[39;49m\u001b[43moptions\u001b[49m\u001b[38;5;241;43m.\u001b[39;49m\u001b[43mget\u001b[49m\u001b[43m(\u001b[49m\u001b[38;5;124;43m\"\u001b[39;49m\u001b[38;5;124;43mstorage_options\u001b[39;49m\u001b[38;5;124;43m\"\u001b[39;49m\u001b[43m,\u001b[49m\u001b[43m \u001b[49m\u001b[38;5;28;43;01mNone\u001b[39;49;00m\u001b[43m)\u001b[49m\u001b[43m,\u001b[49m\n\u001b[0;32m   1226\u001b[0m \u001b[43m\u001b[49m\u001b[43m)\u001b[49m\n\u001b[0;32m   1227\u001b[0m \u001b[38;5;28;01massert\u001b[39;00m \u001b[38;5;28mself\u001b[39m\u001b[38;5;241m.\u001b[39mhandles \u001b[38;5;129;01mis\u001b[39;00m \u001b[38;5;129;01mnot\u001b[39;00m \u001b[38;5;28;01mNone\u001b[39;00m\n\u001b[0;32m   1228\u001b[0m f \u001b[38;5;241m=\u001b[39m \u001b[38;5;28mself\u001b[39m\u001b[38;5;241m.\u001b[39mhandles\u001b[38;5;241m.\u001b[39mhandle\n",
      "File \u001b[1;32m~\\anaconda3\\lib\\site-packages\\pandas\\io\\common.py:789\u001b[0m, in \u001b[0;36mget_handle\u001b[1;34m(path_or_buf, mode, encoding, compression, memory_map, is_text, errors, storage_options)\u001b[0m\n\u001b[0;32m    784\u001b[0m \u001b[38;5;28;01melif\u001b[39;00m \u001b[38;5;28misinstance\u001b[39m(handle, \u001b[38;5;28mstr\u001b[39m):\n\u001b[0;32m    785\u001b[0m     \u001b[38;5;66;03m# Check whether the filename is to be opened in binary mode.\u001b[39;00m\n\u001b[0;32m    786\u001b[0m     \u001b[38;5;66;03m# Binary mode does not support 'encoding' and 'newline'.\u001b[39;00m\n\u001b[0;32m    787\u001b[0m     \u001b[38;5;28;01mif\u001b[39;00m ioargs\u001b[38;5;241m.\u001b[39mencoding \u001b[38;5;129;01mand\u001b[39;00m \u001b[38;5;124m\"\u001b[39m\u001b[38;5;124mb\u001b[39m\u001b[38;5;124m\"\u001b[39m \u001b[38;5;129;01mnot\u001b[39;00m \u001b[38;5;129;01min\u001b[39;00m ioargs\u001b[38;5;241m.\u001b[39mmode:\n\u001b[0;32m    788\u001b[0m         \u001b[38;5;66;03m# Encoding\u001b[39;00m\n\u001b[1;32m--> 789\u001b[0m         handle \u001b[38;5;241m=\u001b[39m \u001b[38;5;28;43mopen\u001b[39;49m\u001b[43m(\u001b[49m\n\u001b[0;32m    790\u001b[0m \u001b[43m            \u001b[49m\u001b[43mhandle\u001b[49m\u001b[43m,\u001b[49m\n\u001b[0;32m    791\u001b[0m \u001b[43m            \u001b[49m\u001b[43mioargs\u001b[49m\u001b[38;5;241;43m.\u001b[39;49m\u001b[43mmode\u001b[49m\u001b[43m,\u001b[49m\n\u001b[0;32m    792\u001b[0m \u001b[43m            \u001b[49m\u001b[43mencoding\u001b[49m\u001b[38;5;241;43m=\u001b[39;49m\u001b[43mioargs\u001b[49m\u001b[38;5;241;43m.\u001b[39;49m\u001b[43mencoding\u001b[49m\u001b[43m,\u001b[49m\n\u001b[0;32m    793\u001b[0m \u001b[43m            \u001b[49m\u001b[43merrors\u001b[49m\u001b[38;5;241;43m=\u001b[39;49m\u001b[43merrors\u001b[49m\u001b[43m,\u001b[49m\n\u001b[0;32m    794\u001b[0m \u001b[43m            \u001b[49m\u001b[43mnewline\u001b[49m\u001b[38;5;241;43m=\u001b[39;49m\u001b[38;5;124;43m\"\u001b[39;49m\u001b[38;5;124;43m\"\u001b[39;49m\u001b[43m,\u001b[49m\n\u001b[0;32m    795\u001b[0m \u001b[43m        \u001b[49m\u001b[43m)\u001b[49m\n\u001b[0;32m    796\u001b[0m     \u001b[38;5;28;01melse\u001b[39;00m:\n\u001b[0;32m    797\u001b[0m         \u001b[38;5;66;03m# Binary mode\u001b[39;00m\n\u001b[0;32m    798\u001b[0m         handle \u001b[38;5;241m=\u001b[39m \u001b[38;5;28mopen\u001b[39m(handle, ioargs\u001b[38;5;241m.\u001b[39mmode)\n",
      "\u001b[1;31mFileNotFoundError\u001b[0m: [Errno 2] No such file or directory: '../input/youtube-trending-video-dataset/US_youtube_trending_data.csv'"
     ]
    }
   ],
   "source": [
    "# Load our data\n",
    "trending= pd.read_csv('./USvideos_modified.csv')"
   ]
  },
  {
   "cell_type": "code",
   "execution_count": 3,
   "metadata": {
    "execution": {
     "iopub.execute_input": "2021-01-23T04:07:32.158528Z",
     "iopub.status.busy": "2021-01-23T04:07:32.157882Z",
     "iopub.status.idle": "2021-01-23T04:07:32.161309Z",
     "shell.execute_reply": "2021-01-23T04:07:32.161795Z"
    },
    "papermill": {
     "duration": 0.061058,
     "end_time": "2021-01-23T04:07:32.161932",
     "exception": false,
     "start_time": "2021-01-23T04:07:32.100874",
     "status": "completed"
    },
    "tags": []
   },
   "outputs": [
    {
     "data": {
      "text/plain": [
       "(31996, 16)"
      ]
     },
     "execution_count": 3,
     "metadata": {},
     "output_type": "execute_result"
    }
   ],
   "source": [
    "# Number of columns and rows\n",
    "trending.shape"
   ]
  },
  {
   "cell_type": "code",
   "execution_count": 4,
   "metadata": {
    "execution": {
     "iopub.execute_input": "2021-01-23T04:07:32.238008Z",
     "iopub.status.busy": "2021-01-23T04:07:32.237374Z",
     "iopub.status.idle": "2021-01-23T04:07:32.261501Z",
     "shell.execute_reply": "2021-01-23T04:07:32.262015Z"
    },
    "papermill": {
     "duration": 0.066592,
     "end_time": "2021-01-23T04:07:32.262141",
     "exception": false,
     "start_time": "2021-01-23T04:07:32.195549",
     "status": "completed"
    },
    "tags": []
   },
   "outputs": [
    {
     "data": {
      "text/html": [
       "<div>\n",
       "<style scoped>\n",
       "    .dataframe tbody tr th:only-of-type {\n",
       "        vertical-align: middle;\n",
       "    }\n",
       "\n",
       "    .dataframe tbody tr th {\n",
       "        vertical-align: top;\n",
       "    }\n",
       "\n",
       "    .dataframe thead th {\n",
       "        text-align: right;\n",
       "    }\n",
       "</style>\n",
       "<table border=\"1\" class=\"dataframe\">\n",
       "  <thead>\n",
       "    <tr style=\"text-align: right;\">\n",
       "      <th></th>\n",
       "      <th>video_id</th>\n",
       "      <th>title</th>\n",
       "      <th>publishedAt</th>\n",
       "      <th>channelId</th>\n",
       "      <th>channelTitle</th>\n",
       "      <th>categoryId</th>\n",
       "      <th>trending_date</th>\n",
       "      <th>tags</th>\n",
       "      <th>view_count</th>\n",
       "      <th>likes</th>\n",
       "      <th>dislikes</th>\n",
       "      <th>comment_count</th>\n",
       "      <th>thumbnail_link</th>\n",
       "      <th>comments_disabled</th>\n",
       "      <th>ratings_disabled</th>\n",
       "      <th>description</th>\n",
       "    </tr>\n",
       "  </thead>\n",
       "  <tbody>\n",
       "    <tr>\n",
       "      <th>0</th>\n",
       "      <td>3C66w5Z0ixs</td>\n",
       "      <td>I ASKED HER TO BE MY GIRLFRIEND...</td>\n",
       "      <td>2020-08-11T19:20:14Z</td>\n",
       "      <td>UCvtRTOMP2TqYqu51xNrqAzg</td>\n",
       "      <td>Brawadis</td>\n",
       "      <td>22</td>\n",
       "      <td>2020-08-12T00:00:00Z</td>\n",
       "      <td>brawadis|prank|basketball|skits|ghost|funny vi...</td>\n",
       "      <td>1514614</td>\n",
       "      <td>156908</td>\n",
       "      <td>5855</td>\n",
       "      <td>35313</td>\n",
       "      <td>https://i.ytimg.com/vi/3C66w5Z0ixs/default.jpg</td>\n",
       "      <td>False</td>\n",
       "      <td>False</td>\n",
       "      <td>SUBSCRIBE to BRAWADIS ▶ http://bit.ly/Subscrib...</td>\n",
       "    </tr>\n",
       "    <tr>\n",
       "      <th>1</th>\n",
       "      <td>M9Pmf9AB4Mo</td>\n",
       "      <td>Apex Legends | Stories from the Outlands – “Th...</td>\n",
       "      <td>2020-08-11T17:00:10Z</td>\n",
       "      <td>UC0ZV6M2THA81QT9hrVWJG3A</td>\n",
       "      <td>Apex Legends</td>\n",
       "      <td>20</td>\n",
       "      <td>2020-08-12T00:00:00Z</td>\n",
       "      <td>Apex Legends|Apex Legends characters|new Apex ...</td>\n",
       "      <td>2381688</td>\n",
       "      <td>146739</td>\n",
       "      <td>2794</td>\n",
       "      <td>16549</td>\n",
       "      <td>https://i.ytimg.com/vi/M9Pmf9AB4Mo/default.jpg</td>\n",
       "      <td>False</td>\n",
       "      <td>False</td>\n",
       "      <td>While running her own modding shop, Ramya Pare...</td>\n",
       "    </tr>\n",
       "    <tr>\n",
       "      <th>2</th>\n",
       "      <td>J78aPJ3VyNs</td>\n",
       "      <td>I left youtube for a month and THIS is what ha...</td>\n",
       "      <td>2020-08-11T16:34:06Z</td>\n",
       "      <td>UCYzPXprvl5Y-Sf0g4vX-m6g</td>\n",
       "      <td>jacksepticeye</td>\n",
       "      <td>24</td>\n",
       "      <td>2020-08-12T00:00:00Z</td>\n",
       "      <td>jacksepticeye|funny|funny meme|memes|jacksepti...</td>\n",
       "      <td>2038853</td>\n",
       "      <td>353787</td>\n",
       "      <td>2628</td>\n",
       "      <td>40221</td>\n",
       "      <td>https://i.ytimg.com/vi/J78aPJ3VyNs/default.jpg</td>\n",
       "      <td>False</td>\n",
       "      <td>False</td>\n",
       "      <td>I left youtube for a month and this is what ha...</td>\n",
       "    </tr>\n",
       "    <tr>\n",
       "      <th>3</th>\n",
       "      <td>kXLn3HkpjaA</td>\n",
       "      <td>XXL 2020 Freshman Class Revealed - Official An...</td>\n",
       "      <td>2020-08-11T16:38:55Z</td>\n",
       "      <td>UCbg_UMjlHJg_19SZckaKajg</td>\n",
       "      <td>XXL</td>\n",
       "      <td>10</td>\n",
       "      <td>2020-08-12T00:00:00Z</td>\n",
       "      <td>xxl freshman|xxl freshmen|2020 xxl freshman|20...</td>\n",
       "      <td>496771</td>\n",
       "      <td>23251</td>\n",
       "      <td>1856</td>\n",
       "      <td>7647</td>\n",
       "      <td>https://i.ytimg.com/vi/kXLn3HkpjaA/default.jpg</td>\n",
       "      <td>False</td>\n",
       "      <td>False</td>\n",
       "      <td>Subscribe to XXL → http://bit.ly/subscribe-xxl...</td>\n",
       "    </tr>\n",
       "    <tr>\n",
       "      <th>4</th>\n",
       "      <td>VIUo6yapDbc</td>\n",
       "      <td>Ultimate DIY Home Movie Theater for The LaBran...</td>\n",
       "      <td>2020-08-11T15:10:05Z</td>\n",
       "      <td>UCDVPcEbVLQgLZX0Rt6jo34A</td>\n",
       "      <td>Mr. Kate</td>\n",
       "      <td>26</td>\n",
       "      <td>2020-08-12T00:00:00Z</td>\n",
       "      <td>The LaBrant Family|DIY|Interior Design|Makeove...</td>\n",
       "      <td>1123889</td>\n",
       "      <td>45802</td>\n",
       "      <td>964</td>\n",
       "      <td>2196</td>\n",
       "      <td>https://i.ytimg.com/vi/VIUo6yapDbc/default.jpg</td>\n",
       "      <td>False</td>\n",
       "      <td>False</td>\n",
       "      <td>Transforming The LaBrant Family's empty white ...</td>\n",
       "    </tr>\n",
       "  </tbody>\n",
       "</table>\n",
       "</div>"
      ],
      "text/plain": [
       "      video_id                                              title  \\\n",
       "0  3C66w5Z0ixs                 I ASKED HER TO BE MY GIRLFRIEND...   \n",
       "1  M9Pmf9AB4Mo  Apex Legends | Stories from the Outlands – “Th...   \n",
       "2  J78aPJ3VyNs  I left youtube for a month and THIS is what ha...   \n",
       "3  kXLn3HkpjaA  XXL 2020 Freshman Class Revealed - Official An...   \n",
       "4  VIUo6yapDbc  Ultimate DIY Home Movie Theater for The LaBran...   \n",
       "\n",
       "            publishedAt                 channelId   channelTitle  categoryId  \\\n",
       "0  2020-08-11T19:20:14Z  UCvtRTOMP2TqYqu51xNrqAzg       Brawadis          22   \n",
       "1  2020-08-11T17:00:10Z  UC0ZV6M2THA81QT9hrVWJG3A   Apex Legends          20   \n",
       "2  2020-08-11T16:34:06Z  UCYzPXprvl5Y-Sf0g4vX-m6g  jacksepticeye          24   \n",
       "3  2020-08-11T16:38:55Z  UCbg_UMjlHJg_19SZckaKajg            XXL          10   \n",
       "4  2020-08-11T15:10:05Z  UCDVPcEbVLQgLZX0Rt6jo34A       Mr. Kate          26   \n",
       "\n",
       "          trending_date                                               tags  \\\n",
       "0  2020-08-12T00:00:00Z  brawadis|prank|basketball|skits|ghost|funny vi...   \n",
       "1  2020-08-12T00:00:00Z  Apex Legends|Apex Legends characters|new Apex ...   \n",
       "2  2020-08-12T00:00:00Z  jacksepticeye|funny|funny meme|memes|jacksepti...   \n",
       "3  2020-08-12T00:00:00Z  xxl freshman|xxl freshmen|2020 xxl freshman|20...   \n",
       "4  2020-08-12T00:00:00Z  The LaBrant Family|DIY|Interior Design|Makeove...   \n",
       "\n",
       "   view_count   likes  dislikes  comment_count  \\\n",
       "0     1514614  156908      5855          35313   \n",
       "1     2381688  146739      2794          16549   \n",
       "2     2038853  353787      2628          40221   \n",
       "3      496771   23251      1856           7647   \n",
       "4     1123889   45802       964           2196   \n",
       "\n",
       "                                   thumbnail_link  comments_disabled  \\\n",
       "0  https://i.ytimg.com/vi/3C66w5Z0ixs/default.jpg              False   \n",
       "1  https://i.ytimg.com/vi/M9Pmf9AB4Mo/default.jpg              False   \n",
       "2  https://i.ytimg.com/vi/J78aPJ3VyNs/default.jpg              False   \n",
       "3  https://i.ytimg.com/vi/kXLn3HkpjaA/default.jpg              False   \n",
       "4  https://i.ytimg.com/vi/VIUo6yapDbc/default.jpg              False   \n",
       "\n",
       "   ratings_disabled                                        description  \n",
       "0             False  SUBSCRIBE to BRAWADIS ▶ http://bit.ly/Subscrib...  \n",
       "1             False  While running her own modding shop, Ramya Pare...  \n",
       "2             False  I left youtube for a month and this is what ha...  \n",
       "3             False  Subscribe to XXL → http://bit.ly/subscribe-xxl...  \n",
       "4             False  Transforming The LaBrant Family's empty white ...  "
      ]
     },
     "execution_count": 4,
     "metadata": {},
     "output_type": "execute_result"
    }
   ],
   "source": [
    "# Let's view the first 5 rows\n",
    "trending.head(5)"
   ]
  },
  {
   "cell_type": "code",
   "execution_count": 5,
   "metadata": {
    "execution": {
     "iopub.execute_input": "2021-01-23T04:07:32.336694Z",
     "iopub.status.busy": "2021-01-23T04:07:32.336064Z",
     "iopub.status.idle": "2021-01-23T04:07:32.342505Z",
     "shell.execute_reply": "2021-01-23T04:07:32.341817Z"
    },
    "papermill": {
     "duration": 0.046357,
     "end_time": "2021-01-23T04:07:32.342613",
     "exception": false,
     "start_time": "2021-01-23T04:07:32.296256",
     "status": "completed"
    },
    "tags": []
   },
   "outputs": [
    {
     "data": {
      "text/plain": [
       "2279"
      ]
     },
     "execution_count": 5,
     "metadata": {},
     "output_type": "execute_result"
    }
   ],
   "source": [
    "# How many unique channels do we have in this dataset?\n",
    "trending['channelTitle'].nunique()"
   ]
  },
  {
   "cell_type": "markdown",
   "metadata": {
    "papermill": {
     "duration": 0.03454,
     "end_time": "2021-01-23T04:07:32.412062",
     "exception": false,
     "start_time": "2021-01-23T04:07:32.377522",
     "status": "completed"
    },
    "tags": []
   },
   "source": [
    "In this dataset, there are 2264 channels."
   ]
  },
  {
   "cell_type": "code",
   "execution_count": 6,
   "metadata": {
    "execution": {
     "iopub.execute_input": "2021-01-23T04:07:32.484973Z",
     "iopub.status.busy": "2021-01-23T04:07:32.484374Z",
     "iopub.status.idle": "2021-01-23T04:07:32.507571Z",
     "shell.execute_reply": "2021-01-23T04:07:32.508158Z"
    },
    "papermill": {
     "duration": 0.06119,
     "end_time": "2021-01-23T04:07:32.508310",
     "exception": false,
     "start_time": "2021-01-23T04:07:32.447120",
     "status": "completed"
    },
    "tags": []
   },
   "outputs": [
    {
     "data": {
      "text/plain": [
       "video_id               0\n",
       "title                  0\n",
       "publishedAt            0\n",
       "channelId              0\n",
       "channelTitle           0\n",
       "categoryId             0\n",
       "trending_date          0\n",
       "tags                   0\n",
       "view_count             0\n",
       "likes                  0\n",
       "dislikes               0\n",
       "comment_count          0\n",
       "thumbnail_link         0\n",
       "comments_disabled      0\n",
       "ratings_disabled       0\n",
       "description          251\n",
       "dtype: int64"
      ]
     },
     "execution_count": 6,
     "metadata": {},
     "output_type": "execute_result"
    }
   ],
   "source": [
    "# Check for Null values\n",
    "trending.isna().sum()"
   ]
  },
  {
   "cell_type": "markdown",
   "metadata": {
    "papermill": {
     "duration": 0.03534,
     "end_time": "2021-01-23T04:07:32.583115",
     "exception": false,
     "start_time": "2021-01-23T04:07:32.547775",
     "status": "completed"
    },
    "tags": []
   },
   "source": [
    "There 245 missing description values"
   ]
  },
  {
   "cell_type": "code",
   "execution_count": 7,
   "metadata": {
    "execution": {
     "iopub.execute_input": "2021-01-23T04:07:32.655815Z",
     "iopub.status.busy": "2021-01-23T04:07:32.655215Z",
     "iopub.status.idle": "2021-01-23T04:07:32.662337Z",
     "shell.execute_reply": "2021-01-23T04:07:32.662927Z"
    },
    "papermill": {
     "duration": 0.045029,
     "end_time": "2021-01-23T04:07:32.663048",
     "exception": false,
     "start_time": "2021-01-23T04:07:32.618019",
     "status": "completed"
    },
    "tags": []
   },
   "outputs": [],
   "source": [
    "# Imputing data. There are many ways to fill the missing data. For example filling the NAs with the most frequent value, \n",
    "# random values, etc.\n",
    "trending.description= trending.description.fillna('No description provided')           "
   ]
  },
  {
   "cell_type": "code",
   "execution_count": 8,
   "metadata": {
    "execution": {
     "iopub.execute_input": "2021-01-23T04:07:32.738686Z",
     "iopub.status.busy": "2021-01-23T04:07:32.738066Z",
     "iopub.status.idle": "2021-01-23T04:07:32.760327Z",
     "shell.execute_reply": "2021-01-23T04:07:32.759787Z"
    },
    "papermill": {
     "duration": 0.062156,
     "end_time": "2021-01-23T04:07:32.760442",
     "exception": false,
     "start_time": "2021-01-23T04:07:32.698286",
     "status": "completed"
    },
    "tags": []
   },
   "outputs": [
    {
     "data": {
      "text/plain": [
       "0"
      ]
     },
     "execution_count": 8,
     "metadata": {},
     "output_type": "execute_result"
    }
   ],
   "source": [
    "# Make sure thre is no null data(We're good to go)\n",
    "trending.isna().sum().sum()"
   ]
  },
  {
   "cell_type": "markdown",
   "metadata": {
    "papermill": {
     "duration": 0.035576,
     "end_time": "2021-01-23T04:07:32.832713",
     "exception": false,
     "start_time": "2021-01-23T04:07:32.797137",
     "status": "completed"
    },
    "tags": []
   },
   "source": [
    "## Analyze views, likes, dislikes"
   ]
  },
  {
   "cell_type": "code",
   "execution_count": 9,
   "metadata": {
    "execution": {
     "iopub.execute_input": "2021-01-23T04:07:32.909039Z",
     "iopub.status.busy": "2021-01-23T04:07:32.908416Z",
     "iopub.status.idle": "2021-01-23T04:07:34.485958Z",
     "shell.execute_reply": "2021-01-23T04:07:34.484298Z"
    },
    "papermill": {
     "duration": 1.616627,
     "end_time": "2021-01-23T04:07:34.486068",
     "exception": false,
     "start_time": "2021-01-23T04:07:32.869441",
     "status": "completed"
    },
    "tags": []
   },
   "outputs": [
    {
     "data": {
      "text/plain": [
       "Text(0.5, 1.0, 'Regression plot for views and likes')"
      ]
     },
     "execution_count": 9,
     "metadata": {},
     "output_type": "execute_result"
    },
    {
     "data": {
      "image/png": "[encoded data removed]",
      "text/plain": [
       "<Figure size 432x288 with 1 Axes>"
      ]
     },
     "metadata": {
      "needs_background": "light"
     },
     "output_type": "display_data"
    }
   ],
   "source": [
    "# Let's do a regression plot to see the relarionship between views and likes\n",
    "sns.regplot(data=trending, x='view_count', y='likes', color='Red')\n",
    "plt.title('Regression plot for views and likes')"
   ]
  },
  {
   "cell_type": "markdown",
   "metadata": {
    "papermill": {
     "duration": 0.045815,
     "end_time": "2021-01-23T04:07:34.571611",
     "exception": false,
     "start_time": "2021-01-23T04:07:34.525796",
     "status": "completed"
    },
    "tags": []
   },
   "source": [
    "This plot is showing a linear relationship between views and likes."
   ]
  },
  {
   "cell_type": "code",
   "execution_count": 10,
   "metadata": {
    "execution": {
     "iopub.execute_input": "2021-01-23T04:07:34.669023Z",
     "iopub.status.busy": "2021-01-23T04:07:34.668334Z",
     "iopub.status.idle": "2021-01-23T04:07:36.316203Z",
     "shell.execute_reply": "2021-01-23T04:07:36.315743Z"
    },
    "papermill": {
     "duration": 1.698055,
     "end_time": "2021-01-23T04:07:36.316281",
     "exception": false,
     "start_time": "2021-01-23T04:07:34.618226",
     "status": "completed"
    },
    "tags": []
   },
   "outputs": [
    {
     "data": {
      "text/plain": [
       "Text(0.5, 1.0, 'Regression plot for views and dislikes')"
      ]
     },
     "execution_count": 10,
     "metadata": {},
     "output_type": "execute_result"
    },
    {
     "data": {
      "image/png": "[encoded data removed]",
      "text/plain": [
       "<Figure size 432x288 with 1 Axes>"
      ]
     },
     "metadata": {
      "needs_background": "light"
     },
     "output_type": "display_data"
    }
   ],
   "source": [
    "# Let's perform a regression plot to see the relarionship between views and dislikes\n",
    "sns.regplot(data=trending, x='view_count', y='dislikes', color= 'blue')\n",
    "plt.title('Regression plot for views and dislikes')"
   ]
  },
  {
   "cell_type": "markdown",
   "metadata": {
    "papermill": {
     "duration": 0.037266,
     "end_time": "2021-01-23T04:07:36.382149",
     "exception": false,
     "start_time": "2021-01-23T04:07:36.344883",
     "status": "completed"
    },
    "tags": []
   },
   "source": [
    "Compared to the first plot, the dislikes increase as the views increase, but not as much as the first plot. Notice the steeper line in the first graph."
   ]
  },
  {
   "cell_type": "code",
   "execution_count": 11,
   "metadata": {
    "execution": {
     "iopub.execute_input": "2021-01-23T04:07:36.467845Z",
     "iopub.status.busy": "2021-01-23T04:07:36.467184Z",
     "iopub.status.idle": "2021-01-23T04:07:36.484426Z",
     "shell.execute_reply": "2021-01-23T04:07:36.483906Z"
    },
    "papermill": {
     "duration": 0.062696,
     "end_time": "2021-01-23T04:07:36.484530",
     "exception": false,
     "start_time": "2021-01-23T04:07:36.421834",
     "status": "completed"
    },
    "tags": []
   },
   "outputs": [
    {
     "data": {
      "text/html": [
       "<div>\n",
       "<style scoped>\n",
       "    .dataframe tbody tr th:only-of-type {\n",
       "        vertical-align: middle;\n",
       "    }\n",
       "\n",
       "    .dataframe tbody tr th {\n",
       "        vertical-align: top;\n",
       "    }\n",
       "\n",
       "    .dataframe thead th {\n",
       "        text-align: right;\n",
       "    }\n",
       "</style>\n",
       "<table border=\"1\" class=\"dataframe\">\n",
       "  <thead>\n",
       "    <tr style=\"text-align: right;\">\n",
       "      <th></th>\n",
       "      <th>likes</th>\n",
       "      <th>dislikes</th>\n",
       "      <th>comment_count</th>\n",
       "      <th>view_count</th>\n",
       "    </tr>\n",
       "  </thead>\n",
       "  <tbody>\n",
       "    <tr>\n",
       "      <th>likes</th>\n",
       "      <td>1.000000</td>\n",
       "      <td>0.725448</td>\n",
       "      <td>0.796752</td>\n",
       "      <td>0.886113</td>\n",
       "    </tr>\n",
       "    <tr>\n",
       "      <th>dislikes</th>\n",
       "      <td>0.725448</td>\n",
       "      <td>1.000000</td>\n",
       "      <td>0.673589</td>\n",
       "      <td>0.744496</td>\n",
       "    </tr>\n",
       "    <tr>\n",
       "      <th>comment_count</th>\n",
       "      <td>0.796752</td>\n",
       "      <td>0.673589</td>\n",
       "      <td>1.000000</td>\n",
       "      <td>0.719184</td>\n",
       "    </tr>\n",
       "    <tr>\n",
       "      <th>view_count</th>\n",
       "      <td>0.886113</td>\n",
       "      <td>0.744496</td>\n",
       "      <td>0.719184</td>\n",
       "      <td>1.000000</td>\n",
       "    </tr>\n",
       "  </tbody>\n",
       "</table>\n",
       "</div>"
      ],
      "text/plain": [
       "                  likes  dislikes  comment_count  view_count\n",
       "likes          1.000000  0.725448       0.796752    0.886113\n",
       "dislikes       0.725448  1.000000       0.673589    0.744496\n",
       "comment_count  0.796752  0.673589       1.000000    0.719184\n",
       "view_count     0.886113  0.744496       0.719184    1.000000"
      ]
     },
     "execution_count": 11,
     "metadata": {},
     "output_type": "execute_result"
    }
   ],
   "source": [
    "# Let's view our correlation table:likes, dislikes, views, and comments\n",
    "df_corr= trending[['likes', 'dislikes', 'comment_count', 'view_count']]\n",
    "df_corr.corr()"
   ]
  },
  {
   "cell_type": "code",
   "execution_count": 12,
   "metadata": {
    "execution": {
     "iopub.execute_input": "2021-01-23T04:07:36.568528Z",
     "iopub.status.busy": "2021-01-23T04:07:36.567791Z",
     "iopub.status.idle": "2021-01-23T04:07:36.784893Z",
     "shell.execute_reply": "2021-01-23T04:07:36.785376Z"
    },
    "papermill": {
     "duration": 0.261637,
     "end_time": "2021-01-23T04:07:36.785518",
     "exception": false,
     "start_time": "2021-01-23T04:07:36.523881",
     "status": "completed"
    },
    "tags": []
   },
   "outputs": [
    {
     "data": {
      "text/plain": [
       "<matplotlib.axes._subplots.AxesSubplot at 0x7fc1d07e51d0>"
      ]
     },
     "execution_count": 12,
     "metadata": {},
     "output_type": "execute_result"
    },
    {
     "data": {
      "image/png": "[encoded data removed]",
      "text/plain": [
       "<Figure size 432x288 with 2 Axes>"
      ]
     },
     "metadata": {
      "needs_background": "light"
     },
     "output_type": "display_data"
    }
   ],
   "source": [
    "sns.heatmap(df_corr.corr(), annot= True)"
   ]
  },
  {
   "cell_type": "markdown",
   "metadata": {
    "papermill": {
     "duration": 0.04033,
     "end_time": "2021-01-23T04:07:36.866620",
     "exception": false,
     "start_time": "2021-01-23T04:07:36.826290",
     "status": "completed"
    },
    "tags": []
   },
   "source": [
    "Notice a high correlation between views and likes. That makes sense!\n",
    "people who like a video tend to leave a comment and vice versa. Howver people who dislike tend not to leave a comment or vice versa."
   ]
  },
  {
   "cell_type": "code",
   "execution_count": 13,
   "metadata": {
    "execution": {
     "iopub.execute_input": "2021-01-23T04:07:36.954947Z",
     "iopub.status.busy": "2021-01-23T04:07:36.954229Z",
     "iopub.status.idle": "2021-01-23T04:07:36.986452Z",
     "shell.execute_reply": "2021-01-23T04:07:36.985794Z"
    },
    "papermill": {
     "duration": 0.07962,
     "end_time": "2021-01-23T04:07:36.986571",
     "exception": false,
     "start_time": "2021-01-23T04:07:36.906951",
     "status": "completed"
    },
    "tags": []
   },
   "outputs": [
    {
     "data": {
      "text/html": [
       "<div>\n",
       "<style scoped>\n",
       "    .dataframe tbody tr th:only-of-type {\n",
       "        vertical-align: middle;\n",
       "    }\n",
       "\n",
       "    .dataframe tbody tr th {\n",
       "        vertical-align: top;\n",
       "    }\n",
       "\n",
       "    .dataframe thead th {\n",
       "        text-align: right;\n",
       "    }\n",
       "</style>\n",
       "<table border=\"1\" class=\"dataframe\">\n",
       "  <thead>\n",
       "    <tr style=\"text-align: right;\">\n",
       "      <th></th>\n",
       "      <th>likes</th>\n",
       "    </tr>\n",
       "    <tr>\n",
       "      <th>title</th>\n",
       "      <th></th>\n",
       "    </tr>\n",
       "  </thead>\n",
       "  <tbody>\n",
       "    <tr>\n",
       "      <th>BTS (방탄소년단) 'Dynamite' Official MV</th>\n",
       "      <td>107183079</td>\n",
       "    </tr>\n",
       "    <tr>\n",
       "      <th>BLACKPINK - 'Ice Cream (with Selena Gomez)' M/V</th>\n",
       "      <td>91799816</td>\n",
       "    </tr>\n",
       "    <tr>\n",
       "      <th>BTS (방탄소년단) 'Life Goes On' Official MV</th>\n",
       "      <td>78747280</td>\n",
       "    </tr>\n",
       "    <tr>\n",
       "      <th>Justin Bieber - Holy ft. Chance The Rapper</th>\n",
       "      <td>64422566</td>\n",
       "    </tr>\n",
       "    <tr>\n",
       "      <th>BLACKPINK – ‘Lovesick Girls’ M/V</th>\n",
       "      <td>63844212</td>\n",
       "    </tr>\n",
       "  </tbody>\n",
       "</table>\n",
       "</div>"
      ],
      "text/plain": [
       "                                                     likes\n",
       "title                                                     \n",
       "BTS (방탄소년단) 'Dynamite' Official MV               107183079\n",
       "BLACKPINK - 'Ice Cream (with Selena Gomez)' M/V   91799816\n",
       "BTS (방탄소년단) 'Life Goes On' Official MV            78747280\n",
       "Justin Bieber - Holy ft. Chance The Rapper        64422566\n",
       "BLACKPINK – ‘Lovesick Girls’ M/V                  63844212"
      ]
     },
     "execution_count": 13,
     "metadata": {},
     "output_type": "execute_result"
    }
   ],
   "source": [
    "# What are the video titles with most likes count\n",
    "trending[['title', 'likes']].groupby('title').sum().sort_values(by= 'likes', ascending= False).head(5)"
   ]
  },
  {
   "cell_type": "code",
   "execution_count": 14,
   "metadata": {
    "execution": {
     "iopub.execute_input": "2021-01-23T04:07:37.080306Z",
     "iopub.status.busy": "2021-01-23T04:07:37.079619Z",
     "iopub.status.idle": "2021-01-23T04:07:37.112986Z",
     "shell.execute_reply": "2021-01-23T04:07:37.112364Z"
    },
    "papermill": {
     "duration": 0.084855,
     "end_time": "2021-01-23T04:07:37.113085",
     "exception": false,
     "start_time": "2021-01-23T04:07:37.028230",
     "status": "completed"
    },
    "tags": []
   },
   "outputs": [
    {
     "data": {
      "text/html": [
       "<div>\n",
       "<style scoped>\n",
       "    .dataframe tbody tr th:only-of-type {\n",
       "        vertical-align: middle;\n",
       "    }\n",
       "\n",
       "    .dataframe tbody tr th {\n",
       "        vertical-align: top;\n",
       "    }\n",
       "\n",
       "    .dataframe thead th {\n",
       "        text-align: right;\n",
       "    }\n",
       "</style>\n",
       "<table border=\"1\" class=\"dataframe\">\n",
       "  <thead>\n",
       "    <tr style=\"text-align: right;\">\n",
       "      <th></th>\n",
       "      <th>dislikes</th>\n",
       "    </tr>\n",
       "    <tr>\n",
       "      <th>title</th>\n",
       "      <th></th>\n",
       "    </tr>\n",
       "  </thead>\n",
       "  <tbody>\n",
       "    <tr>\n",
       "      <th>BLACKPINK - 'Ice Cream (with Selena Gomez)' M/V</th>\n",
       "      <td>6739558</td>\n",
       "    </tr>\n",
       "    <tr>\n",
       "      <th>BTS (방탄소년단) 'Dynamite' Official MV</th>\n",
       "      <td>4268039</td>\n",
       "    </tr>\n",
       "    <tr>\n",
       "      <th>Cardi B - WAP feat. Megan Thee Stallion [Official Music Video]</th>\n",
       "      <td>2143806</td>\n",
       "    </tr>\n",
       "    <tr>\n",
       "      <th>Justin Bieber - Holy ft. Chance The Rapper</th>\n",
       "      <td>1592104</td>\n",
       "    </tr>\n",
       "    <tr>\n",
       "      <th>Jake Paul - 23 (Official Music Video) Starring Logan Paul</th>\n",
       "      <td>1195943</td>\n",
       "    </tr>\n",
       "  </tbody>\n",
       "</table>\n",
       "</div>"
      ],
      "text/plain": [
       "                                                    dislikes\n",
       "title                                                       \n",
       "BLACKPINK - 'Ice Cream (with Selena Gomez)' M/V      6739558\n",
       "BTS (방탄소년단) 'Dynamite' Official MV                   4268039\n",
       "Cardi B - WAP feat. Megan Thee Stallion [Offici...   2143806\n",
       "Justin Bieber - Holy ft. Chance The Rapper           1592104\n",
       "Jake Paul - 23 (Official Music Video) Starring ...   1195943"
      ]
     },
     "execution_count": 14,
     "metadata": {},
     "output_type": "execute_result"
    }
   ],
   "source": [
    "# What are the video titles with most dislikes count\n",
    "trending[['title', 'dislikes']].groupby('title').sum().sort_values(by= 'dislikes', ascending= False).head(5)"
   ]
  },
  {
   "cell_type": "code",
   "execution_count": 15,
   "metadata": {
    "execution": {
     "iopub.execute_input": "2021-01-23T04:07:37.205453Z",
     "iopub.status.busy": "2021-01-23T04:07:37.203740Z",
     "iopub.status.idle": "2021-01-23T04:07:37.230855Z",
     "shell.execute_reply": "2021-01-23T04:07:37.231329Z"
    },
    "papermill": {
     "duration": 0.076322,
     "end_time": "2021-01-23T04:07:37.231468",
     "exception": false,
     "start_time": "2021-01-23T04:07:37.155146",
     "status": "completed"
    },
    "tags": []
   },
   "outputs": [
    {
     "data": {
      "text/html": [
       "<div>\n",
       "<style scoped>\n",
       "    .dataframe tbody tr th:only-of-type {\n",
       "        vertical-align: middle;\n",
       "    }\n",
       "\n",
       "    .dataframe tbody tr th {\n",
       "        vertical-align: top;\n",
       "    }\n",
       "\n",
       "    .dataframe thead th {\n",
       "        text-align: right;\n",
       "    }\n",
       "</style>\n",
       "<table border=\"1\" class=\"dataframe\">\n",
       "  <thead>\n",
       "    <tr style=\"text-align: right;\">\n",
       "      <th></th>\n",
       "      <th>comment_count</th>\n",
       "    </tr>\n",
       "    <tr>\n",
       "      <th>title</th>\n",
       "      <th></th>\n",
       "    </tr>\n",
       "  </thead>\n",
       "  <tbody>\n",
       "    <tr>\n",
       "      <th>BTS (방탄소년단) 'Dynamite' Official MV</th>\n",
       "      <td>41666309</td>\n",
       "    </tr>\n",
       "    <tr>\n",
       "      <th>BTS (방탄소년단) 'Life Goes On' Official MV</th>\n",
       "      <td>30055631</td>\n",
       "    </tr>\n",
       "    <tr>\n",
       "      <th>BLACKPINK - 'Ice Cream (with Selena Gomez)' M/V</th>\n",
       "      <td>23191061</td>\n",
       "    </tr>\n",
       "    <tr>\n",
       "      <th>GAME  (Full Video)  Shooter Kahlon | Sidhu Moose Wala | Hunny PK Films | Gold Media | 5911 Records</th>\n",
       "      <td>16904116</td>\n",
       "    </tr>\n",
       "    <tr>\n",
       "      <th>BLACKPINK – ‘Lovesick Girls’ M/V</th>\n",
       "      <td>10895923</td>\n",
       "    </tr>\n",
       "  </tbody>\n",
       "</table>\n",
       "</div>"
      ],
      "text/plain": [
       "                                                    comment_count\n",
       "title                                                            \n",
       "BTS (방탄소년단) 'Dynamite' Official MV                       41666309\n",
       "BTS (방탄소년단) 'Life Goes On' Official MV                   30055631\n",
       "BLACKPINK - 'Ice Cream (with Selena Gomez)' M/V          23191061\n",
       "GAME  (Full Video)  Shooter Kahlon | Sidhu Moos...       16904116\n",
       "BLACKPINK – ‘Lovesick Girls’ M/V                         10895923"
      ]
     },
     "execution_count": 15,
     "metadata": {},
     "output_type": "execute_result"
    }
   ],
   "source": [
    "# What are the video titles with most comments count\n",
    "trending[['title', 'comment_count']].groupby('title').sum().sort_values(by= 'comment_count',ascending= False ).head(5)"
   ]
  },
  {
   "cell_type": "markdown",
   "metadata": {
    "papermill": {
     "duration": 0.043515,
     "end_time": "2021-01-23T04:07:37.318215",
     "exception": false,
     "start_time": "2021-01-23T04:07:37.274700",
     "status": "completed"
    },
    "tags": []
   },
   "source": [
    "## Sentiment Analysis**"
   ]
  },
  {
   "cell_type": "markdown",
   "metadata": {
    "papermill": {
     "duration": 0.041992,
     "end_time": "2021-01-23T04:07:37.402888",
     "exception": false,
     "start_time": "2021-01-23T04:07:37.360896",
     "status": "completed"
    },
    "tags": []
   },
   "source": [
    "#### Analyze trending tags"
   ]
  },
  {
   "cell_type": "code",
   "execution_count": 16,
   "metadata": {
    "execution": {
     "iopub.execute_input": "2021-01-23T04:07:37.494619Z",
     "iopub.status.busy": "2021-01-23T04:07:37.493850Z",
     "iopub.status.idle": "2021-01-23T04:07:37.500602Z",
     "shell.execute_reply": "2021-01-23T04:07:37.500097Z"
    },
    "papermill": {
     "duration": 0.055425,
     "end_time": "2021-01-23T04:07:37.500724",
     "exception": false,
     "start_time": "2021-01-23T04:07:37.445299",
     "status": "completed"
    },
    "tags": []
   },
   "outputs": [
    {
     "data": {
      "text/plain": [
       "0    brawadis|prank|basketball|skits|ghost|funny vi...\n",
       "1    Apex Legends|Apex Legends characters|new Apex ...\n",
       "2    jacksepticeye|funny|funny meme|memes|jacksepti...\n",
       "3    xxl freshman|xxl freshmen|2020 xxl freshman|20...\n",
       "4    The LaBrant Family|DIY|Interior Design|Makeove...\n",
       "5    Professor injury|professor achilles|professor ...\n",
       "6                                               [None]\n",
       "7                     cgpgrey|education|hello internet\n",
       "8    surprising|dad|father|papa|with|dream|car|truc...\n",
       "9    Vengo De Nada|Aleman|Ovi|Big Soto|Trap|Ovi Nat...\n",
       "Name: tags, dtype: object"
      ]
     },
     "execution_count": 16,
     "metadata": {},
     "output_type": "execute_result"
    }
   ],
   "source": [
    "# Display tags\n",
    "trending.tags.head(10)"
   ]
  },
  {
   "cell_type": "code",
   "execution_count": 17,
   "metadata": {
    "execution": {
     "iopub.execute_input": "2021-01-23T04:07:37.607023Z",
     "iopub.status.busy": "2021-01-23T04:07:37.606168Z",
     "iopub.status.idle": "2021-01-23T04:07:37.610831Z",
     "shell.execute_reply": "2021-01-23T04:07:37.610307Z"
    },
    "papermill": {
     "duration": 0.066863,
     "end_time": "2021-01-23T04:07:37.610928",
     "exception": false,
     "start_time": "2021-01-23T04:07:37.544065",
     "status": "completed"
    },
    "tags": []
   },
   "outputs": [],
   "source": [
    "# Let's join tags to get all lines in just one string.\n",
    "tags_complete=''.join(trending.tags)"
   ]
  },
  {
   "cell_type": "code",
   "execution_count": 18,
   "metadata": {
    "execution": {
     "iopub.execute_input": "2021-01-23T04:07:37.701289Z",
     "iopub.status.busy": "2021-01-23T04:07:37.700637Z",
     "iopub.status.idle": "2021-01-23T04:07:37.704720Z",
     "shell.execute_reply": "2021-01-23T04:07:37.704138Z"
    },
    "papermill": {
     "duration": 0.050623,
     "end_time": "2021-01-23T04:07:37.704827",
     "exception": false,
     "start_time": "2021-01-23T04:07:37.654204",
     "status": "completed"
    },
    "tags": []
   },
   "outputs": [],
   "source": [
    "# Display tags as one string\n",
    "# Rub this to see the result: tags_complete"
   ]
  },
  {
   "cell_type": "markdown",
   "metadata": {
    "papermill": {
     "duration": 0.043373,
     "end_time": "2021-01-23T04:07:37.792720",
     "exception": false,
     "start_time": "2021-01-23T04:07:37.749347",
     "status": "completed"
    },
    "tags": []
   },
   "source": [
    "### As you can see, we got some special charachters in our text. Ex: |, so the next step is to remove the special characters to end up with clean looking data"
   ]
  },
  {
   "cell_type": "code",
   "execution_count": 19,
   "metadata": {
    "execution": {
     "iopub.execute_input": "2021-01-23T04:07:37.884018Z",
     "iopub.status.busy": "2021-01-23T04:07:37.883303Z",
     "iopub.status.idle": "2021-01-23T04:07:37.886153Z",
     "shell.execute_reply": "2021-01-23T04:07:37.885631Z"
    },
    "papermill": {
     "duration": 0.049892,
     "end_time": "2021-01-23T04:07:37.886253",
     "exception": false,
     "start_time": "2021-01-23T04:07:37.836361",
     "status": "completed"
    },
    "tags": []
   },
   "outputs": [],
   "source": [
    "# Let's import regular expression module\n",
    "import re"
   ]
  },
  {
   "cell_type": "code",
   "execution_count": 20,
   "metadata": {
    "execution": {
     "iopub.execute_input": "2021-01-23T04:07:38.533778Z",
     "iopub.status.busy": "2021-01-23T04:07:38.533010Z",
     "iopub.status.idle": "2021-01-23T04:07:38.537235Z",
     "shell.execute_reply": "2021-01-23T04:07:38.536513Z"
    },
    "papermill": {
     "duration": 0.607899,
     "end_time": "2021-01-23T04:07:38.537344",
     "exception": false,
     "start_time": "2021-01-23T04:07:37.929445",
     "status": "completed"
    },
    "tags": []
   },
   "outputs": [],
   "source": [
    "# Now we have to substitue any special character by a space.\n",
    "tags= re.sub('[^a-zA-Z]', ' ', tags_complete)"
   ]
  },
  {
   "cell_type": "code",
   "execution_count": 21,
   "metadata": {
    "execution": {
     "iopub.execute_input": "2021-01-23T04:07:38.629770Z",
     "iopub.status.busy": "2021-01-23T04:07:38.629111Z",
     "iopub.status.idle": "2021-01-23T04:07:38.631740Z",
     "shell.execute_reply": "2021-01-23T04:07:38.632226Z"
    },
    "papermill": {
     "duration": 0.05082,
     "end_time": "2021-01-23T04:07:38.632361",
     "exception": false,
     "start_time": "2021-01-23T04:07:38.581541",
     "status": "completed"
    },
    "tags": []
   },
   "outputs": [],
   "source": [
    "# Display tags\n",
    "tags;"
   ]
  },
  {
   "cell_type": "markdown",
   "metadata": {
    "papermill": {
     "duration": 0.04387,
     "end_time": "2021-01-23T04:07:38.720622",
     "exception": false,
     "start_time": "2021-01-23T04:07:38.676752",
     "status": "completed"
    },
    "tags": []
   },
   "source": [
    "### Notice in the last result, we ended up with extra space, let's ask Python:'Hey Python, whenever you find extra space make it one space only. Thank you!'"
   ]
  },
  {
   "cell_type": "code",
   "execution_count": 22,
   "metadata": {
    "execution": {
     "iopub.execute_input": "2021-01-23T04:07:39.432326Z",
     "iopub.status.busy": "2021-01-23T04:07:39.431625Z",
     "iopub.status.idle": "2021-01-23T04:07:39.435487Z",
     "shell.execute_reply": "2021-01-23T04:07:39.434900Z"
    },
    "papermill": {
     "duration": 0.670558,
     "end_time": "2021-01-23T04:07:39.435601",
     "exception": false,
     "start_time": "2021-01-23T04:07:38.765043",
     "status": "completed"
    },
    "tags": []
   },
   "outputs": [],
   "source": [
    "tags= re.sub(' +', ' ', tags)"
   ]
  },
  {
   "cell_type": "code",
   "execution_count": 23,
   "metadata": {
    "execution": {
     "iopub.execute_input": "2021-01-23T04:07:39.530032Z",
     "iopub.status.busy": "2021-01-23T04:07:39.529391Z",
     "iopub.status.idle": "2021-01-23T04:07:39.573718Z",
     "shell.execute_reply": "2021-01-23T04:07:39.574200Z"
    },
    "papermill": {
     "duration": 0.094053,
     "end_time": "2021-01-23T04:07:39.574337",
     "exception": false,
     "start_time": "2021-01-23T04:07:39.480284",
     "status": "completed"
    },
    "tags": []
   },
   "outputs": [],
   "source": [
    "# If you haven't installed wordcloud, please do so before you import the modules\n",
    "from wordcloud import WordCloud, STOPWORDS"
   ]
  },
  {
   "cell_type": "code",
   "execution_count": 24,
   "metadata": {
    "execution": {
     "iopub.execute_input": "2021-01-23T04:07:39.667479Z",
     "iopub.status.busy": "2021-01-23T04:07:39.666893Z",
     "iopub.status.idle": "2021-01-23T04:07:48.271779Z",
     "shell.execute_reply": "2021-01-23T04:07:48.271102Z"
    },
    "papermill": {
     "duration": 8.652039,
     "end_time": "2021-01-23T04:07:48.271891",
     "exception": false,
     "start_time": "2021-01-23T04:07:39.619852",
     "status": "completed"
    },
    "tags": []
   },
   "outputs": [],
   "source": [
    "# Stopwords are a set of words that we do not need to take in consideration in ou analysis. For example, \n",
    "# He, She, they.....\n",
    "wordcloud= WordCloud(width= 2000, height= 1000, stopwords= set(STOPWORDS)).generate(tags)"
   ]
  },
  {
   "cell_type": "code",
   "execution_count": 25,
   "metadata": {
    "execution": {
     "iopub.execute_input": "2021-01-23T04:07:48.367916Z",
     "iopub.status.busy": "2021-01-23T04:07:48.367174Z",
     "iopub.status.idle": "2021-01-23T04:07:49.302811Z",
     "shell.execute_reply": "2021-01-23T04:07:49.303333Z"
    },
    "papermill": {
     "duration": 0.986908,
     "end_time": "2021-01-23T04:07:49.303473",
     "exception": false,
     "start_time": "2021-01-23T04:07:48.316565",
     "status": "completed"
    },
    "tags": []
   },
   "outputs": [
    {
     "data": {
      "text/plain": [
       "(-0.5, 1999.5, 999.5, -0.5)"
      ]
     },
     "execution_count": 25,
     "metadata": {},
     "output_type": "execute_result"
    },
    {
     "data": {
      "image/png": "[encoded data removed]",
      "text/plain": [
       "<Figure size 1080x360 with 1 Axes>"
      ]
     },
     "metadata": {
      "needs_background": "light"
     },
     "output_type": "display_data"
    }
   ],
   "source": [
    "# Visualize our word cloud\n",
    "plt.figure(figsize=(15,5))\n",
    "plt.imshow(wordcloud)\n",
    "plt.axis('off')"
   ]
  },
  {
   "cell_type": "markdown",
   "metadata": {
    "papermill": {
     "duration": 0.048949,
     "end_time": "2021-01-23T04:07:49.402956",
     "exception": false,
     "start_time": "2021-01-23T04:07:49.354007",
     "status": "completed"
    },
    "tags": []
   },
   "source": [
    "The size of the wordcloud indiacates the significance of the tag. "
   ]
  },
  {
   "cell_type": "markdown",
   "metadata": {
    "papermill": {
     "duration": 0.0492,
     "end_time": "2021-01-23T04:07:49.502341",
     "exception": false,
     "start_time": "2021-01-23T04:07:49.453141",
     "status": "completed"
    },
    "tags": []
   },
   "source": [
    "## Emoji Analysis"
   ]
  },
  {
   "cell_type": "code",
   "execution_count": 26,
   "metadata": {
    "execution": {
     "iopub.execute_input": "2021-01-23T04:07:49.606331Z",
     "iopub.status.busy": "2021-01-23T04:07:49.605635Z",
     "iopub.status.idle": "2021-01-23T04:07:49.609058Z",
     "shell.execute_reply": "2021-01-23T04:07:49.608417Z"
    },
    "papermill": {
     "duration": 0.056788,
     "end_time": "2021-01-23T04:07:49.609153",
     "exception": false,
     "start_time": "2021-01-23T04:07:49.552365",
     "status": "completed"
    },
    "tags": []
   },
   "outputs": [],
   "source": [
    "# Install Emoji library.\n",
    "#!pip install emoji"
   ]
  },
  {
   "cell_type": "code",
   "execution_count": 27,
   "metadata": {
    "execution": {
     "iopub.execute_input": "2021-01-23T04:07:49.713390Z",
     "iopub.status.busy": "2021-01-23T04:07:49.712742Z",
     "iopub.status.idle": "2021-01-23T04:07:49.725712Z",
     "shell.execute_reply": "2021-01-23T04:07:49.726182Z"
    },
    "papermill": {
     "duration": 0.067653,
     "end_time": "2021-01-23T04:07:49.726325",
     "exception": false,
     "start_time": "2021-01-23T04:07:49.658672",
     "status": "completed"
    },
    "tags": []
   },
   "outputs": [],
   "source": [
    "# Import module emoji\n",
    "import emoji"
   ]
  },
  {
   "cell_type": "markdown",
   "metadata": {
    "papermill": {
     "duration": 0.050373,
     "end_time": "2021-01-23T04:07:49.832464",
     "exception": false,
     "start_time": "2021-01-23T04:07:49.782091",
     "status": "completed"
    },
    "tags": []
   },
   "source": [
    "Keep in mind that each emoji has a unicode"
   ]
  },
  {
   "cell_type": "code",
   "execution_count": 28,
   "metadata": {
    "execution": {
     "iopub.execute_input": "2021-01-23T04:07:49.962290Z",
     "iopub.status.busy": "2021-01-23T04:07:49.956933Z",
     "iopub.status.idle": "2021-01-23T04:07:50.393421Z",
     "shell.execute_reply": "2021-01-23T04:07:50.392794Z"
    },
    "papermill": {
     "duration": 0.510563,
     "end_time": "2021-01-23T04:07:50.393525",
     "exception": false,
     "start_time": "2021-01-23T04:07:49.882962",
     "status": "completed"
    },
    "tags": []
   },
   "outputs": [],
   "source": [
    "# Let's define a string \"str.\" We are creating a list for the emojis (if a character has a unicode then it will\n",
    "# be considered an emoji)\n",
    "str=''\n",
    "for i in trending.title:\n",
    "    list=[c for c in i if c in emoji.UNICODE_EMOJI]\n",
    "    for ele in list:\n",
    "        str= str+ele"
   ]
  },
  {
   "cell_type": "code",
   "execution_count": 29,
   "metadata": {
    "execution": {
     "iopub.execute_input": "2021-01-23T04:07:50.513745Z",
     "iopub.status.busy": "2021-01-23T04:07:50.512712Z",
     "iopub.status.idle": "2021-01-23T04:07:50.516578Z",
     "shell.execute_reply": "2021-01-23T04:07:50.517293Z"
    },
    "papermill": {
     "duration": 0.072375,
     "end_time": "2021-01-23T04:07:50.517448",
     "exception": false,
     "start_time": "2021-01-23T04:07:50.445073",
     "status": "completed"
    },
    "tags": []
   },
   "outputs": [
    {
     "data": {
      "text/plain": [
       "973"
      ]
     },
     "execution_count": 29,
     "metadata": {},
     "output_type": "execute_result"
    }
   ],
   "source": [
    "# How many emojis do we have in our dataset?\n",
    "len(str)"
   ]
  },
  {
   "cell_type": "code",
   "execution_count": 30,
   "metadata": {
    "execution": {
     "iopub.execute_input": "2021-01-23T04:07:50.668862Z",
     "iopub.status.busy": "2021-01-23T04:07:50.667816Z",
     "iopub.status.idle": "2021-01-23T04:07:50.671812Z",
     "shell.execute_reply": "2021-01-23T04:07:50.672476Z"
    },
    "papermill": {
     "duration": 0.08193,
     "end_time": "2021-01-23T04:07:50.672629",
     "exception": false,
     "start_time": "2021-01-23T04:07:50.590699",
     "status": "completed"
    },
    "tags": []
   },
   "outputs": [
    {
     "data": {
      "text/plain": [
       "'🌭❤😭☁🍞⚔🌭❤😭☁🍞⚔🌭❤😭☁🍞⚔🌭❤😭👅🥊❌👅™🥊❌👶👅™🥊❌👶💕👅™🥊❌💕👶👅™🥊❌💕👶👅™🥊®💕👅👶™®💕🏆🏆®🏡🏆®®🏡🏆®®®™🏡®🏡😱®®™🏡😱®®™⚔⚔😱😱®®™⚔⚔😱🇧🇷😱®®™🌿⚔⚔😱😱🇧🇷®🌿⚔⚔😱😱🇧🇷🌿⚔⚔😱😱🇧🇷😱🐶👋🏋🤯®🌿⚔⚔👶😱🐶👋🏋🤯®🌿👶🤔💔⚽😱🐶👋🏋®🤔💔👶⚽😱🐶👋🏋®®🤔💔👶⚽😱🐶®🤔💔👶😱⚽®🤔💔👶😱🤔💔👶®🤔💔👶®😮😮😮✏✏✏😮✏✏✏✨😮✏✏✏🤣🇲🇽✨🎥🤣🇲🇽✨🎥🤣🇲🇽✨😈🎥🤣🇲🇽😈🤣🇲🇽®®™😈🎥🤣🇲🇽👀🍿®®™🎥😈👀🍿®®™🎥😈🔴🔴🍂🙄👀🍿®®™🎥😈🔴🔴🍂🙄👀🍿®®™🎥😈⚡🍂🙄👀🍿✖⚡🍂🏠✖⚡🍂🏠✖⚡🍂🏠🍰✖⚡™🙏🏾🍰✖⚡🙏🏾🍰✖™🙏🏾🍰™🙏🏾™🎀🤑™🎀💔🔥❌🥀🤑🚨💔🎀🔥❌🥀🤑🚨💔🎀🔥❌🥀🤑🚨👀💋❌❌❌❌❌✖✖✖💔🎀🔥❌🥀👀💋❌\\U0001f9ca💎💵❌❌❌❌❌✖✖✖💔🎀👻🎶👀💋❤☕❌\\U0001f9ca💎💵❌❌❌❌❌✖✖✖💔🌧🌧👻🎶👀💋❤☕❌\\U0001f9ca💎💵🌧🌧👨🚀👻👻🎶💋👀❤☕👨🚀👻👻🎶💋👀❤☕🌧🌧👨🚀👻👻🎶💋❤☕👀🔥🔥🌧🌧👨🚀👻👻🎶🔥🔥🌧🌧👨🚀👻®🔥🔥🌧🌧👨🚀👻™🎃👻🐰®®™🎃👻🐰®🔴🎁👑🎁🎃👻🐰™🔴🎁👑🎁🎃👻🐰™👑👻🎅🔴🎁👑🎁🎃👻🐰™👑👻🎅🔴🎁👑🎁👑👻🎅🔴😭💍👑👻🎅🔴💍😭👑👻🎅🔴🔴👉🇺🇸❄😱😭👑👻🎅🔴💚❄😱📱📞💍😭👑👻🎅💚❄😱📱📞🔴👉🇺🇸😭💍👑👻💚❄😱📱📞🔴👉🇺🇸😭💍👑👻💚❄😱📱📞🔴👉🇺🇸😭💍💙💚❄😱📱📞😭💍🔴👉🇺🇸💙💚❄😱📱📞😭💍🔴👉🇺🇸🛠🇩🇴💚❄😱📱📞😭💍🛠🇩🇴💙💚🛠🇩🇴💙🕒®🛠🇩🇴💙®🕒®🛠🇩🇴💙®🕒®🛠®®🕒🥳®🏆🎮🥳🥳🥳🥳🎄🎄👊🎄🎄🎄🎄🎄🎄😮😮🤯®™😮🤯🎁®™‼💕❤🎄😮🤯🎁❤‼💕❤🎄🤯😮®™🎧❤🎁😳😊®™‼💕❤🎄👑💄🤯®™🎧❤🎁😳😊®™👑💄‼💕❤🎄®™🎧❤🎁😳😊®™👑💄‼💕❤🎄®™⛄🧑💻🎧❤🎁☃❄😱👑®™®™🎧❤⛄🧑💻🎁☃❄😱👑®™®™🎧☃❄😱👑®™®™🥺🚐🚘☃❄😱👑®™®™™🥺☃❄😱👑®™🥺™☃❄😱👑™🥺☃❄™🥺💍🍔☕™🥺💍🍔💍🍔👑🎄📺🍔👑🎄📺🎄💍🍔👑🎄📺🎄💍🍔👑👑🎄📺🎄🎄💍😰👑🎄📺🎄🎄💍😰👑🎄📺🎄🎄💍🎆🔴😰👑👑🎄📺🎄🎄💍🎆🔴😰👑👑🎄📺🎄🎄💔🎆🔴😰👑👑🎄📺🎄🎄🎆🔴😰👑‼💔🎆🔴😰👑🔴💔‼🎆🔴😰👑®🔴💔‼🎆🔴😰👑‼🎆🔴😰👑‼🎆🔴®🔴‼🎂🥳❤®🔴👑👑🎂🥳❤®🔴👑👑🎂🥳❤®🔴💕👑👑🎂🥳❤®💚💕👑👑🎂🥳❤🥶💚💕👑👑🎂🥳❤😅💸🥶💚💕👑👑🎂🥳❤💝😅💸🥶💚💕👑👑🎂🥳❤😅💸🥶💚💕👑👑💝😅💸🥶💚💕💝😅💸🥶💚💕'"
      ]
     },
     "execution_count": 30,
     "metadata": {},
     "output_type": "execute_result"
    }
   ],
   "source": [
    "# This is how our str looks like\n",
    "str"
   ]
  },
  {
   "cell_type": "code",
   "execution_count": 31,
   "metadata": {
    "execution": {
     "iopub.execute_input": "2021-01-23T04:07:50.825479Z",
     "iopub.status.busy": "2021-01-23T04:07:50.824376Z",
     "iopub.status.idle": "2021-01-23T04:07:50.829459Z",
     "shell.execute_reply": "2021-01-23T04:07:50.830208Z"
    },
    "papermill": {
     "duration": 0.083621,
     "end_time": "2021-01-23T04:07:50.830365",
     "exception": false,
     "start_time": "2021-01-23T04:07:50.746744",
     "status": "completed"
    },
    "tags": []
   },
   "outputs": [],
   "source": [
    "# Let's count the unique emojis\n",
    "result={}\n",
    "for i in set(str):\n",
    "    result[i]= str.count(i)"
   ]
  },
  {
   "cell_type": "code",
   "execution_count": 32,
   "metadata": {
    "execution": {
     "iopub.execute_input": "2021-01-23T04:07:50.990548Z",
     "iopub.status.busy": "2021-01-23T04:07:50.989826Z",
     "iopub.status.idle": "2021-01-23T04:07:50.995322Z",
     "shell.execute_reply": "2021-01-23T04:07:50.994774Z"
    },
    "papermill": {
     "duration": 0.090718,
     "end_time": "2021-01-23T04:07:50.995422",
     "exception": false,
     "start_time": "2021-01-23T04:07:50.904704",
     "status": "completed"
    },
    "tags": []
   },
   "outputs": [
    {
     "data": {
      "text/plain": [
       "dict_items([('🍞', 3), ('🚘', 1), ('💸', 5), ('🔥', 10), ('🥀', 4), ('💝', 3), ('🏋', 4), ('™', 49), ('🥊', 6), ('🥶', 6), ('😱', 33), ('🔴', 33), ('🇧', 4), ('🇴', 5), ('💎', 3), ('🌭', 4), ('🤯', 7), ('🛠', 6), ('☃', 7), ('✏', 9), ('💚', 15), ('🌧', 12), ('⚽', 4), ('🍿', 5), ('🎂', 8), ('🚐', 1), ('🎶', 6), ('💋', 7), ('❌', 27), ('⚡', 6), ('📞', 7), ('😊', 3), ('💙', 6), ('💄', 3), ('😰', 10), ('🥳', 13), ('🇩', 5), ('🇸', 6), ('👻', 26), ('👅', 7), ('😮', 10), ('🏠', 3), ('🏾', 4), ('🇲', 6), ('✖', 15), ('🇷', 4), ('👶', 13), ('🕒', 4), ('🙏', 4), ('🇺', 6), ('🎃', 5), ('🇽', 6), ('🧑', 2), ('💵', 3), ('😅', 5), ('🏡', 5), ('🐰', 5), ('👑', 56), ('🍔', 6), ('💕', 18), ('😭', 14), ('🍰', 4), ('‼', 11), ('🚨', 3), ('🤣', 6), ('👀', 12), ('👉', 6), ('💔', 17), ('🎮', 1), ('❤', 28), ('📺', 9), ('🏆', 5), ('❄', 15), ('⛄', 2), ('\\U0001f9ca', 3), ('🎥', 8), ('💻', 2), ('🎄', 36), ('☕', 6), ('📱', 7), ('🌿', 5), ('🎧', 6), ('👊', 1), ('🎆', 9), ('👋', 4), ('😈', 7), ('®', 73), ('😳', 3), ('🙄', 3), ('✨', 4), ('🎀', 6), ('⚔', 15), ('🚀', 6), ('🍂', 6), ('🥺', 6), ('🎁', 15), ('💍', 18), ('🤔', 7), ('🤑', 4), ('🐶', 5), ('☁', 3), ('👨', 6), ('🎅', 7)])"
      ]
     },
     "execution_count": 32,
     "metadata": {},
     "output_type": "execute_result"
    }
   ],
   "source": [
    "result.items()"
   ]
  },
  {
   "cell_type": "code",
   "execution_count": 33,
   "metadata": {
    "execution": {
     "iopub.execute_input": "2021-01-23T04:07:51.107703Z",
     "iopub.status.busy": "2021-01-23T04:07:51.107049Z",
     "iopub.status.idle": "2021-01-23T04:07:51.110387Z",
     "shell.execute_reply": "2021-01-23T04:07:51.109833Z"
    },
    "papermill": {
     "duration": 0.062176,
     "end_time": "2021-01-23T04:07:51.110492",
     "exception": false,
     "start_time": "2021-01-23T04:07:51.048316",
     "status": "completed"
    },
    "tags": []
   },
   "outputs": [],
   "source": [
    "# I will define a dictionary final that has each imoji(key) and its count(value)\n",
    "final={}\n",
    "for key, value in sorted(result.items(), key= lambda item:item[1]):\n",
    "    final[key]= value"
   ]
  },
  {
   "cell_type": "code",
   "execution_count": 34,
   "metadata": {
    "execution": {
     "iopub.execute_input": "2021-01-23T04:07:51.226098Z",
     "iopub.status.busy": "2021-01-23T04:07:51.225309Z",
     "iopub.status.idle": "2021-01-23T04:07:51.231324Z",
     "shell.execute_reply": "2021-01-23T04:07:51.230786Z"
    },
    "papermill": {
     "duration": 0.068081,
     "end_time": "2021-01-23T04:07:51.231426",
     "exception": false,
     "start_time": "2021-01-23T04:07:51.163345",
     "status": "completed"
    },
    "tags": []
   },
   "outputs": [
    {
     "data": {
      "text/plain": [
       "{'🚘': 1,\n",
       " '🚐': 1,\n",
       " '🎮': 1,\n",
       " '👊': 1,\n",
       " '🧑': 2,\n",
       " '⛄': 2,\n",
       " '💻': 2,\n",
       " '🍞': 3,\n",
       " '💝': 3,\n",
       " '💎': 3,\n",
       " '😊': 3,\n",
       " '💄': 3,\n",
       " '🏠': 3,\n",
       " '💵': 3,\n",
       " '🚨': 3,\n",
       " '\\U0001f9ca': 3,\n",
       " '😳': 3,\n",
       " '🙄': 3,\n",
       " '☁': 3,\n",
       " '🥀': 4,\n",
       " '🏋': 4,\n",
       " '🇧': 4,\n",
       " '🌭': 4,\n",
       " '⚽': 4,\n",
       " '🏾': 4,\n",
       " '🇷': 4,\n",
       " '🕒': 4,\n",
       " '🙏': 4,\n",
       " '🍰': 4,\n",
       " '👋': 4,\n",
       " '✨': 4,\n",
       " '🤑': 4,\n",
       " '💸': 5,\n",
       " '🇴': 5,\n",
       " '🍿': 5,\n",
       " '🇩': 5,\n",
       " '🎃': 5,\n",
       " '😅': 5,\n",
       " '🏡': 5,\n",
       " '🐰': 5,\n",
       " '🏆': 5,\n",
       " '🌿': 5,\n",
       " '🐶': 5,\n",
       " '🥊': 6,\n",
       " '🥶': 6,\n",
       " '🛠': 6,\n",
       " '🎶': 6,\n",
       " '⚡': 6,\n",
       " '💙': 6,\n",
       " '🇸': 6,\n",
       " '🇲': 6,\n",
       " '🇺': 6,\n",
       " '🇽': 6,\n",
       " '🍔': 6,\n",
       " '🤣': 6,\n",
       " '👉': 6,\n",
       " '☕': 6,\n",
       " '🎧': 6,\n",
       " '🎀': 6,\n",
       " '🚀': 6,\n",
       " '🍂': 6,\n",
       " '🥺': 6,\n",
       " '👨': 6,\n",
       " '🤯': 7,\n",
       " '☃': 7,\n",
       " '💋': 7,\n",
       " '📞': 7,\n",
       " '👅': 7,\n",
       " '📱': 7,\n",
       " '😈': 7,\n",
       " '🤔': 7,\n",
       " '🎅': 7,\n",
       " '🎂': 8,\n",
       " '🎥': 8,\n",
       " '✏': 9,\n",
       " '📺': 9,\n",
       " '🎆': 9,\n",
       " '🔥': 10,\n",
       " '😰': 10,\n",
       " '😮': 10,\n",
       " '‼': 11,\n",
       " '🌧': 12,\n",
       " '👀': 12,\n",
       " '🥳': 13,\n",
       " '👶': 13,\n",
       " '😭': 14,\n",
       " '💚': 15,\n",
       " '✖': 15,\n",
       " '❄': 15,\n",
       " '⚔': 15,\n",
       " '🎁': 15,\n",
       " '💔': 17,\n",
       " '💕': 18,\n",
       " '💍': 18,\n",
       " '👻': 26,\n",
       " '❌': 27,\n",
       " '❤': 28,\n",
       " '😱': 33,\n",
       " '🔴': 33,\n",
       " '🎄': 36,\n",
       " '™': 49,\n",
       " '👑': 56,\n",
       " '®': 73}"
      ]
     },
     "execution_count": 34,
     "metadata": {},
     "output_type": "execute_result"
    }
   ],
   "source": [
    "# Display our final result\n",
    "final"
   ]
  },
  {
   "cell_type": "code",
   "execution_count": 35,
   "metadata": {
    "execution": {
     "iopub.execute_input": "2021-01-23T04:07:51.344842Z",
     "iopub.status.busy": "2021-01-23T04:07:51.344207Z",
     "iopub.status.idle": "2021-01-23T04:07:51.352188Z",
     "shell.execute_reply": "2021-01-23T04:07:51.351688Z"
    },
    "papermill": {
     "duration": 0.066724,
     "end_time": "2021-01-23T04:07:51.352283",
     "exception": false,
     "start_time": "2021-01-23T04:07:51.285559",
     "status": "completed"
    },
    "tags": []
   },
   "outputs": [],
   "source": [
    "# Now, we create a data frame for the top used 10 emojis\n",
    "keys= [*final.keys()]\n",
    "values=[*final.values()]\n",
    "df= pd.DataFrame(keys[-10:], values[-10:])"
   ]
  },
  {
   "cell_type": "markdown",
   "metadata": {
    "papermill": {
     "duration": 0.053403,
     "end_time": "2021-01-23T04:07:51.458385",
     "exception": false,
     "start_time": "2021-01-23T04:07:51.404982",
     "status": "completed"
    },
    "tags": []
   },
   "source": [
    "# Visulize my emojis"
   ]
  },
  {
   "cell_type": "code",
   "execution_count": 36,
   "metadata": {
    "execution": {
     "iopub.execute_input": "2021-01-23T04:07:51.567166Z",
     "iopub.status.busy": "2021-01-23T04:07:51.566359Z",
     "iopub.status.idle": "2021-01-23T04:07:51.571009Z",
     "shell.execute_reply": "2021-01-23T04:07:51.571727Z"
    },
    "papermill": {
     "duration": 0.061137,
     "end_time": "2021-01-23T04:07:51.571871",
     "exception": false,
     "start_time": "2021-01-23T04:07:51.510734",
     "status": "completed"
    },
    "tags": []
   },
   "outputs": [],
   "source": [
    "df= pd.DataFrame({'chars': keys[-10:], 'num': values[-10]})"
   ]
  },
  {
   "cell_type": "code",
   "execution_count": 37,
   "metadata": {
    "execution": {
     "iopub.execute_input": "2021-01-23T04:07:51.733254Z",
     "iopub.status.busy": "2021-01-23T04:07:51.732368Z",
     "iopub.status.idle": "2021-01-23T04:07:51.759262Z",
     "shell.execute_reply": "2021-01-23T04:07:51.758526Z"
    },
    "papermill": {
     "duration": 0.110947,
     "end_time": "2021-01-23T04:07:51.759399",
     "exception": false,
     "start_time": "2021-01-23T04:07:51.648452",
     "status": "completed"
    },
    "tags": []
   },
   "outputs": [],
   "source": [
    "# Import libraries and modules\n",
    "import plotly.graph_objs as go\n",
    "from plotly.offline import iplot"
   ]
  },
  {
   "cell_type": "code",
   "execution_count": 38,
   "metadata": {
    "execution": {
     "iopub.execute_input": "2021-01-23T04:07:51.921410Z",
     "iopub.status.busy": "2021-01-23T04:07:51.920320Z",
     "iopub.status.idle": "2021-01-23T04:07:52.956518Z",
     "shell.execute_reply": "2021-01-23T04:07:52.955509Z"
    },
    "papermill": {
     "duration": 1.118283,
     "end_time": "2021-01-23T04:07:52.956683",
     "exception": false,
     "start_time": "2021-01-23T04:07:51.838400",
     "status": "completed"
    },
    "tags": []
   },
   "outputs": [
    {
     "data": {
      "text/html": [
       "        <script type=\"text/javascript\">\n",
       "        window.PlotlyConfig = {MathJaxConfig: 'local'};\n",
       "        if (window.MathJax) {MathJax.Hub.Config({SVG: {font: \"STIX-Web\"}});}\n",
       "        if (typeof require !== 'undefined') {\n",
       "        require.undef(\"plotly\");\n",
       "        requirejs.config({\n",
       "            paths: {\n",
       "                'plotly': ['https://cdn.plot.ly/plotly-latest.min']\n",
       "            }\n",
       "        });\n",
       "        require(['plotly'], function(Plotly) {\n",
       "            window._Plotly = Plotly;\n",
       "        });\n",
       "        }\n",
       "        </script>\n",
       "        "
      ]
     },
     "metadata": {},
     "output_type": "display_data"
    },
    {
     "data": {
      "text/html": [
       "<div>                            <div id=\"9a9c51a4-050f-47b7-bc5d-703937c728c6\" class=\"plotly-graph-div\" style=\"height:525px; width:100%;\"></div>            <script type=\"text/javascript\">                require([\"plotly\"], function(Plotly) {                    window.PLOTLYENV=window.PLOTLYENV || {};                                    if (document.getElementById(\"9a9c51a4-050f-47b7-bc5d-703937c728c6\")) {                    Plotly.newPlot(                        \"9a9c51a4-050f-47b7-bc5d-703937c728c6\",                        [{\"type\": \"bar\", \"x\": [\"\\ud83d\\udc8d\", \"\\ud83d\\udc7b\", \"\\u274c\", \"\\u2764\", \"\\ud83d\\ude31\", \"\\ud83d\\udd34\", \"\\ud83c\\udf84\", \"\\u2122\", \"\\ud83d\\udc51\", \"\\u00ae\"], \"y\": [18, 18, 18, 18, 18, 18, 18, 18, 18, 18]}],                        {\"template\": {\"data\": {\"bar\": [{\"error_x\": {\"color\": \"#2a3f5f\"}, \"error_y\": {\"color\": \"#2a3f5f\"}, \"marker\": {\"line\": {\"color\": \"#E5ECF6\", \"width\": 0.5}}, \"type\": \"bar\"}], \"barpolar\": [{\"marker\": {\"line\": {\"color\": \"#E5ECF6\", \"width\": 0.5}}, \"type\": \"barpolar\"}], \"carpet\": [{\"aaxis\": {\"endlinecolor\": \"#2a3f5f\", \"gridcolor\": \"white\", \"linecolor\": \"white\", \"minorgridcolor\": \"white\", \"startlinecolor\": \"#2a3f5f\"}, \"baxis\": {\"endlinecolor\": \"#2a3f5f\", \"gridcolor\": \"white\", \"linecolor\": \"white\", \"minorgridcolor\": \"white\", \"startlinecolor\": \"#2a3f5f\"}, \"type\": \"carpet\"}], \"choropleth\": [{\"colorbar\": {\"outlinewidth\": 0, \"ticks\": \"\"}, \"type\": \"choropleth\"}], \"contour\": [{\"colorbar\": {\"outlinewidth\": 0, \"ticks\": \"\"}, \"colorscale\": [[0.0, \"#0d0887\"], [0.1111111111111111, \"#46039f\"], [0.2222222222222222, \"#7201a8\"], [0.3333333333333333, \"#9c179e\"], [0.4444444444444444, \"#bd3786\"], [0.5555555555555556, \"#d8576b\"], [0.6666666666666666, \"#ed7953\"], [0.7777777777777778, \"#fb9f3a\"], [0.8888888888888888, \"#fdca26\"], [1.0, \"#f0f921\"]], \"type\": \"contour\"}], \"contourcarpet\": [{\"colorbar\": {\"outlinewidth\": 0, \"ticks\": \"\"}, \"type\": \"contourcarpet\"}], \"heatmap\": [{\"colorbar\": {\"outlinewidth\": 0, \"ticks\": \"\"}, \"colorscale\": [[0.0, \"#0d0887\"], [0.1111111111111111, \"#46039f\"], [0.2222222222222222, \"#7201a8\"], [0.3333333333333333, \"#9c179e\"], [0.4444444444444444, \"#bd3786\"], [0.5555555555555556, \"#d8576b\"], [0.6666666666666666, \"#ed7953\"], [0.7777777777777778, \"#fb9f3a\"], [0.8888888888888888, \"#fdca26\"], [1.0, \"#f0f921\"]], \"type\": \"heatmap\"}], \"heatmapgl\": [{\"colorbar\": {\"outlinewidth\": 0, \"ticks\": \"\"}, \"colorscale\": [[0.0, \"#0d0887\"], [0.1111111111111111, \"#46039f\"], [0.2222222222222222, \"#7201a8\"], [0.3333333333333333, \"#9c179e\"], [0.4444444444444444, \"#bd3786\"], [0.5555555555555556, \"#d8576b\"], [0.6666666666666666, \"#ed7953\"], [0.7777777777777778, \"#fb9f3a\"], [0.8888888888888888, \"#fdca26\"], [1.0, \"#f0f921\"]], \"type\": \"heatmapgl\"}], \"histogram\": [{\"marker\": {\"colorbar\": {\"outlinewidth\": 0, \"ticks\": \"\"}}, \"type\": \"histogram\"}], \"histogram2d\": [{\"colorbar\": {\"outlinewidth\": 0, \"ticks\": \"\"}, \"colorscale\": [[0.0, \"#0d0887\"], [0.1111111111111111, \"#46039f\"], [0.2222222222222222, \"#7201a8\"], [0.3333333333333333, \"#9c179e\"], [0.4444444444444444, \"#bd3786\"], [0.5555555555555556, \"#d8576b\"], [0.6666666666666666, \"#ed7953\"], [0.7777777777777778, \"#fb9f3a\"], [0.8888888888888888, \"#fdca26\"], [1.0, \"#f0f921\"]], \"type\": \"histogram2d\"}], \"histogram2dcontour\": [{\"colorbar\": {\"outlinewidth\": 0, \"ticks\": \"\"}, \"colorscale\": [[0.0, \"#0d0887\"], [0.1111111111111111, \"#46039f\"], [0.2222222222222222, \"#7201a8\"], [0.3333333333333333, \"#9c179e\"], [0.4444444444444444, \"#bd3786\"], [0.5555555555555556, \"#d8576b\"], [0.6666666666666666, \"#ed7953\"], [0.7777777777777778, \"#fb9f3a\"], [0.8888888888888888, \"#fdca26\"], [1.0, \"#f0f921\"]], \"type\": \"histogram2dcontour\"}], \"mesh3d\": [{\"colorbar\": {\"outlinewidth\": 0, \"ticks\": \"\"}, \"type\": \"mesh3d\"}], \"parcoords\": [{\"line\": {\"colorbar\": {\"outlinewidth\": 0, \"ticks\": \"\"}}, \"type\": \"parcoords\"}], \"pie\": [{\"automargin\": true, \"type\": \"pie\"}], \"scatter\": [{\"marker\": {\"colorbar\": {\"outlinewidth\": 0, \"ticks\": \"\"}}, \"type\": \"scatter\"}], \"scatter3d\": [{\"line\": {\"colorbar\": {\"outlinewidth\": 0, \"ticks\": \"\"}}, \"marker\": {\"colorbar\": {\"outlinewidth\": 0, \"ticks\": \"\"}}, \"type\": \"scatter3d\"}], \"scattercarpet\": [{\"marker\": {\"colorbar\": {\"outlinewidth\": 0, \"ticks\": \"\"}}, \"type\": \"scattercarpet\"}], \"scattergeo\": [{\"marker\": {\"colorbar\": {\"outlinewidth\": 0, \"ticks\": \"\"}}, \"type\": \"scattergeo\"}], \"scattergl\": [{\"marker\": {\"colorbar\": {\"outlinewidth\": 0, \"ticks\": \"\"}}, \"type\": \"scattergl\"}], \"scattermapbox\": [{\"marker\": {\"colorbar\": {\"outlinewidth\": 0, \"ticks\": \"\"}}, \"type\": \"scattermapbox\"}], \"scatterpolar\": [{\"marker\": {\"colorbar\": {\"outlinewidth\": 0, \"ticks\": \"\"}}, \"type\": \"scatterpolar\"}], \"scatterpolargl\": [{\"marker\": {\"colorbar\": {\"outlinewidth\": 0, \"ticks\": \"\"}}, \"type\": \"scatterpolargl\"}], \"scatterternary\": [{\"marker\": {\"colorbar\": {\"outlinewidth\": 0, \"ticks\": \"\"}}, \"type\": \"scatterternary\"}], \"surface\": [{\"colorbar\": {\"outlinewidth\": 0, \"ticks\": \"\"}, \"colorscale\": [[0.0, \"#0d0887\"], [0.1111111111111111, \"#46039f\"], [0.2222222222222222, \"#7201a8\"], [0.3333333333333333, \"#9c179e\"], [0.4444444444444444, \"#bd3786\"], [0.5555555555555556, \"#d8576b\"], [0.6666666666666666, \"#ed7953\"], [0.7777777777777778, \"#fb9f3a\"], [0.8888888888888888, \"#fdca26\"], [1.0, \"#f0f921\"]], \"type\": \"surface\"}], \"table\": [{\"cells\": {\"fill\": {\"color\": \"#EBF0F8\"}, \"line\": {\"color\": \"white\"}}, \"header\": {\"fill\": {\"color\": \"#C8D4E3\"}, \"line\": {\"color\": \"white\"}}, \"type\": \"table\"}]}, \"layout\": {\"annotationdefaults\": {\"arrowcolor\": \"#2a3f5f\", \"arrowhead\": 0, \"arrowwidth\": 1}, \"autotypenumbers\": \"strict\", \"coloraxis\": {\"colorbar\": {\"outlinewidth\": 0, \"ticks\": \"\"}}, \"colorscale\": {\"diverging\": [[0, \"#8e0152\"], [0.1, \"#c51b7d\"], [0.2, \"#de77ae\"], [0.3, \"#f1b6da\"], [0.4, \"#fde0ef\"], [0.5, \"#f7f7f7\"], [0.6, \"#e6f5d0\"], [0.7, \"#b8e186\"], [0.8, \"#7fbc41\"], [0.9, \"#4d9221\"], [1, \"#276419\"]], \"sequential\": [[0.0, \"#0d0887\"], [0.1111111111111111, \"#46039f\"], [0.2222222222222222, \"#7201a8\"], [0.3333333333333333, \"#9c179e\"], [0.4444444444444444, \"#bd3786\"], [0.5555555555555556, \"#d8576b\"], [0.6666666666666666, \"#ed7953\"], [0.7777777777777778, \"#fb9f3a\"], [0.8888888888888888, \"#fdca26\"], [1.0, \"#f0f921\"]], \"sequentialminus\": [[0.0, \"#0d0887\"], [0.1111111111111111, \"#46039f\"], [0.2222222222222222, \"#7201a8\"], [0.3333333333333333, \"#9c179e\"], [0.4444444444444444, \"#bd3786\"], [0.5555555555555556, \"#d8576b\"], [0.6666666666666666, \"#ed7953\"], [0.7777777777777778, \"#fb9f3a\"], [0.8888888888888888, \"#fdca26\"], [1.0, \"#f0f921\"]]}, \"colorway\": [\"#636efa\", \"#EF553B\", \"#00cc96\", \"#ab63fa\", \"#FFA15A\", \"#19d3f3\", \"#FF6692\", \"#B6E880\", \"#FF97FF\", \"#FECB52\"], \"font\": {\"color\": \"#2a3f5f\"}, \"geo\": {\"bgcolor\": \"white\", \"lakecolor\": \"white\", \"landcolor\": \"#E5ECF6\", \"showlakes\": true, \"showland\": true, \"subunitcolor\": \"white\"}, \"hoverlabel\": {\"align\": \"left\"}, \"hovermode\": \"closest\", \"mapbox\": {\"style\": \"light\"}, \"paper_bgcolor\": \"white\", \"plot_bgcolor\": \"#E5ECF6\", \"polar\": {\"angularaxis\": {\"gridcolor\": \"white\", \"linecolor\": \"white\", \"ticks\": \"\"}, \"bgcolor\": \"#E5ECF6\", \"radialaxis\": {\"gridcolor\": \"white\", \"linecolor\": \"white\", \"ticks\": \"\"}}, \"scene\": {\"xaxis\": {\"backgroundcolor\": \"#E5ECF6\", \"gridcolor\": \"white\", \"gridwidth\": 2, \"linecolor\": \"white\", \"showbackground\": true, \"ticks\": \"\", \"zerolinecolor\": \"white\"}, \"yaxis\": {\"backgroundcolor\": \"#E5ECF6\", \"gridcolor\": \"white\", \"gridwidth\": 2, \"linecolor\": \"white\", \"showbackground\": true, \"ticks\": \"\", \"zerolinecolor\": \"white\"}, \"zaxis\": {\"backgroundcolor\": \"#E5ECF6\", \"gridcolor\": \"white\", \"gridwidth\": 2, \"linecolor\": \"white\", \"showbackground\": true, \"ticks\": \"\", \"zerolinecolor\": \"white\"}}, \"shapedefaults\": {\"line\": {\"color\": \"#2a3f5f\"}}, \"ternary\": {\"aaxis\": {\"gridcolor\": \"white\", \"linecolor\": \"white\", \"ticks\": \"\"}, \"baxis\": {\"gridcolor\": \"white\", \"linecolor\": \"white\", \"ticks\": \"\"}, \"bgcolor\": \"#E5ECF6\", \"caxis\": {\"gridcolor\": \"white\", \"linecolor\": \"white\", \"ticks\": \"\"}}, \"title\": {\"x\": 0.05}, \"xaxis\": {\"automargin\": true, \"gridcolor\": \"white\", \"linecolor\": \"white\", \"ticks\": \"\", \"title\": {\"standoff\": 15}, \"zerolinecolor\": \"white\", \"zerolinewidth\": 2}, \"yaxis\": {\"automargin\": true, \"gridcolor\": \"white\", \"linecolor\": \"white\", \"ticks\": \"\", \"title\": {\"standoff\": 15}, \"zerolinecolor\": \"white\", \"zerolinewidth\": 2}}}},                        {\"responsive\": true}                    ).then(function(){\n",
       "                            \n",
       "var gd = document.getElementById('9a9c51a4-050f-47b7-bc5d-703937c728c6');\n",
       "var x = new MutationObserver(function (mutations, observer) {{\n",
       "        var display = window.getComputedStyle(gd).display;\n",
       "        if (!display || display === 'none') {{\n",
       "            console.log([gd, 'removed!']);\n",
       "            Plotly.purge(gd);\n",
       "            observer.disconnect();\n",
       "        }}\n",
       "}});\n",
       "\n",
       "// Listen for the removal of the full notebook cells\n",
       "var notebookContainer = gd.closest('#notebook-container');\n",
       "if (notebookContainer) {{\n",
       "    x.observe(notebookContainer, {childList: true});\n",
       "}}\n",
       "\n",
       "// Listen for the clearing of the current output cell\n",
       "var outputEl = gd.closest('.output');\n",
       "if (outputEl) {{\n",
       "    x.observe(outputEl, {childList: true});\n",
       "}}\n",
       "\n",
       "                        })                };                });            </script>        </div>"
      ]
     },
     "metadata": {},
     "output_type": "display_data"
    }
   ],
   "source": [
    "graph = go.Bar(\n",
    "x= df['chars'],\n",
    "y= df['num'])\n",
    "iplot([graph] )\n",
    "# Hover over the bars to view the emojis along with the count"
   ]
  },
  {
   "cell_type": "markdown",
   "metadata": {
    "papermill": {
     "duration": 0.078835,
     "end_time": "2021-01-23T04:07:53.114763",
     "exception": false,
     "start_time": "2021-01-23T04:07:53.035928",
     "status": "completed"
    },
    "tags": []
   },
   "source": [
    "# The END"
   ]
  }
 ],
 "metadata": {
  "kernelspec": {
   "display_name": "Python 3 (ipykernel)",
   "language": "python",
   "name": "python3"
  },
  "language_info": {
   "codemirror_mode": {
    "name": "ipython",
    "version": 3
   },
   "file_extension": ".py",
   "mimetype": "text/x-python",
   "name": "python",
   "nbconvert_exporter": "python",
   "pygments_lexer": "ipython3",
   "version": "3.9.12"
  },
  "papermill": {
   "duration": 28.209671,
   "end_time": "2021-01-23T04:07:53.302821",
   "environment_variables": {},
   "exception": null,
   "input_path": "__notebook__.ipynb",
   "output_path": "__notebook__.ipynb",
   "parameters": {},
   "start_time": "2021-01-23T04:07:25.093150",
   "version": "2.1.0"
  }
 },
 "nbformat": 4,
 "nbformat_minor": 4
}
