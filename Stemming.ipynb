{
 "cells": [
  {
   "cell_type": "code",
   "execution_count": 4,
   "id": "492437e7",
   "metadata": {},
   "outputs": [
    {
     "name": "stdout",
     "output_type": "stream",
     "text": [
      "We\n",
      "'re\n",
      "here\n",
      "to\n",
      "help\n",
      "!\n",
      "Send\n",
      "snail\n",
      "-\n",
      "email\n",
      "shahashmatali667@gmail.com\n",
      "or\n",
      "visit\n",
      "us\n",
      "at\n",
      "https://myupdatedportfolio.netlify.app/\n"
     ]
    }
   ],
   "source": [
    "import spacy\n",
    "nlp = spacy.load('en_core_web_sm')\n",
    "doc2 = nlp(u\"We're here to help! Send snail-email shahashmatali667@gmail.com or visit us at https://myupdatedportfolio.netlify.app/\")\n",
    "for t in doc2:\n",
    "    print(t)"
   ]
  },
  {
   "cell_type": "code",
   "execution_count": 6,
   "id": "8a0d3870",
   "metadata": {},
   "outputs": [],
   "source": [
    "import nltk\n",
    "from nltk.stem.porter import *"
   ]
  },
  {
   "cell_type": "code",
   "execution_count": 7,
   "id": "a34eabb6",
   "metadata": {},
   "outputs": [],
   "source": [
    "p_stemmer = PorterStemmer()\n",
    "words = ['run','runner','ran','runs','easily','fairly']"
   ]
  },
  {
   "cell_type": "code",
   "execution_count": 8,
   "id": "3e59d991",
   "metadata": {},
   "outputs": [
    {
     "name": "stdout",
     "output_type": "stream",
     "text": [
      "run -->run\n",
      "runner -->runner\n",
      "ran -->ran\n",
      "runs -->run\n",
      "easily -->easili\n",
      "fairly -->fairli\n"
     ]
    }
   ],
   "source": [
    "for word in words:\n",
    "    print(word+' -->'+p_stemmer.stem(word))"
   ]
  },
  {
   "cell_type": "code",
   "execution_count": 9,
   "id": "d500053f",
   "metadata": {},
   "outputs": [],
   "source": [
    "words = ['Consolingly']"
   ]
  },
  {
   "cell_type": "code",
   "execution_count": 13,
   "id": "1624a6a1",
   "metadata": {},
   "outputs": [],
   "source": [
    "#SnowballStemmer\n",
    "from nltk.stem.snowball import SnowballStemmer\n",
    "# The Snowball stemmer requires that you pass a language parameter\n",
    "s_stemmer = SnowballStemmer(language='english')"
   ]
  },
  {
   "cell_type": "code",
   "execution_count": 14,
   "id": "880aab90",
   "metadata": {},
   "outputs": [
    {
     "name": "stdout",
     "output_type": "stream",
     "text": [
      "Porter Stemmer\n",
      "Consolingly -->consolingli\n"
     ]
    }
   ],
   "source": [
    "print('Porter Stemmer')\n",
    "for word in words:\n",
    "    print(word+' -->'+p_stemmer.stem(word))"
   ]
  },
  {
   "cell_type": "code",
   "execution_count": 15,
   "id": "56a48b7c",
   "metadata": {},
   "outputs": [
    {
     "name": "stdout",
     "output_type": "stream",
     "text": [
      "Porter Stemmer\n",
      "Consolingly -->consol\n"
     ]
    }
   ],
   "source": [
    "print('Porter Stemmer')\n",
    "for word in words:\n",
    "    print(word+' -->'+s_stemmer.stem(word))"
   ]
  },
  {
   "cell_type": "code",
   "execution_count": 17,
   "id": "80068a0a",
   "metadata": {},
   "outputs": [
    {
     "name": "stdout",
     "output_type": "stream",
     "text": [
      "I -->i\n",
      "am -->am\n",
      "meeting -->meet\n",
      "him -->him\n",
      "tomorrow -->tomorrow\n",
      "at -->at\n",
      "the -->the\n",
      "meeting -->meet\n"
     ]
    }
   ],
   "source": [
    "phrase = 'I am meeting him tomorrow at the meeting'\n",
    "for word in phrase.split():\n",
    "    print(word+' -->'+p_stemmer.stem(word))"
   ]
  },
  {
   "cell_type": "code",
   "execution_count": null,
   "id": "b78f9d79",
   "metadata": {},
   "outputs": [],
   "source": []
  }
 ],
 "metadata": {
  "kernelspec": {
   "display_name": "Python 3 (ipykernel)",
   "language": "python",
   "name": "python3"
  },
  "language_info": {
   "codemirror_mode": {
    "name": "ipython",
    "version": 3
   },
   "file_extension": ".py",
   "mimetype": "text/x-python",
   "name": "python",
   "nbconvert_exporter": "python",
   "pygments_lexer": "ipython3",
   "version": "3.9.12"
  }
 },
 "nbformat": 4,
 "nbformat_minor": 5
}
