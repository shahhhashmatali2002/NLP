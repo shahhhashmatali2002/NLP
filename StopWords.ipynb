{
 "cells": [
  {
   "cell_type": "code",
   "execution_count": 1,
   "id": "7b4f5172",
   "metadata": {},
   "outputs": [],
   "source": [
    "import spacy\n",
    "nlp = spacy.load('en_core_web_sm')"
   ]
  },
  {
   "cell_type": "code",
   "execution_count": 3,
   "id": "bc873b14",
   "metadata": {},
   "outputs": [
    {
     "name": "stderr",
     "output_type": "stream",
     "text": [
      "[nltk_data] Downloading package stopwords to\n",
      "[nltk_data]     C:\\Users\\HashmatAli\\AppData\\Roaming\\nltk_data...\n",
      "[nltk_data]   Unzipping corpora\\stopwords.zip.\n"
     ]
    },
    {
     "data": {
      "text/plain": [
       "True"
      ]
     },
     "execution_count": 3,
     "metadata": {},
     "output_type": "execute_result"
    }
   ],
   "source": [
    "import nltk\n",
    "nltk.download('stopwords')"
   ]
  },
  {
   "cell_type": "code",
   "execution_count": 6,
   "id": "44df5215",
   "metadata": {},
   "outputs": [
    {
     "name": "stdout",
     "output_type": "stream",
     "text": [
      "{'besides', 'ourselves', 'few', 'with', 'latter', 'twenty', 'thereafter', 'keep', 'toward', 'noone', 'via', 'whereas', 'otherwise', 'doing', 'along', 'could', 'empty', '’ve', 'two', 'forty', 'within', 'you', 'most', 'amongst', 'three', 'seems', '‘ll', 'ten', 'the', 'one', 'whenever', '‘m', 'alone', 'nine', 'eleven', 'been', 'again', 'together', 'hereupon', 'give', 'hers', 'either', \"'re\", 'whoever', 'wherever', 'also', 'all', 'out', 'is', 'as', 'quite', 'ca', \"'ll\", 'until', 'whatever', 'above', 'say', 'though', 'somewhere', 'else', 'any', 'call', 'how', 'none', 'various', 'why', 'six', 'thereupon', 'sometime', 'full', 'done', 'against', 'across', \"n't\", 'yourself', 'even', 'hereby', 'that', 'them', 'already', 'this', 'herein', 'seeming', 'for', 'every', 'to', 'whence', 'our', 'former', 'nevertheless', 'afterwards', 'me', 'very', 'third', 'themselves', 'did', 'go', 'do', 'whereupon', 'towards', 'was', 'indeed', 'become', 'yours', 'first', 'no', 'regarding', 'beside', 'anywhere', 'enough', 'up', 'those', 'take', 'her', 'below', 'name', 'upon', 'latterly', 'except', 'neither', '’ll', 'serious', 'five', 'something', 'unless', 'your', 'made', 'next', 'whether', 'during', 'has', 'further', 'who', \"'m\", 'anyway', \"'ve\", \"'s\", 'therefore', 'more', 'between', 'fifteen', 'formerly', 'hundred', 'herself', 'will', 'whose', 'used', 'while', 'back', 'just', 'their', 'nobody', 'from', 'here', 'on', 'anyhow', 'nowhere', 'own', 'she', 'bottom', 'due', 'namely', 'my', 'because', 'around', 'n’t', 'does', 'yet', 'only', 'into', '‘s', 'than', 'rather', 'about', 'many', 'seem', 'whereby', 'move', 'using', 'over', '’re', 'twelve', 'we', 'mine', 'ever', 'top', 'there', '‘d', 'both', 'whom', 'whereafter', 'in', 'not', 'meanwhile', 'whole', 'mostly', 'what', 'his', 'he', 'myself', 'which', 'be', 'almost', 'under', 'anything', 'after', 'least', 'may', 'being', 'before', 'get', 'should', 'everything', 'somehow', 'cannot', \"'d\", 'fifty', 'were', 'becomes', 'these', 'himself', 'however', 'everyone', 'see', 'same', 'at', 'ours', 'where', 'last', 'never', 'others', 'hence', 'him', 'had', 'down', 'or', 'sixty', '’m', 'must', 'thereby', 'whither', 'another', 'elsewhere', 'i', 'hereafter', 'yourselves', 'through', 'moreover', 'someone', 'by', 'an', 'part', 'eight', 'make', 'seemed', 'itself', 'they', 'really', 'becoming', 'thence', 'each', 'often', 'onto', 'without', 'much', 'thus', 'per', 'therein', 'but', 'can', '‘re', 'thru', 'it', 'other', 'behind', 'several', 'some', 'please', 'always', 'have', 'put', 'might', 're', 'everywhere', 'too', 'well', 'so', 'off', 'beyond', 'sometimes', 'although', 'a', 'and', 'when', 'now', 'show', 'would', 'if', 'once', 'front', 'four', 'am', 'are', '‘ve', 'still', 'less', 'throughout', 'n‘t', 'became', 'wherein', 'anyone', 'beforehand', 'such', 'its', '’s', '’d', 'side', 'us', 'among', 'nothing', 'then', 'since', 'nor', 'amount', 'of', 'perhaps'}\n"
     ]
    }
   ],
   "source": [
    "# Print the set of spacy's default stop words (remember that sets are unordered)\n",
    "print(nlp.Defaults.stop_words)"
   ]
  },
  {
   "cell_type": "code",
   "execution_count": 8,
   "id": "c1a860a5",
   "metadata": {},
   "outputs": [
    {
     "name": "stdout",
     "output_type": "stream",
     "text": [
      "326\n"
     ]
    }
   ],
   "source": [
    "print(len(nlp.Defaults.stop_words))"
   ]
  },
  {
   "cell_type": "code",
   "execution_count": 9,
   "id": "587336c2",
   "metadata": {},
   "outputs": [
    {
     "data": {
      "text/plain": [
       "True"
      ]
     },
     "execution_count": 9,
     "metadata": {},
     "output_type": "execute_result"
    }
   ],
   "source": [
    "# To see if a word is a stop word\n",
    "nlp.vocab['myself'].is_stop"
   ]
  },
  {
   "cell_type": "code",
   "execution_count": 10,
   "id": "0025b594",
   "metadata": {},
   "outputs": [
    {
     "data": {
      "text/plain": [
       "False"
      ]
     },
     "execution_count": 10,
     "metadata": {},
     "output_type": "execute_result"
    }
   ],
   "source": [
    "nlp.vocab['mystery'].is_stop"
   ]
  },
  {
   "cell_type": "code",
   "execution_count": 12,
   "id": "c355e766",
   "metadata": {},
   "outputs": [],
   "source": [
    "# Add variable to the stop words\n",
    "nlp.Defaults.stop_words.add('mystery')"
   ]
  },
  {
   "cell_type": "code",
   "execution_count": 39,
   "id": "a25c4248",
   "metadata": {},
   "outputs": [
    {
     "data": {
      "text/plain": [
       "True"
      ]
     },
     "execution_count": 39,
     "metadata": {},
     "output_type": "execute_result"
    }
   ],
   "source": [
    "nlp.vocab['myself'].is_stop"
   ]
  },
  {
   "cell_type": "code",
   "execution_count": 15,
   "id": "7a86769f",
   "metadata": {},
   "outputs": [
    {
     "name": "stdout",
     "output_type": "stream",
     "text": [
      "327\n"
     ]
    }
   ],
   "source": [
    "# After adding mystery words in stop_words checking length\n",
    "print(len(nlp.Defaults.stop_words))"
   ]
  },
  {
   "cell_type": "code",
   "execution_count": 16,
   "id": "f8c61714",
   "metadata": {},
   "outputs": [],
   "source": [
    "# Remove variable to the stop words\n",
    "nlp.Defaults.stop_words.remove('mystery')"
   ]
  },
  {
   "cell_type": "code",
   "execution_count": 17,
   "id": "d56f27cc",
   "metadata": {},
   "outputs": [
    {
     "name": "stdout",
     "output_type": "stream",
     "text": [
      "326\n"
     ]
    }
   ],
   "source": [
    "# After removing mystery words in stop_words checking length\n",
    "print(len(nlp.Defaults.stop_words))"
   ]
  },
  {
   "cell_type": "code",
   "execution_count": 31,
   "id": "77e5fd95",
   "metadata": {},
   "outputs": [
    {
     "name": "stderr",
     "output_type": "stream",
     "text": [
      "[nltk_data] Downloading package punkt to\n",
      "[nltk_data]     C:\\Users\\HashmatAli\\AppData\\Roaming\\nltk_data...\n",
      "[nltk_data]   Package punkt is already up-to-date!\n"
     ]
    }
   ],
   "source": [
    "import string\n",
    "import re\n",
    "import nltk\n",
    "# punkt use for tokenization \n",
    "nltk.download('punkt')\n",
    "from nltk import word_tokenize,sent_tokenize\n",
    "from nltk.corpus import stopwords\n",
    "#loading data\n",
    "text = 'The Quick brown fox jump over the lazy dog!'"
   ]
  },
  {
   "cell_type": "code",
   "execution_count": 72,
   "id": "2b8f9046",
   "metadata": {},
   "outputs": [
    {
     "name": "stdout",
     "output_type": "stream",
     "text": [
      "['The', 'Quick', 'brown', 'fox', 'jump', 'over', 'the', 'lazy', 'dog', '!']\n"
     ]
    }
   ],
   "source": [
    "# split into words\n",
    "tokens = word_tokenize(text)\n",
    "print(tokens)"
   ]
  },
  {
   "cell_type": "code",
   "execution_count": null,
   "id": "4f1ca2b2",
   "metadata": {},
   "outputs": [],
   "source": [
    "# convert into lower case\n",
    "tokens = [w.lower() for w in tokens]"
   ]
  },
  {
   "cell_type": "code",
   "execution_count": 33,
   "id": "8426b0c6",
   "metadata": {},
   "outputs": [
    {
     "name": "stdout",
     "output_type": "stream",
     "text": [
      "re.compile('[!\"\\\\#\\\\$%\\\\&\\'\\\\(\\\\)\\\\*\\\\+,\\\\-\\\\./:;<=>\\\\?@\\\\[\\\\\\\\\\\\]\\\\^_`\\\\{\\\\|\\\\}\\\\~]')\n"
     ]
    }
   ],
   "source": [
    "# printing in which type of punctuation could be happend in our string\n",
    "re_punc = re.compile('[%s]' % re.escape(string.punctuation))\n",
    "print(re_punc)"
   ]
  },
  {
   "cell_type": "code",
   "execution_count": 35,
   "id": "decf6c87",
   "metadata": {},
   "outputs": [
    {
     "name": "stdout",
     "output_type": "stream",
     "text": [
      "['The', 'Quick', 'brown', 'fox', 'jump', 'over', 'the', 'lazy', 'dog', '']\n"
     ]
    }
   ],
   "source": [
    "# removing punctuation from each word\n",
    "stripped = [re_punc.sub('',w) for w in tokens]\n",
    "print(stripped)"
   ]
  },
  {
   "cell_type": "code",
   "execution_count": 69,
   "id": "ca47b3e5",
   "metadata": {},
   "outputs": [
    {
     "name": "stdout",
     "output_type": "stream",
     "text": [
      "['The', 'Quick', 'brown', 'fox', 'jump', 'over', 'the', 'lazy', 'dog']\n"
     ]
    }
   ],
   "source": [
    "# removing remaining token that are not alphabetic\n",
    "words = [word for word in stripped if word.isalpha()]\n",
    "print(words)"
   ]
  },
  {
   "cell_type": "code",
   "execution_count": 70,
   "id": "1be36983",
   "metadata": {},
   "outputs": [
    {
     "name": "stdout",
     "output_type": "stream",
     "text": [
      "['The', 'Quick', 'brown', 'fox', 'jump', 'lazy', 'dog']\n"
     ]
    }
   ],
   "source": [
    "# filter are non-stop words\n",
    "stop_words = set(stopwords.words('english'))\n",
    "words = [w for w in words if not w in stop_words]\n",
    "print(words)"
   ]
  },
  {
   "cell_type": "code",
   "execution_count": 71,
   "id": "1e67715b",
   "metadata": {},
   "outputs": [
    {
     "name": "stdout",
     "output_type": "stream",
     "text": [
      "True\n",
      "False\n",
      "False\n",
      "False\n",
      "False\n",
      "False\n",
      "False\n"
     ]
    }
   ],
   "source": [
    "for words in words:\n",
    "    print(nlp.vocab[words].is_stop)"
   ]
  },
  {
   "cell_type": "code",
   "execution_count": null,
   "id": "9c598815",
   "metadata": {},
   "outputs": [],
   "source": []
  }
 ],
 "metadata": {
  "kernelspec": {
   "display_name": "Python 3 (ipykernel)",
   "language": "python",
   "name": "python3"
  },
  "language_info": {
   "codemirror_mode": {
    "name": "ipython",
    "version": 3
   },
   "file_extension": ".py",
   "mimetype": "text/x-python",
   "name": "python",
   "nbconvert_exporter": "python",
   "pygments_lexer": "ipython3",
   "version": "3.9.12"
  }
 },
 "nbformat": 4,
 "nbformat_minor": 5
}
