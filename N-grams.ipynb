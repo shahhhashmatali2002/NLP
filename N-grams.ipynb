{
 "cells": [
  {
   "cell_type": "code",
   "execution_count": 1,
   "id": "4e521d85",
   "metadata": {},
   "outputs": [],
   "source": [
    "import re"
   ]
  },
  {
   "cell_type": "code",
   "execution_count": 8,
   "id": "f05421c4",
   "metadata": {},
   "outputs": [],
   "source": [
    "def N_grams(text,n):\n",
    "    #splits sentence into tokens\n",
    "    tokens=re.split(\"\\\\s+\",text)\n",
    "    ngrams=[]\n",
    "    #collect the n-grams\n",
    "    for i in range(len(tokens)-n+1):\n",
    "        temp=[tokens[j] for j in range(i,i+n)]\n",
    "        ngrams.append(\" \".join(temp))\n",
    "    return ngrams"
   ]
  },
  {
   "cell_type": "code",
   "execution_count": 9,
   "id": "0baf5dc0",
   "metadata": {},
   "outputs": [],
   "source": [
    "text = 'The quick brown fox jumped over the lazy dog.'"
   ]
  },
  {
   "cell_type": "code",
   "execution_count": 14,
   "id": "a91eb700",
   "metadata": {},
   "outputs": [
    {
     "data": {
      "text/plain": [
       "['The quick brown',\n",
       " 'quick brown fox',\n",
       " 'brown fox jumped',\n",
       " 'fox jumped over',\n",
       " 'jumped over the',\n",
       " 'over the lazy',\n",
       " 'the lazy dog.']"
      ]
     },
     "execution_count": 14,
     "metadata": {},
     "output_type": "execute_result"
    }
   ],
   "source": [
    "N_grams(text,3)"
   ]
  },
  {
   "cell_type": "code",
   "execution_count": null,
   "id": "088340b0",
   "metadata": {},
   "outputs": [],
   "source": []
  }
 ],
 "metadata": {
  "kernelspec": {
   "display_name": "Python 3 (ipykernel)",
   "language": "python",
   "name": "python3"
  },
  "language_info": {
   "codemirror_mode": {
    "name": "ipython",
    "version": 3
   },
   "file_extension": ".py",
   "mimetype": "text/x-python",
   "name": "python",
   "nbconvert_exporter": "python",
   "pygments_lexer": "ipython3",
   "version": "3.9.12"
  }
 },
 "nbformat": 4,
 "nbformat_minor": 5
}
